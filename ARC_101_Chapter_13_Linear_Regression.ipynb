{
 "cells": [
  {
   "cell_type": "markdown",
   "id": "1478e9f1-363a-4449-823f-7cae846cbbac",
   "metadata": {},
   "source": [
    "#### Linear regression and its extensions continue to be a common and useful method of making predictions when the target vector is a quantitative value (e.g., home price, age)."
   ]
  },
  {
   "attachments": {
    "c6668f6e-c11c-4611-b6a8-b1e3ed5067e7.png": {
     "image/png": "[encoded data removed]"
    }
   },
   "cell_type": "markdown",
   "id": "96c220e9-2b6a-492b-ba7c-ca05b2e7b49d",
   "metadata": {},
   "source": [
    "# Fitting a Line\n",
    "> Linear regression assumes that the relationship between the features and the target vector is approximately linear. That is, the effect (also called coefficient, weight, or parameter) of the features on the target vector is constant.\n",
    "> > For the sake of explanation, we have trained our model using only three features.\n",
    "> > > This means our linear model will be: ![image.png](attachment:c6668f6e-c11c-4611-b6a8-b1e3ed5067e7.png)"
   ]
  },
  {
   "cell_type": "code",
   "execution_count": 1,
   "id": "c690d22f-52ce-4cf3-af31-37c4923bd79f",
   "metadata": {},
   "outputs": [],
   "source": [
    "# If you want to train a model that represents a linear relationship between the feature and target vector.\n",
    "# Use a linear regression (in scikit-learn, LinearRegression)\n",
    "# Load libraries\n",
    "from sklearn.linear_model import LinearRegression\n",
    "from sklearn.datasets import make_regression\n",
    "# Generate features matrix, target vector\n",
    "features, target = make_regression(n_samples = 100,\n",
    "                                 n_features = 3,\n",
    "                                 n_informative = 2,\n",
    "                                 n_targets = 1,\n",
    "                                 noise = 0.2,\n",
    "                                 coef = False,\n",
    "                                 random_state = 1)\n",
    "# Create linear regression\n",
    "regression = LinearRegression()\n",
    "# Fit the linear regression\n",
    "model = regression.fit(features, target)\n"
   ]
  },
  {
   "cell_type": "code",
   "execution_count": 2,
   "id": "56490f07-fa5e-4585-b527-6cd7d0673c0a",
   "metadata": {},
   "outputs": [
    {
     "data": {
      "text/plain": [
       "-0.009650118178816669"
      ]
     },
     "execution_count": 2,
     "metadata": {},
     "output_type": "execute_result"
    }
   ],
   "source": [
    " # β0, also called the bias or intercept, can be viewed using intercept_\n",
    "# View the intercept\n",
    "model.intercept_"
   ]
  },
  {
   "cell_type": "code",
   "execution_count": 3,
   "id": "3b35c3d4-4149-4912-96b3-89dab55a60d6",
   "metadata": {},
   "outputs": [
    {
     "data": {
      "text/plain": [
       "array([1.95531234e-02, 4.42087450e+01, 5.81494563e+01])"
      ]
     },
     "execution_count": 3,
     "metadata": {},
     "output_type": "execute_result"
    }
   ],
   "source": [
    "# β1 and β2 are shown using coef_:\n",
    "# View the feature coefficients\n",
    "model.coef_"
   ]
  },
  {
   "cell_type": "code",
   "execution_count": 4,
   "id": "b73c14e4-ebe6-49fe-af78-508c4e9f6aa3",
   "metadata": {},
   "outputs": [
    {
     "data": {
      "text/plain": [
       "-20.870747595269407"
      ]
     },
     "execution_count": 4,
     "metadata": {},
     "output_type": "execute_result"
    }
   ],
   "source": [
    "# First value in the target vector\n",
    "target[0]"
   ]
  },
  {
   "cell_type": "code",
   "execution_count": 5,
   "id": "cbfa5be1-9aef-4492-aee3-bbaf9959ba12",
   "metadata": {},
   "outputs": [
    {
     "data": {
      "text/plain": [
       "-20.861927709296808"
      ]
     },
     "execution_count": 5,
     "metadata": {},
     "output_type": "execute_result"
    }
   ],
   "source": [
    "# Predict the target value of the first observation\n",
    "model.predict(features)[0]"
   ]
  },
  {
   "cell_type": "code",
   "execution_count": 7,
   "id": "e60ac5af-b3f4-4873-92f1-c2108c91a967",
   "metadata": {},
   "outputs": [
    {
     "name": "stdout",
     "output_type": "stream",
     "text": [
      "0.9999901732607787\n"
     ]
    }
   ],
   "source": [
    "# Using the score function, we can also see how well our model performed on the data:\n",
    "# Print the score of the model on the training data\n",
    "print(model.score(features, target))"
   ]
  },
  {
   "cell_type": "markdown",
   "id": "45943044-fd20-45e3-91cb-855af527229b",
   "metadata": {},
   "source": [
    "- The default score for linear regression in scikit learn is $R^2$, which ranges from 0.0\n",
    "(worst) to 1.0 (best)."
   ]
  },
  {
   "attachments": {
    "d2a20b42-4afe-4131-98a0-789a014526c3.png": {
     "image/png": "[encoded data removed]"
    }
   },
   "cell_type": "markdown",
   "id": "3bdf955e-9e28-4bdd-8a41-e15dafb52790",
   "metadata": {},
   "source": [
    "# Handling Interactive Effects\n",
    "> Sometimes, a feature's impact on the target variable depends on another feature. For example, in a coffee scenario with sugar and stirring as binary features, just adding sugar or stirring alone won't make the coffee taste sweet. It is the interaction of adding sugar and stirring together that creates sweetness. This interaction effect between sugar and stirring impacts the taste of the coffee.\n",
    "> > We can account for interaction effects by including a new feature comprising the product of corresponding values from the interacting features.\n",
    "> > > ![image.png](attachment:d2a20b42-4afe-4131-98a0-789a014526c3.png)\n",
    "\n",
    ">> To create interaction terms using PolynomialFeatures, three important parameters must be set.\n",
    ">> > 1) Setting interaction_only=True ensures only interaction terms are returned.\n",
    ">> > 2) include_bias=False prevents adding a feature with 1s.\n",
    ">> > 3) The degree parameter determines the maximum number of features to create interaction terms from. Checking the output ensures accuracy."
   ]
  },
  {
   "cell_type": "code",
   "execution_count": 8,
   "id": "58c45978-ab24-48c6-af7b-f59b34421499",
   "metadata": {},
   "outputs": [],
   "source": [
    "# If you have a feature whose effect on the target variable depends on another feature.\n",
    "# Create an interaction term to capture that dependence using scikit-learn’s PolynomialFeatures:\n",
    "# Load libraries\n",
    "from sklearn.linear_model import LinearRegression\n",
    "from sklearn.preprocessing import PolynomialFeatures\n",
    "from sklearn.datasets import make_regression\n",
    "# Generate features matrix, target vector\n",
    "features, target = make_regression(n_samples = 100,\n",
    " n_features = 2,\n",
    " n_informative = 2,\n",
    " n_targets = 1,\n",
    " noise = 0.2,\n",
    " coef = False,\n",
    " random_state = 1)\n",
    "# Create interaction term\n",
    "interaction = PolynomialFeatures(degree=3, include_bias=False, interaction_only=True)\n",
    "features_interaction = interaction.fit_transform(features)\n",
    "# Create linear regression\n",
    "regression = LinearRegression()\n",
    "# Fit the linear regression\n",
    "model = regression.fit(features_interaction, target)"
   ]
  },
  {
   "cell_type": "markdown",
   "id": "aca81884-d8a1-4f02-b9d7-158a96bd0f26",
   "metadata": {},
   "source": [
    "# Fitting a Nonlinear Relationship\n",
    "> Creating new features by raising an existing feature, x, to various powers (x^2, x^3, etc.) allows for modeling nonlinear relationships. More new features added means increased flexibility.\n",
    ">> degree determines the maximum number of degrees for the polynomial features. For example, degree=3 will generate $x^2$\n",
    "and $x^3$. Second, by default PolynomialFeatures includes a feature containing only 1s (called a bias). We can remove that by setting include_bias=False."
   ]
  },
  {
   "cell_type": "code",
   "execution_count": 9,
   "id": "873f8e40-4087-44bc-8cf1-23d59af464ce",
   "metadata": {},
   "outputs": [],
   "source": [
    "# If you want to model a nonlinear relationship.\n",
    "# Create a polynomial regression by including polynomial features in a linear regression model:\n",
    "# Load library\n",
    "from sklearn.linear_model import LinearRegression\n",
    "from sklearn.preprocessing import PolynomialFeatures\n",
    "from sklearn.datasets import make_regression\n",
    "# Generate features matrix, target vector\n",
    "features, target = make_regression(n_samples = 100,\n",
    " n_features = 3,\n",
    " n_informative = 2,\n",
    " n_targets = 1,\n",
    " noise = 0.2,\n",
    " coef = False,\n",
    " random_state = 1)\n",
    "\n",
    "# Create polynomial features x^2 and x^3\n",
    "polynomial = PolynomialFeatures(degree=3, include_bias=False)\n",
    "features_polynomial = polynomial.fit_transform(features)\n",
    "# Create linear regression\n",
    "regression = LinearRegression()\n",
    "# Fit the linear regression\n",
    "model = regression.fit(features_polynomial, target)\n"
   ]
  },
  {
   "cell_type": "code",
   "execution_count": 11,
   "id": "c0ff21de-dfaf-45b8-ba06-dfcefd8ce86d",
   "metadata": {},
   "outputs": [
    {
     "data": {
      "text/plain": [
       "(100, 19)"
      ]
     },
     "execution_count": 11,
     "metadata": {},
     "output_type": "execute_result"
    }
   ],
   "source": [
    "features_polynomial.shape"
   ]
  },
  {
   "attachments": {
    "0e9799db-5232-4bcd-b5a5-f431af383532.png": {
     "image/png": "[encoded data removed]"
    }
   },
   "cell_type": "markdown",
   "id": "f56d597a-267d-4101-9108-759a5ef2ed1f",
   "metadata": {},
   "source": [
    "# Reducing Variance with Regularization\n",
    "> In standard linear regression the model trains to minimize the sum of squared error\n",
    "between the true (yi) and prediction ($\\hat y_i$)) target values, or residual sum of squares\n",
    "(RSS):\n",
    "> > ![image.png](attachment:0e9799db-5232-4bcd-b5a5-f431af383532.png)"
   ]
  },
  {
   "attachments": {
    "106e26a4-bb87-4f22-870f-18700f91dbcd.png": {
     "image/png": "[encoded data removed]"
    }
   },
   "cell_type": "markdown",
   "id": "8d8655fb-ddae-4b60-8d4a-75a463633679",
   "metadata": {},
   "source": [
    "> `Regularized regression` learners minimize RSS with a penalty on coefficient size, known as a shrinkage penalty to \"shrink\" the model. Two common types are ridge regression and lasso, differing in shrinkage penalty type. Ridge:\n",
    "> > ![image.png](attachment:106e26a4-bb87-4f22-870f-18700f91dbcd.png)"
   ]
  },
  {
   "attachments": {
    "6cea0aa0-37d2-4849-9672-715a8bfeef4c.png": {
     "image/png": "[encoded data removed]"
    }
   },
   "cell_type": "markdown",
   "id": "3ea6c726-a116-45c2-8387-27eda82dc40b",
   "metadata": {},
   "source": [
    ">The `lasso` is similar, except the shrinkage penalty is a tuning hyper‐parameter multiplied by the sum of the absolute value of all coefficients:\n",
    ">> ![image.png](attachment:6cea0aa0-37d2-4849-9672-715a8bfeef4c.png)"
   ]
  },
  {
   "cell_type": "markdown",
   "id": "6eaf85db-ffff-4cba-a97c-8b42bc515920",
   "metadata": {},
   "source": [
    "> Ridge regression generally has slightly better predictions than lasso, but lasso produces more interpretable models. Elastic net combines both penalties for a balanced approach.\n",
    "> - Both methods penalize large or complex models.\n",
    "> - The hyperparameter, α, lets us control how much we penalize the coefficients, with higher values of α creating simpler models.\n",
    "> - The ideal value of α should be tuned like any other hyperparameter. In scikit-learn, α is set using the `alpha` parameter."
   ]
  },
  {
   "cell_type": "code",
   "execution_count": 1,
   "id": "ca72fa8a-4137-4ffb-acd4-a7c535ec9b7b",
   "metadata": {},
   "outputs": [],
   "source": [
    "# if you want to reduce the variance of your linear regression model\n",
    "# Use a learning algorithm that includes a shrinkage penalty (also called regularization) like ridge regression and lasso regression\n",
    "# Load libraries\n",
    "from sklearn.linear_model import Ridge\n",
    "from sklearn.preprocessing import StandardScaler\n",
    "from sklearn.datasets import make_regression\n",
    "# Generate features matrix, target vector\n",
    "features, target = make_regression(n_samples = 100,\n",
    " n_features = 3,\n",
    " n_informative = 2,\n",
    " n_targets = 1,\n",
    " noise = 0.2,\n",
    " coef = False,\n",
    " random_state = 1)\n",
    "# Standardize features\n",
    "scaler = StandardScaler()\n",
    "features_standardized = scaler.fit_transform(features)\n",
    "# Create ridge regression with an alpha value\n",
    "regression = Ridge(alpha=0.5)\n",
    "# Fit the linear regression\n",
    "model = regression.fit(features_standardized, target)"
   ]
  },
  {
   "cell_type": "code",
   "execution_count": 2,
   "id": "2215c112-3b97-4a8d-b41a-f5760287c274",
   "metadata": {},
   "outputs": [
    {
     "data": {
      "text/plain": [
       "array([1.29223201e-02, 4.40972291e+01, 5.38979372e+01])"
      ]
     },
     "execution_count": 2,
     "metadata": {},
     "output_type": "execute_result"
    }
   ],
   "source": [
    "# scikit-learn includes a RidgeCV method that allows us to select the ideal value for α:\n",
    "# Load library\n",
    "from sklearn.linear_model import RidgeCV\n",
    "# Create ridge regression with three alpha values\n",
    "regr_cv = RidgeCV(alphas=[0.1, 1.0, 10.0])\n",
    "# Fit the linear regression\n",
    "model_cv = regr_cv.fit(features_standardized, target)\n",
    "# View coefficients\n",
    "model_cv.coef_\n",
    "# array([1.29223201e-02, 4.40972291e+01, 5.38979372e+01])"
   ]
  },
  {
   "cell_type": "code",
   "execution_count": 4,
   "id": "f9d2e02a-ff7e-4556-9ca6-22095a049006",
   "metadata": {},
   "outputs": [
    {
     "data": {
      "text/plain": [
       "0.1"
      ]
     },
     "execution_count": 4,
     "metadata": {},
     "output_type": "execute_result"
    }
   ],
   "source": [
    "# We can then easily view the best model’s α value:\n",
    "# View alpha\n",
    "model_cv.alpha_"
   ]
  },
  {
   "cell_type": "markdown",
   "id": "2768ada0-f760-4ebe-bc04-482b766f14e4",
   "metadata": {},
   "source": [
    "- Standardizing features before training in linear regression &amp; regularized models is a must to ensure accurate coefficient values."
   ]
  },
  {
   "cell_type": "markdown",
   "id": "91f58acf-4521-4f54-bdbb-0a9cfdbe20c4",
   "metadata": {},
   "source": [
    "# Reducing Features with Lasso Regression\n",
    "> One interesting characteristic of lasso regression’s penalty is that it can shrink the coefficients of a model to zero, effectively reducing the number of features in the model.\n",
    "> > **For example**, in our solution we set alpha to 0.5, and we can see that many of the coefficients are 0, meaning their corresponding features are not used in the model"
   ]
  },
  {
   "cell_type": "code",
   "execution_count": 5,
   "id": "0d386f76-35eb-4a3e-86df-38a2eb829e97",
   "metadata": {},
   "outputs": [],
   "source": [
    "# If you want to simplify your linear regression model by reducing the number of features.\n",
    "# Use a lasso regression:\n",
    "# Load library\n",
    "from sklearn.linear_model import Lasso\n",
    "from sklearn.preprocessing import StandardScaler\n",
    "from sklearn.datasets import make_regression\n",
    "# Generate features matrix, target vector\n",
    "features, target = make_regression(n_samples = 100,\n",
    " n_features = 3,\n",
    " n_informative = 2,\n",
    " n_targets = 1,\n",
    " noise = 0.2,\n",
    " coef = False,\n",
    " random_state = 1)\n",
    "# Standardize features\n",
    "scaler = StandardScaler()\n",
    "features_standardized = scaler.fit_transform(features)\n",
    "# Create lasso regression with alpha value\n",
    "regression = Lasso(alpha=0.5)\n",
    "# Fit the linear regression\n",
    "model = regression.fit(features_standardized, target)"
   ]
  },
  {
   "cell_type": "code",
   "execution_count": 6,
   "id": "03648877-6ac2-439b-b98e-adb89f73c276",
   "metadata": {},
   "outputs": [
    {
     "data": {
      "text/plain": [
       "array([-0.        , 43.58618393, 53.39523724])"
      ]
     },
     "execution_count": 6,
     "metadata": {},
     "output_type": "execute_result"
    }
   ],
   "source": [
    "# View coefficients\n",
    "model.coef_"
   ]
  },
  {
   "cell_type": "code",
   "execution_count": 7,
   "id": "fc5ade46-7971-4bd7-aae5-3cbbfdd67363",
   "metadata": {},
   "outputs": [
    {
     "data": {
      "text/plain": [
       "array([-0.        , 32.92181899, 42.73086731])"
      ]
     },
     "execution_count": 7,
     "metadata": {},
     "output_type": "execute_result"
    }
   ],
   "source": [
    "# Create lasso regression with a high alpha\n",
    "regression_a10 = Lasso(alpha=10)\n",
    "model_a10 = regression_a10.fit(features_standardized, target)\n",
    "model_a10.coef_"
   ]
  },
  {
   "cell_type": "markdown",
   "id": "bb95348c-7b95-4b69-9843-998d89d36375",
   "metadata": {},
   "source": [
    "- Adjusting Lasso's hyperparameter allows us to include 100 features in the matrix but use only 10 important ones, hence reducing variance."
   ]
  },
  {
   "cell_type": "markdown",
   "id": "b266cdfa-9fcf-4eb2-b1b9-9712b5a41c18",
   "metadata": {},
   "source": [
    "# END OF Chapter 13"
   ]
  }
 ],
 "metadata": {
  "kernelspec": {
   "display_name": "Python (GPU_Kaveh)",
   "language": "python",
   "name": "gpu_kaveh"
  },
  "language_info": {
   "codemirror_mode": {
    "name": "ipython",
    "version": 3
   },
   "file_extension": ".py",
   "mimetype": "text/x-python",
   "name": "python",
   "nbconvert_exporter": "python",
   "pygments_lexer": "ipython3",
   "version": "3.12.4"
  }
 },
 "nbformat": 4,
 "nbformat_minor": 5
}
