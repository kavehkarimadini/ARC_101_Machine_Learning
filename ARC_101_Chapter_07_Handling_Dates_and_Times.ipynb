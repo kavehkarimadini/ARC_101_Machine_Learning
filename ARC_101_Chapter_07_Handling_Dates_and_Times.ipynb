{
 "cells": [
  {
   "cell_type": "markdown",
   "id": "dfe5c17b-5a4b-4594-a066-612af242e48d",
   "metadata": {},
   "source": [
    "# Converting Strings to Dates\n",
    "> When dates and times come as strings, we need to convert them into a data type\n",
    "Python can understand.<br>\n",
    "> - While there are a number of Python tools for converting\n",
    "strings to datetimes,  we can use `to_datetime` to conduct the transformation.\n",
    ">> One obstacle to using strings to represent dates and times is that the format of the strings can vary significantly between\n",
    "data sources.\n",
    ">> > **EXAMPLE:** one vector of dates might represent `March 23, 2015` as\n",
    "`03-23-15` while another might use `3|23|2015`.<br>\n",
    ">> > - We can use the format parameter\n",
    "to specify the exact format of the string. Here are some common date and time\n",
    "formatting codes:\n",
    "\n",
    "> |Code| Description| \t\t\tExample|\n",
    "|----|---------------------------|------|\n",
    "|%Y| Full year \t\t\t|\t2001|\n",
    "|%m| Month w/ zero padding| \t\t04|\n",
    "|%d| Day of the month w/ zero padding| \t09|\n",
    "|%I| Hour (12hr clock) w/ zero padding| \t02|\n",
    "|%p| AM or PM \t\t\t\t|AM|\n",
    "|%M| Minute w/ zero padding| \t\t05|\n",
    "|%S| Second w/ zero padding| \t\t09|"
   ]
  },
  {
   "cell_type": "code",
   "execution_count": 1,
   "id": "00849a59-cc50-4382-9e24-3462782c796e",
   "metadata": {},
   "outputs": [
    {
     "data": {
      "text/plain": [
       "[Timestamp('2005-04-03 23:35:00'),\n",
       " Timestamp('2010-05-23 00:01:00'),\n",
       " Timestamp('2009-09-04 21:09:00')]"
      ]
     },
     "execution_count": 1,
     "metadata": {},
     "output_type": "execute_result"
    }
   ],
   "source": [
    "# If you want to transform a vector of strings representing dates and times into time series data,\n",
    "# use pandas’ to_datetime with the format of the date and/or time specified in the format parameter:\n",
    "# Load libraries\n",
    "import numpy as np\n",
    "import pandas as pd\n",
    "# Create strings\n",
    "date_strings = np.array(['03-04-2005 11:35 PM',\n",
    "'23-05-2010 12:01 AM',\n",
    "'04-09-2009 09:09 PM'])\n",
    "\n",
    "# Convert to datetimes\n",
    "[pd.to_datetime(date, format='%d-%m-%Y %I:%M %p') for date in date_strings]\n",
    "# [Timestamp('2005-04-03 23:35:00'),\n",
    "#  Timestamp('2010-05-23 00:01:00'),\n",
    "#  Timestamp('2009-09-04 21:09:00')]"
   ]
  },
  {
   "cell_type": "code",
   "execution_count": 2,
   "id": "fdd99b8c-c21c-4583-9472-19e353947be1",
   "metadata": {},
   "outputs": [
    {
     "data": {
      "text/plain": [
       "[Timestamp('2005-04-03 23:35:00'),\n",
       " Timestamp('2010-05-23 00:01:00'),\n",
       " Timestamp('2009-09-04 21:09:00')]"
      ]
     },
     "execution_count": 2,
     "metadata": {},
     "output_type": "execute_result"
    }
   ],
   "source": [
    "# We might also want to add an argument to the errors parameter to handle problems:\n",
    "# Convert to datetimes\n",
    "[pd.to_datetime(date, format=\"%d-%m-%Y %I:%M %p\", errors=\"coerce\") for date in date_strings]"
   ]
  },
  {
   "cell_type": "markdown",
   "id": "b2f71437-59e8-4fc4-af39-5628a1a13ee0",
   "metadata": {},
   "source": [
    "> - If `errors=\"coerce\"`, then any problem that occurs will not raise an error (the default\n",
    "behavior) but instead will set the value causing the error to `NaT` (a missing value).\n",
    ">> This allows you to deal with outliers by filling them with null values, as opposed to\n",
    "troubleshooting errors for individual records in the data."
   ]
  },
  {
   "cell_type": "markdown",
   "id": "14279a9d-c4a8-4a8b-b186-98131e2a2307",
   "metadata": {},
   "source": [
    "# Handling Time Zones"
   ]
  },
  {
   "cell_type": "code",
   "execution_count": 4,
   "id": "8fcaf76a-3aa8-442f-98fa-1b3450062642",
   "metadata": {},
   "outputs": [
    {
     "data": {
      "text/plain": [
       "Timestamp('2017-05-01 06:00:00+0100', tz='Europe/London')"
      ]
     },
     "execution_count": 4,
     "metadata": {},
     "output_type": "execute_result"
    }
   ],
   "source": [
    "# When you have time series data and want to add or change time zone information.\n",
    "# Unless specified, pandas objects have no time zone. We can add a time zone using tz during creation:\n",
    "# Load library\n",
    "import pandas as pd\n",
    "# Create datetime\n",
    "pd.Timestamp('2017-05-01 06:00:00', tz='Europe/London')\n",
    "# Timestamp('2017-05-01 06:00:00+0100', tz='Europe/London')"
   ]
  },
  {
   "cell_type": "code",
   "execution_count": 5,
   "id": "afabcdce-86aa-44ad-8b5e-515e5de102b8",
   "metadata": {},
   "outputs": [
    {
     "data": {
      "text/plain": [
       "Timestamp('2017-05-01 06:00:00+0100', tz='Europe/London')"
      ]
     },
     "execution_count": 5,
     "metadata": {},
     "output_type": "execute_result"
    }
   ],
   "source": [
    "# We can add a time zone to a previously created datetime using tz_localize:\n",
    "# Create datetime\n",
    "date = pd.Timestamp('2017-05-01 06:00:00')\n",
    "# Set time zone\n",
    "date_in_london = date.tz_localize('Europe/London')\n",
    "# Show datetime\n",
    "date_in_london\n",
    "# Timestamp('2017-05-01 06:00:00+0100', tz='Europe/London')"
   ]
  },
  {
   "cell_type": "code",
   "execution_count": 6,
   "id": "87cb1165-6706-4c4f-bf57-97dc9208b1ad",
   "metadata": {},
   "outputs": [
    {
     "data": {
      "text/plain": [
       "Timestamp('2017-05-01 05:00:00+0000', tz='Africa/Abidjan')"
      ]
     },
     "execution_count": 6,
     "metadata": {},
     "output_type": "execute_result"
    }
   ],
   "source": [
    "# We also can convert to a different time zone:\n",
    "# Change time zone\n",
    "date_in_london.tz_convert('Africa/Abidjan')\n",
    "# Timestamp('2017-05-01 05:00:00+0000', tz='Africa/Abidjan')"
   ]
  },
  {
   "cell_type": "code",
   "execution_count": 10,
   "id": "4da87bd1-626b-4c67-9ba8-aaf57fdfb588",
   "metadata": {},
   "outputs": [
    {
     "data": {
      "text/plain": [
       "0   2002-02-28 00:00:00+00:00\n",
       "1   2002-03-31 00:00:00+00:00\n",
       "2   2002-04-30 00:00:00+00:00\n",
       "dtype: datetime64[ns, Africa/Abidjan]"
      ]
     },
     "execution_count": 10,
     "metadata": {},
     "output_type": "execute_result"
    }
   ],
   "source": [
    "# Finally, the pandas Series objects can apply tz_localize and tz_convert to every element:\n",
    "# Create three dates\n",
    "dates = pd.Series(pd.date_range('2/2/2002', periods=3, freq='ME'))\n",
    "# Set time zone\n",
    "dates.dt.tz_localize('Africa/Abidjan')"
   ]
  },
  {
   "cell_type": "code",
   "execution_count": 11,
   "id": "084d1d21-607c-4957-bdaa-d239f993b0a2",
   "metadata": {},
   "outputs": [
    {
     "data": {
      "text/plain": [
       "['Africa/Abidjan', 'Africa/Accra']"
      ]
     },
     "execution_count": 11,
     "metadata": {},
     "output_type": "execute_result"
    }
   ],
   "source": [
    "# pandas supports two sets of strings representing timezones; however, I suggest using\n",
    "# the pytz library strings. We can see all the strings used to represent time zones by\n",
    "# importing all_timezones:\n",
    "# Load library\n",
    "from pytz import all_timezones\n",
    "# Show two time zones\n",
    "all_timezones[0:2]\n",
    "# ['Africa/Abidjan', 'Africa/Accra']"
   ]
  },
  {
   "cell_type": "markdown",
   "id": "d1eeadb6-c9b1-4c64-ab40-d56f3e0f41b2",
   "metadata": {},
   "source": [
    "# Selecting Dates and Times\n",
    "> Whether we use boolean conditions or index slicing is situation dependent.\n",
    "> > If we\n",
    "wanted to do some complex time series manipulation, it might be worth the overhead\n",
    "of setting `the date column as the index` of the DataFrame,<br><br>\n",
    "> > but if we wanted to do\n",
    "some simple data wrangling, `the boolean conditions` might be easier."
   ]
  },
  {
   "cell_type": "code",
   "execution_count": 13,
   "id": "1bb63b9a-860a-4de5-808b-8882d52f656d",
   "metadata": {},
   "outputs": [
    {
     "data": {
      "text/html": [
       "<div>\n",
       "<style scoped>\n",
       "    .dataframe tbody tr th:only-of-type {\n",
       "        vertical-align: middle;\n",
       "    }\n",
       "\n",
       "    .dataframe tbody tr th {\n",
       "        vertical-align: top;\n",
       "    }\n",
       "\n",
       "    .dataframe thead th {\n",
       "        text-align: right;\n",
       "    }\n",
       "</style>\n",
       "<table border=\"1\" class=\"dataframe\">\n",
       "  <thead>\n",
       "    <tr style=\"text-align: right;\">\n",
       "      <th></th>\n",
       "      <th>date</th>\n",
       "    </tr>\n",
       "  </thead>\n",
       "  <tbody>\n",
       "    <tr>\n",
       "      <th>8762</th>\n",
       "      <td>2002-01-01 02:00:00</td>\n",
       "    </tr>\n",
       "    <tr>\n",
       "      <th>8763</th>\n",
       "      <td>2002-01-01 03:00:00</td>\n",
       "    </tr>\n",
       "    <tr>\n",
       "      <th>8764</th>\n",
       "      <td>2002-01-01 04:00:00</td>\n",
       "    </tr>\n",
       "  </tbody>\n",
       "</table>\n",
       "</div>"
      ],
      "text/plain": [
       "                    date\n",
       "8762 2002-01-01 02:00:00\n",
       "8763 2002-01-01 03:00:00\n",
       "8764 2002-01-01 04:00:00"
      ]
     },
     "execution_count": 13,
     "metadata": {},
     "output_type": "execute_result"
    }
   ],
   "source": [
    "# When you have a vector of dates and you want to select one or more.\n",
    "# Use two boolean conditions as the start and end dates:\n",
    "# Load library\n",
    "import pandas as pd\n",
    "# Create data frame\n",
    "dataframe = pd.DataFrame()\n",
    "# Create datetimes\n",
    "dataframe['date'] = pd.date_range('1/1/2001', periods=100000, freq='h')\n",
    "# Select observations between two datetimes\n",
    "dataframe[(dataframe['date'] > '2002-1-1 01:00:00') & (dataframe['date'] <= '2002-1-1 04:00:00')]"
   ]
  },
  {
   "cell_type": "code",
   "execution_count": 14,
   "id": "65cd5860-1d11-4c65-97fb-fb3591ec41c3",
   "metadata": {},
   "outputs": [
    {
     "data": {
      "text/html": [
       "<div>\n",
       "<style scoped>\n",
       "    .dataframe tbody tr th:only-of-type {\n",
       "        vertical-align: middle;\n",
       "    }\n",
       "\n",
       "    .dataframe tbody tr th {\n",
       "        vertical-align: top;\n",
       "    }\n",
       "\n",
       "    .dataframe thead th {\n",
       "        text-align: right;\n",
       "    }\n",
       "</style>\n",
       "<table border=\"1\" class=\"dataframe\">\n",
       "  <thead>\n",
       "    <tr style=\"text-align: right;\">\n",
       "      <th></th>\n",
       "      <th>date</th>\n",
       "    </tr>\n",
       "    <tr>\n",
       "      <th>date</th>\n",
       "      <th></th>\n",
       "    </tr>\n",
       "  </thead>\n",
       "  <tbody>\n",
       "    <tr>\n",
       "      <th>2002-01-01 01:00:00</th>\n",
       "      <td>2002-01-01 01:00:00</td>\n",
       "    </tr>\n",
       "    <tr>\n",
       "      <th>2002-01-01 02:00:00</th>\n",
       "      <td>2002-01-01 02:00:00</td>\n",
       "    </tr>\n",
       "    <tr>\n",
       "      <th>2002-01-01 03:00:00</th>\n",
       "      <td>2002-01-01 03:00:00</td>\n",
       "    </tr>\n",
       "    <tr>\n",
       "      <th>2002-01-01 04:00:00</th>\n",
       "      <td>2002-01-01 04:00:00</td>\n",
       "    </tr>\n",
       "  </tbody>\n",
       "</table>\n",
       "</div>"
      ],
      "text/plain": [
       "                                   date\n",
       "date                                   \n",
       "2002-01-01 01:00:00 2002-01-01 01:00:00\n",
       "2002-01-01 02:00:00 2002-01-01 02:00:00\n",
       "2002-01-01 03:00:00 2002-01-01 03:00:00\n",
       "2002-01-01 04:00:00 2002-01-01 04:00:00"
      ]
     },
     "execution_count": 14,
     "metadata": {},
     "output_type": "execute_result"
    }
   ],
   "source": [
    "# Alternatively, we can set the date column as the DataFrame’s index and then slice using loc:\n",
    "# Set index\n",
    "dataframe = dataframe.set_index(dataframe['date'])\n",
    "# Select observations between two datetimes\n",
    "dataframe.loc['2002-1-1 01:00:00':'2002-1-1 04:00:00']"
   ]
  },
  {
   "cell_type": "markdown",
   "id": "2565cc45-792a-4ed7-b6f9-f8d604327a70",
   "metadata": {},
   "source": [
    "# Breaking Up Date Data into Multiple Features\n",
    "> Sometimes it can be useful to break up a column of dates into components. \n",
    ">> **EXAMPLE:** we might want a feature that includes just the year of the observation or\n",
    "we might want to consider only the month of some observations so we can compare\n",
    "them regardless of year."
   ]
  },
  {
   "cell_type": "code",
   "execution_count": 15,
   "id": "da53caff-6160-4624-8150-121dea5744d0",
   "metadata": {},
   "outputs": [
    {
     "data": {
      "text/html": [
       "<div>\n",
       "<style scoped>\n",
       "    .dataframe tbody tr th:only-of-type {\n",
       "        vertical-align: middle;\n",
       "    }\n",
       "\n",
       "    .dataframe tbody tr th {\n",
       "        vertical-align: top;\n",
       "    }\n",
       "\n",
       "    .dataframe thead th {\n",
       "        text-align: right;\n",
       "    }\n",
       "</style>\n",
       "<table border=\"1\" class=\"dataframe\">\n",
       "  <thead>\n",
       "    <tr style=\"text-align: right;\">\n",
       "      <th></th>\n",
       "      <th>date</th>\n",
       "      <th>year</th>\n",
       "      <th>month</th>\n",
       "      <th>day</th>\n",
       "      <th>hour</th>\n",
       "      <th>minute</th>\n",
       "    </tr>\n",
       "  </thead>\n",
       "  <tbody>\n",
       "    <tr>\n",
       "      <th>0</th>\n",
       "      <td>2001-01-07</td>\n",
       "      <td>2001</td>\n",
       "      <td>1</td>\n",
       "      <td>7</td>\n",
       "      <td>0</td>\n",
       "      <td>0</td>\n",
       "    </tr>\n",
       "    <tr>\n",
       "      <th>1</th>\n",
       "      <td>2001-01-14</td>\n",
       "      <td>2001</td>\n",
       "      <td>1</td>\n",
       "      <td>14</td>\n",
       "      <td>0</td>\n",
       "      <td>0</td>\n",
       "    </tr>\n",
       "    <tr>\n",
       "      <th>2</th>\n",
       "      <td>2001-01-21</td>\n",
       "      <td>2001</td>\n",
       "      <td>1</td>\n",
       "      <td>21</td>\n",
       "      <td>0</td>\n",
       "      <td>0</td>\n",
       "    </tr>\n",
       "  </tbody>\n",
       "</table>\n",
       "</div>"
      ],
      "text/plain": [
       "        date  year  month  day  hour  minute\n",
       "0 2001-01-07  2001      1    7     0       0\n",
       "1 2001-01-14  2001      1   14     0       0\n",
       "2 2001-01-21  2001      1   21     0       0"
      ]
     },
     "execution_count": 15,
     "metadata": {},
     "output_type": "execute_result"
    }
   ],
   "source": [
    "# When you have a column of dates and times and you want to create features for year,month, day, hour, and minute.\n",
    "# Use the time properties in pandas Series.dt:\n",
    "# Load library\n",
    "import pandas as pd\n",
    "# Create data frame\n",
    "dataframe = pd.DataFrame()\n",
    "# Create five dates\n",
    "dataframe['date'] = pd.date_range('1/1/2001', periods=150, freq='W')\n",
    "# Create features for year, month, day, hour, and minute\n",
    "dataframe['year'] = dataframe['date'].dt.year\n",
    "dataframe['month'] = dataframe['date'].dt.month\n",
    "dataframe['day'] = dataframe['date'].dt.day\n",
    "dataframe['hour'] = dataframe['date'].dt.hour\n",
    "dataframe['minute'] = dataframe['date'].dt.minute\n",
    "\n",
    "# Show three rows\n",
    "dataframe.head(3)"
   ]
  },
  {
   "cell_type": "markdown",
   "id": "59cb0071-3579-4f96-888d-ae36308427a7",
   "metadata": {},
   "source": [
    "# Calculating the Difference Between Dates\n",
    "> There are times when the feature we want is the change (delta) between two points in\n",
    "time.\n",
    "> > **EXAMPLE:** we might have the dates a customer checks in and checks out of\n",
    "a hotel, but the feature we want is the duration of the customer’s stay.\n",
    "> > >pandas makes\n",
    "this calculation easy using the `TimeDelta` data type."
   ]
  },
  {
   "cell_type": "code",
   "execution_count": 16,
   "id": "eff3d3d0-1119-4609-b6c4-c106b738c438",
   "metadata": {},
   "outputs": [
    {
     "data": {
      "text/plain": [
       "0   0 days\n",
       "1   2 days\n",
       "dtype: timedelta64[ns]"
      ]
     },
     "execution_count": 16,
     "metadata": {},
     "output_type": "execute_result"
    }
   ],
   "source": [
    "# When you have two datetime features and want to calculate the time between them for each observation.\n",
    "# Just subtract the two date features using pandas:\n",
    "# Load library\n",
    "import pandas as pd\n",
    "# Create data frame\n",
    "dataframe = pd.DataFrame()\n",
    "# Create two datetime features\n",
    "dataframe['Arrived'] = [pd.Timestamp('01-01-2017'), pd.Timestamp('01-04-2017')]\n",
    "dataframe['Left'] = [pd.Timestamp('01-01-2017'), pd.Timestamp('01-06-2017')]\n",
    "# Calculate duration between features\n",
    "dataframe['Left'] - dataframe['Arrived']"
   ]
  },
  {
   "cell_type": "code",
   "execution_count": 17,
   "id": "fec51157-a223-4e41-b612-59e092273ae1",
   "metadata": {},
   "outputs": [
    {
     "data": {
      "text/plain": [
       "0    0\n",
       "1    2\n",
       "dtype: int64"
      ]
     },
     "execution_count": 17,
     "metadata": {},
     "output_type": "execute_result"
    }
   ],
   "source": [
    "# Often we will want to remove the days output and keep only the numerical value:\n",
    "# Calculate duration between features\n",
    "pd.Series(delta.days for delta in (dataframe['Left'] - dataframe['Arrived']))"
   ]
  },
  {
   "cell_type": "markdown",
   "id": "5d9f7834-b465-41f6-a5bc-e8cc38003ad9",
   "metadata": {},
   "source": [
    "# Encoding Days of the Week\n",
    "> - Knowing the weekday can be helpful if, for instance, we wanted to compare total\n",
    "sales on Sundays for the past three years. "
   ]
  },
  {
   "cell_type": "code",
   "execution_count": 19,
   "id": "1a8d228e-b8c7-4af0-87c1-34f5ac665c13",
   "metadata": {},
   "outputs": [
    {
     "data": {
      "text/plain": [
       "0    Thursday\n",
       "1      Sunday\n",
       "2     Tuesday\n",
       "dtype: object"
      ]
     },
     "execution_count": 19,
     "metadata": {},
     "output_type": "execute_result"
    }
   ],
   "source": [
    "# When you have a vector of dates and want to know the day of the week for each date.\n",
    "# Use the pandas Series.dt method day_name():\n",
    "# Load library\n",
    "import pandas as pd\n",
    "# Create dates\n",
    "dates = pd.Series(pd.date_range(\"2/2/2002\", periods=3, freq=\"ME\"))\n",
    "# Show days of the week\n",
    "dates.dt.day_name()"
   ]
  },
  {
   "cell_type": "code",
   "execution_count": 20,
   "id": "cd286a93-4b74-4618-8164-0f0b31db9855",
   "metadata": {},
   "outputs": [
    {
     "data": {
      "text/plain": [
       "0    3\n",
       "1    6\n",
       "2    1\n",
       "dtype: int32"
      ]
     },
     "execution_count": 20,
     "metadata": {},
     "output_type": "execute_result"
    }
   ],
   "source": [
    "# If we want the output to be a numerical value and therefore more usable as a machine\n",
    "# learning feature, we can use weekday where the days of the week are represented as\n",
    "# integers (Monday is 0):\n",
    "# Show days of the week\n",
    "dates.dt.weekday"
   ]
  },
  {
   "cell_type": "markdown",
   "id": "f560136e-6fcf-4306-a858-2207542a7f18",
   "metadata": {},
   "source": [
    "# Creating a Lagged Feature\n",
    "> Very often data is based on regularly spaced time periods (e.g., every day, every\n",
    "hour, every three hours) and we are interested in using values in the past to make\n",
    "predictions (often called lagging a feature).\n",
    "> > **EXAMPLE:** we might want to predict a\n",
    "stock’s price using the price it was the day before.\n",
    "> > > With `pandas` we can use `shift` to\n",
    "lag values by one row, creating a new feature containing past values."
   ]
  },
  {
   "cell_type": "code",
   "execution_count": 21,
   "id": "b53a0ec5-0349-454a-96ee-d411553a4910",
   "metadata": {},
   "outputs": [
    {
     "data": {
      "text/html": [
       "<div>\n",
       "<style scoped>\n",
       "    .dataframe tbody tr th:only-of-type {\n",
       "        vertical-align: middle;\n",
       "    }\n",
       "\n",
       "    .dataframe tbody tr th {\n",
       "        vertical-align: top;\n",
       "    }\n",
       "\n",
       "    .dataframe thead th {\n",
       "        text-align: right;\n",
       "    }\n",
       "</style>\n",
       "<table border=\"1\" class=\"dataframe\">\n",
       "  <thead>\n",
       "    <tr style=\"text-align: right;\">\n",
       "      <th></th>\n",
       "      <th>dates</th>\n",
       "      <th>stock_price</th>\n",
       "      <th>previous_days_stock_price</th>\n",
       "    </tr>\n",
       "  </thead>\n",
       "  <tbody>\n",
       "    <tr>\n",
       "      <th>0</th>\n",
       "      <td>2001-01-01</td>\n",
       "      <td>1.1</td>\n",
       "      <td>NaN</td>\n",
       "    </tr>\n",
       "    <tr>\n",
       "      <th>1</th>\n",
       "      <td>2001-01-02</td>\n",
       "      <td>2.2</td>\n",
       "      <td>1.1</td>\n",
       "    </tr>\n",
       "    <tr>\n",
       "      <th>2</th>\n",
       "      <td>2001-01-03</td>\n",
       "      <td>3.3</td>\n",
       "      <td>2.2</td>\n",
       "    </tr>\n",
       "    <tr>\n",
       "      <th>3</th>\n",
       "      <td>2001-01-04</td>\n",
       "      <td>4.4</td>\n",
       "      <td>3.3</td>\n",
       "    </tr>\n",
       "    <tr>\n",
       "      <th>4</th>\n",
       "      <td>2001-01-05</td>\n",
       "      <td>5.5</td>\n",
       "      <td>4.4</td>\n",
       "    </tr>\n",
       "  </tbody>\n",
       "</table>\n",
       "</div>"
      ],
      "text/plain": [
       "       dates  stock_price  previous_days_stock_price\n",
       "0 2001-01-01          1.1                        NaN\n",
       "1 2001-01-02          2.2                        1.1\n",
       "2 2001-01-03          3.3                        2.2\n",
       "3 2001-01-04          4.4                        3.3\n",
       "4 2001-01-05          5.5                        4.4"
      ]
     },
     "execution_count": 21,
     "metadata": {},
     "output_type": "execute_result"
    }
   ],
   "source": [
    "# When you want to create a feature that is lagged n time periods.\n",
    "# Use the pandas shift method:\n",
    "# Load library\n",
    "import pandas as pd\n",
    "# Create data frame\n",
    "dataframe = pd.DataFrame()\n",
    "# Create data\n",
    "dataframe[\"dates\"] = pd.date_range(\"1/1/2001\", periods=5, freq=\"D\")\n",
    "dataframe[\"stock_price\"] = [1.1,2.2,3.3,4.4,5.5]\n",
    "# Lagged values by one row\n",
    "dataframe[\"previous_days_stock_price\"] = dataframe[\"stock_price\"].shift(1)\n",
    "# Show data frame\n",
    "dataframe"
   ]
  },
  {
   "cell_type": "markdown",
   "id": "93578683-1408-4673-903b-964b4fcea67e",
   "metadata": {},
   "source": [
    "# Using Rolling Time Windows\n",
    "> Rolling (also called moving) time windows are conceptually simple but can be difficult\n",
    "to understand at first. Imagine we have monthly observations for a stock’s price. It is\n",
    "often useful to have a time window of a certain number of months and then move\n",
    "over the observations calculating a statistic for all observations in the time window\n",
    ">__________________________________\n",
    "> Another way to put it: our three-month time window “walks” over the observations,\n",
    "calculating the window’s mean at each step.\n",
    "\n",
    ">> The pandas rolling method allows us to specify the size of the window by using\n",
    "window and then quickly calculate some common statistics, including the max value\n",
    "`(max()), mean value (mean()), count of values (count())`, and `rolling correlation`\n",
    "`(corr())`.\n",
    "\n",
    ">>> - `Rolling means` are often used to `smooth time series data` because using the mean of\n",
    "the entire time window dampens the effect of short-term fluctuations."
   ]
  },
  {
   "cell_type": "code",
   "execution_count": 23,
   "id": "70545433-fa56-4e12-9b68-e517a1411eff",
   "metadata": {},
   "outputs": [
    {
     "data": {
      "text/html": [
       "<div>\n",
       "<style scoped>\n",
       "    .dataframe tbody tr th:only-of-type {\n",
       "        vertical-align: middle;\n",
       "    }\n",
       "\n",
       "    .dataframe tbody tr th {\n",
       "        vertical-align: top;\n",
       "    }\n",
       "\n",
       "    .dataframe thead th {\n",
       "        text-align: right;\n",
       "    }\n",
       "</style>\n",
       "<table border=\"1\" class=\"dataframe\">\n",
       "  <thead>\n",
       "    <tr style=\"text-align: right;\">\n",
       "      <th></th>\n",
       "      <th>Stock_Price</th>\n",
       "    </tr>\n",
       "  </thead>\n",
       "  <tbody>\n",
       "    <tr>\n",
       "      <th>2010-01-31</th>\n",
       "      <td>NaN</td>\n",
       "    </tr>\n",
       "    <tr>\n",
       "      <th>2010-02-28</th>\n",
       "      <td>1.5</td>\n",
       "    </tr>\n",
       "    <tr>\n",
       "      <th>2010-03-31</th>\n",
       "      <td>2.5</td>\n",
       "    </tr>\n",
       "    <tr>\n",
       "      <th>2010-04-30</th>\n",
       "      <td>3.5</td>\n",
       "    </tr>\n",
       "    <tr>\n",
       "      <th>2010-05-31</th>\n",
       "      <td>4.5</td>\n",
       "    </tr>\n",
       "  </tbody>\n",
       "</table>\n",
       "</div>"
      ],
      "text/plain": [
       "            Stock_Price\n",
       "2010-01-31          NaN\n",
       "2010-02-28          1.5\n",
       "2010-03-31          2.5\n",
       "2010-04-30          3.5\n",
       "2010-05-31          4.5"
      ]
     },
     "execution_count": 23,
     "metadata": {},
     "output_type": "execute_result"
    }
   ],
   "source": [
    "# Given time series data, you want to calculate a statistic for a rolling time.\n",
    "# Use the pandas DataFrame rolling method:\n",
    "# Load library\n",
    "import pandas as pd\n",
    "# Create datetimes\n",
    "time_index = pd.date_range(\"01/01/2010\", periods=5, freq=\"ME\")\n",
    "# Create data frame, set index\n",
    "dataframe = pd.DataFrame(index=time_index)\n",
    "# Create feature\n",
    "dataframe[\"Stock_Price\"] = [1,2,3,4,5]\n",
    "# Calculate rolling mean\n",
    "dataframe.rolling(window=2).mean()"
   ]
  },
  {
   "cell_type": "markdown",
   "id": "a6729d28-4174-41a7-b02d-925d57d71bba",
   "metadata": {},
   "source": [
    "# Handling Missing Data in Time Series\n",
    "> Interpolation is a technique for filling gaps caused by missing values by, in effect,\n",
    "drawing a line or curve between the known values bordering the gap and using that\n",
    "line or curve to predict reasonable values.\n",
    "> > **Note:** Interpolation can be particularly useful\n",
    "when the time intervals are constant, the data is not prone to noisy fluctuations, and\n",
    "the gaps caused by missing values are small. "
   ]
  },
  {
   "cell_type": "code",
   "execution_count": 25,
   "id": "49164327-e1b2-4fbf-98a2-95e6a4c94064",
   "metadata": {},
   "outputs": [
    {
     "data": {
      "text/html": [
       "<div>\n",
       "<style scoped>\n",
       "    .dataframe tbody tr th:only-of-type {\n",
       "        vertical-align: middle;\n",
       "    }\n",
       "\n",
       "    .dataframe tbody tr th {\n",
       "        vertical-align: top;\n",
       "    }\n",
       "\n",
       "    .dataframe thead th {\n",
       "        text-align: right;\n",
       "    }\n",
       "</style>\n",
       "<table border=\"1\" class=\"dataframe\">\n",
       "  <thead>\n",
       "    <tr style=\"text-align: right;\">\n",
       "      <th></th>\n",
       "      <th>Sales</th>\n",
       "    </tr>\n",
       "  </thead>\n",
       "  <tbody>\n",
       "    <tr>\n",
       "      <th>2010-01-31</th>\n",
       "      <td>1.0</td>\n",
       "    </tr>\n",
       "    <tr>\n",
       "      <th>2010-02-28</th>\n",
       "      <td>2.0</td>\n",
       "    </tr>\n",
       "    <tr>\n",
       "      <th>2010-03-31</th>\n",
       "      <td>3.0</td>\n",
       "    </tr>\n",
       "    <tr>\n",
       "      <th>2010-04-30</th>\n",
       "      <td>4.0</td>\n",
       "    </tr>\n",
       "    <tr>\n",
       "      <th>2010-05-31</th>\n",
       "      <td>5.0</td>\n",
       "    </tr>\n",
       "  </tbody>\n",
       "</table>\n",
       "</div>"
      ],
      "text/plain": [
       "            Sales\n",
       "2010-01-31    1.0\n",
       "2010-02-28    2.0\n",
       "2010-03-31    3.0\n",
       "2010-04-30    4.0\n",
       "2010-05-31    5.0"
      ]
     },
     "execution_count": 25,
     "metadata": {},
     "output_type": "execute_result"
    }
   ],
   "source": [
    "# In addition to the missing data strategies previously discussed, when we have time\n",
    "# series data we can use interpolation to fill gaps caused by missing values:\n",
    "# Load libraries\n",
    "import pandas as pd\n",
    "import numpy as np\n",
    "# Create date\n",
    "time_index = pd.date_range(\"01/01/2010\", periods=5, freq=\"ME\")\n",
    "# Create data frame, set index\n",
    "dataframe = pd.DataFrame(index=time_index)\n",
    "# Create feature with a gap of missing values\n",
    "dataframe[\"Sales\"] = [1.0,2.0,np.nan,np.nan,5.0]\n",
    "# Interpolate missing values\n",
    "dataframe.interpolate()"
   ]
  },
  {
   "cell_type": "markdown",
   "id": "3f7bdda7-c47c-452b-a417-6f0728092119",
   "metadata": {},
   "source": [
    "### `Back filling` and `forward filling` are forms of naive interpolation, where we draw a flat line from a known value and use it to fill in missing values. \n",
    "- One (minor) advantage\n",
    "back filling and forward filling have over interpolation is that they don’t require\n",
    "known values on both sides of missing values"
   ]
  },
  {
   "cell_type": "code",
   "execution_count": 26,
   "id": "bd1f1dc3-afb5-47ab-9cd6-578974edd5e9",
   "metadata": {},
   "outputs": [
    {
     "data": {
      "text/html": [
       "<div>\n",
       "<style scoped>\n",
       "    .dataframe tbody tr th:only-of-type {\n",
       "        vertical-align: middle;\n",
       "    }\n",
       "\n",
       "    .dataframe tbody tr th {\n",
       "        vertical-align: top;\n",
       "    }\n",
       "\n",
       "    .dataframe thead th {\n",
       "        text-align: right;\n",
       "    }\n",
       "</style>\n",
       "<table border=\"1\" class=\"dataframe\">\n",
       "  <thead>\n",
       "    <tr style=\"text-align: right;\">\n",
       "      <th></th>\n",
       "      <th>Sales</th>\n",
       "    </tr>\n",
       "  </thead>\n",
       "  <tbody>\n",
       "    <tr>\n",
       "      <th>2010-01-31</th>\n",
       "      <td>1.0</td>\n",
       "    </tr>\n",
       "    <tr>\n",
       "      <th>2010-02-28</th>\n",
       "      <td>2.0</td>\n",
       "    </tr>\n",
       "    <tr>\n",
       "      <th>2010-03-31</th>\n",
       "      <td>2.0</td>\n",
       "    </tr>\n",
       "    <tr>\n",
       "      <th>2010-04-30</th>\n",
       "      <td>2.0</td>\n",
       "    </tr>\n",
       "    <tr>\n",
       "      <th>2010-05-31</th>\n",
       "      <td>5.0</td>\n",
       "    </tr>\n",
       "  </tbody>\n",
       "</table>\n",
       "</div>"
      ],
      "text/plain": [
       "            Sales\n",
       "2010-01-31    1.0\n",
       "2010-02-28    2.0\n",
       "2010-03-31    2.0\n",
       "2010-04-30    2.0\n",
       "2010-05-31    5.0"
      ]
     },
     "execution_count": 26,
     "metadata": {},
     "output_type": "execute_result"
    }
   ],
   "source": [
    "# Alternatively, we can replace missing values with the last known value (i.e., forward filling):\n",
    "# Forward fill\n",
    "dataframe.ffill()"
   ]
  },
  {
   "cell_type": "code",
   "execution_count": 27,
   "id": "452ec0c8-6b05-43df-8df1-f4ad499f8e4c",
   "metadata": {},
   "outputs": [
    {
     "data": {
      "text/html": [
       "<div>\n",
       "<style scoped>\n",
       "    .dataframe tbody tr th:only-of-type {\n",
       "        vertical-align: middle;\n",
       "    }\n",
       "\n",
       "    .dataframe tbody tr th {\n",
       "        vertical-align: top;\n",
       "    }\n",
       "\n",
       "    .dataframe thead th {\n",
       "        text-align: right;\n",
       "    }\n",
       "</style>\n",
       "<table border=\"1\" class=\"dataframe\">\n",
       "  <thead>\n",
       "    <tr style=\"text-align: right;\">\n",
       "      <th></th>\n",
       "      <th>Sales</th>\n",
       "    </tr>\n",
       "  </thead>\n",
       "  <tbody>\n",
       "    <tr>\n",
       "      <th>2010-01-31</th>\n",
       "      <td>1.0</td>\n",
       "    </tr>\n",
       "    <tr>\n",
       "      <th>2010-02-28</th>\n",
       "      <td>2.0</td>\n",
       "    </tr>\n",
       "    <tr>\n",
       "      <th>2010-03-31</th>\n",
       "      <td>5.0</td>\n",
       "    </tr>\n",
       "    <tr>\n",
       "      <th>2010-04-30</th>\n",
       "      <td>5.0</td>\n",
       "    </tr>\n",
       "    <tr>\n",
       "      <th>2010-05-31</th>\n",
       "      <td>5.0</td>\n",
       "    </tr>\n",
       "  </tbody>\n",
       "</table>\n",
       "</div>"
      ],
      "text/plain": [
       "            Sales\n",
       "2010-01-31    1.0\n",
       "2010-02-28    2.0\n",
       "2010-03-31    5.0\n",
       "2010-04-30    5.0\n",
       "2010-05-31    5.0"
      ]
     },
     "execution_count": 27,
     "metadata": {},
     "output_type": "execute_result"
    }
   ],
   "source": [
    "# We can also replace missing values with the latest known value (i.e., back filling):\n",
    "# Backfill\n",
    "dataframe.bfill()"
   ]
  },
  {
   "cell_type": "code",
   "execution_count": 28,
   "id": "17b6284e-1d18-43b0-8704-95de6991d972",
   "metadata": {},
   "outputs": [
    {
     "data": {
      "text/html": [
       "<div>\n",
       "<style scoped>\n",
       "    .dataframe tbody tr th:only-of-type {\n",
       "        vertical-align: middle;\n",
       "    }\n",
       "\n",
       "    .dataframe tbody tr th {\n",
       "        vertical-align: top;\n",
       "    }\n",
       "\n",
       "    .dataframe thead th {\n",
       "        text-align: right;\n",
       "    }\n",
       "</style>\n",
       "<table border=\"1\" class=\"dataframe\">\n",
       "  <thead>\n",
       "    <tr style=\"text-align: right;\">\n",
       "      <th></th>\n",
       "      <th>Sales</th>\n",
       "    </tr>\n",
       "  </thead>\n",
       "  <tbody>\n",
       "    <tr>\n",
       "      <th>2010-01-31</th>\n",
       "      <td>1.000000</td>\n",
       "    </tr>\n",
       "    <tr>\n",
       "      <th>2010-02-28</th>\n",
       "      <td>2.000000</td>\n",
       "    </tr>\n",
       "    <tr>\n",
       "      <th>2010-03-31</th>\n",
       "      <td>3.059808</td>\n",
       "    </tr>\n",
       "    <tr>\n",
       "      <th>2010-04-30</th>\n",
       "      <td>4.038069</td>\n",
       "    </tr>\n",
       "    <tr>\n",
       "      <th>2010-05-31</th>\n",
       "      <td>5.000000</td>\n",
       "    </tr>\n",
       "  </tbody>\n",
       "</table>\n",
       "</div>"
      ],
      "text/plain": [
       "               Sales\n",
       "2010-01-31  1.000000\n",
       "2010-02-28  2.000000\n",
       "2010-03-31  3.059808\n",
       "2010-04-30  4.038069\n",
       "2010-05-31  5.000000"
      ]
     },
     "execution_count": 28,
     "metadata": {},
     "output_type": "execute_result"
    }
   ],
   "source": [
    "# If we believe the line between the two known points is nonlinear, we can use\n",
    "# interpolate’s method parameter to specify the interpolation method:\n",
    "# Interpolate missing values\n",
    "dataframe.interpolate(method=\"quadratic\")"
   ]
  },
  {
   "cell_type": "markdown",
   "id": "29d4b940-91e3-4990-a85c-23e0de56b25b",
   "metadata": {},
   "source": [
    "- Finally, we may have large gaps of missing values but do not want to interpolate\n",
    "values across the entire gap. In these cases we can use `limit` to restrict the number\n",
    "of interpolated values and `limit_direction` to set whether to interpolate values\n",
    "forward from the last known value before the gap or vice versa:"
   ]
  },
  {
   "cell_type": "code",
   "execution_count": 29,
   "id": "f872dc2f-2517-4137-84d4-39e47612cd30",
   "metadata": {},
   "outputs": [
    {
     "data": {
      "text/html": [
       "<div>\n",
       "<style scoped>\n",
       "    .dataframe tbody tr th:only-of-type {\n",
       "        vertical-align: middle;\n",
       "    }\n",
       "\n",
       "    .dataframe tbody tr th {\n",
       "        vertical-align: top;\n",
       "    }\n",
       "\n",
       "    .dataframe thead th {\n",
       "        text-align: right;\n",
       "    }\n",
       "</style>\n",
       "<table border=\"1\" class=\"dataframe\">\n",
       "  <thead>\n",
       "    <tr style=\"text-align: right;\">\n",
       "      <th></th>\n",
       "      <th>Sales</th>\n",
       "    </tr>\n",
       "  </thead>\n",
       "  <tbody>\n",
       "    <tr>\n",
       "      <th>2010-01-31</th>\n",
       "      <td>1.0</td>\n",
       "    </tr>\n",
       "    <tr>\n",
       "      <th>2010-02-28</th>\n",
       "      <td>2.0</td>\n",
       "    </tr>\n",
       "    <tr>\n",
       "      <th>2010-03-31</th>\n",
       "      <td>3.0</td>\n",
       "    </tr>\n",
       "    <tr>\n",
       "      <th>2010-04-30</th>\n",
       "      <td>NaN</td>\n",
       "    </tr>\n",
       "    <tr>\n",
       "      <th>2010-05-31</th>\n",
       "      <td>5.0</td>\n",
       "    </tr>\n",
       "  </tbody>\n",
       "</table>\n",
       "</div>"
      ],
      "text/plain": [
       "            Sales\n",
       "2010-01-31    1.0\n",
       "2010-02-28    2.0\n",
       "2010-03-31    3.0\n",
       "2010-04-30    NaN\n",
       "2010-05-31    5.0"
      ]
     },
     "execution_count": 29,
     "metadata": {},
     "output_type": "execute_result"
    }
   ],
   "source": [
    "# Interpolate missing values\n",
    "dataframe.interpolate(limit=1, limit_direction=\"forward\")"
   ]
  },
  {
   "cell_type": "markdown",
   "id": "4d6d5f44-72aa-42fa-92f5-61320a1ef7d1",
   "metadata": {},
   "source": [
    "# END of Chapter 7 --> Handling dates and time series data"
   ]
  }
 ],
 "metadata": {
  "kernelspec": {
   "display_name": "GPU_Kaveh",
   "language": "python",
   "name": "gpu_kaveh"
  },
  "language_info": {
   "codemirror_mode": {
    "name": "ipython",
    "version": 3
   },
   "file_extension": ".py",
   "mimetype": "text/x-python",
   "name": "python",
   "nbconvert_exporter": "python",
   "pygments_lexer": "ipython3",
   "version": "3.12.2"
  }
 },
 "nbformat": 4,
 "nbformat_minor": 5
}
