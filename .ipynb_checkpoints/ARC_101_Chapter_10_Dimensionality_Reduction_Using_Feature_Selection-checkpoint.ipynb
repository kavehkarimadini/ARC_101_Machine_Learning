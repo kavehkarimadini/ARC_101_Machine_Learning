{
 "cells": [
  {
   "cell_type": "markdown",
   "id": "e6d32650-63f9-456f-a60c-a3ea277fb288",
   "metadata": {},
   "source": [
    "# Introduction\n",
    "> Feature Selection:\n",
    "> > selecting high-quality, informative features and dropping less useful features.\n",
    "> ______________________________\n",
    "> Three types of feature selection methods:\n",
    "> 1. `Filter methods` select the best features by examining their statistical properties.\n",
    "> > Methods where we explicitly set a threshold for a statistic or manually select the number\n",
    "of features we want to keep are examples of feature selection by filtering.\n",
    "> 2. `Wrapper methods` use trial and error to find the subset of features that produces models with\n",
    "the highest quality predictions.\n",
    "> > Wrapper methods are often the most effective, as they find the best result through actual experimentation as opposed to naive assumptions.\n",
    "> 3. `Embedded methods` select the best feature subset as part of, as an extension of, a learning algorithm’s training process."
   ]
  },
  {
   "attachments": {
    "a202bd67-3869-4da1-9dd4-7f58e0efb7ad.png": {
     "image/png": "[encoded data removed]"
    }
   },
   "cell_type": "markdown",
   "id": "933d3152-2ff3-402d-91da-fa9fbcfccd66",
   "metadata": {},
   "source": [
    "# Thresholding Numerical Feature Variance\n",
    "> `Variance thresholding (VT)` is an example of feature selection by filtering, and one of\n",
    "the most basic approaches to feature selection. It is motivated by the idea that features\n",
    "with low variance are likely less interesting (and less useful) than features with high\n",
    "variance.\n",
    "> > VT first calculates the variance of each feature:<br>\n",
    "> > ![image.png](attachment:a202bd67-3869-4da1-9dd4-7f58e0efb7ad.png)\n",
    "\n",
    "> > where x is the feature vector, xi is an individual feature value, and μ is that feature’s\n",
    "mean value. ---> It drops all features whose variance does not meet that threshold.\n",
    "> ________________________________________\n",
    "> 2 key point:\n",
    "> > 1. The variance is not centered (it is in the squared unit of the feature itself), so VT will not work\n",
    "when feature sets contain different units (e.g., one feature is in years while another is in dollars).\n",
    ">> 2. The variance threshold is selected manually, so we have to use our own judgment for a good value to select \n"
   ]
  },
  {
   "cell_type": "code",
   "execution_count": 1,
   "id": "5e32c0c0-e1ff-4f02-bcb0-a17494d37121",
   "metadata": {},
   "outputs": [
    {
     "data": {
      "text/plain": [
       "array([[5.1, 1.4, 0.2],\n",
       "       [4.9, 1.4, 0.2],\n",
       "       [4.7, 1.3, 0.2]])"
      ]
     },
     "execution_count": 1,
     "metadata": {},
     "output_type": "execute_result"
    }
   ],
   "source": [
    "# If you have a set of numerical features and want to filter out those with low variance(i.e., likely containing little information),\n",
    "# just select a subset of features with variances above a given threshold:\n",
    "# Load libraries\n",
    "from sklearn import datasets\n",
    "from sklearn.feature_selection import VarianceThreshold\n",
    "# Import some data to play with\n",
    "iris = datasets.load_iris()\n",
    "# Create features and target\n",
    "features = iris.data\n",
    "target = iris.target\n",
    "# Create thresholder\n",
    "thresholder = VarianceThreshold(threshold=.5)\n",
    "# Create high variance feature matrix\n",
    "features_high_variance = thresholder.fit_transform(features)\n",
    "# View high variance feature matrix\n",
    "features_high_variance[0:3]\n",
    "# array([[ 5.1, 1.4, 0.2],\n",
    "#  [ 4.9, 1.4, 0.2],\n",
    "#  [ 4.7, 1.3, 0.2]])"
   ]
  },
  {
   "cell_type": "code",
   "execution_count": 2,
   "id": "1e188b7e-8fed-496b-a2f3-c85cb4118333",
   "metadata": {},
   "outputs": [
    {
     "data": {
      "text/plain": [
       "array([0.68112222, 0.18871289, 3.09550267, 0.57713289])"
      ]
     },
     "execution_count": 2,
     "metadata": {},
     "output_type": "execute_result"
    }
   ],
   "source": [
    "# We can see the variance for each feature using variances_:\n",
    "# View variances\n",
    "thresholder.fit(features).variances_\n",
    "# array([0.68112222, 0.18871289, 3.09550267, 0.57713289])"
   ]
  },
  {
   "cell_type": "code",
   "execution_count": 3,
   "id": "5fac7d32-1a2a-47ba-8cdb-be7865e8ce5f",
   "metadata": {},
   "outputs": [
    {
     "data": {
      "text/plain": [
       "array([1., 1., 1., 1.])"
      ]
     },
     "execution_count": 3,
     "metadata": {},
     "output_type": "execute_result"
    }
   ],
   "source": [
    "# If the features have been standardized (to mean zero and unit variance), then\n",
    "# for obvious reasons VT will not work correctly:\n",
    "# Load library\n",
    "from sklearn.preprocessing import StandardScaler\n",
    "# Standardize feature matrix\n",
    "scaler = StandardScaler()\n",
    "features_std = scaler.fit_transform(features)\n",
    "# Caculate variance of each feature\n",
    "selector = VarianceThreshold()\n",
    "selector.fit(features_std).variances_\n",
    "# array([1., 1., 1., 1.])"
   ]
  },
  {
   "attachments": {
    "c7effb8c-8211-4d72-9408-3b4898357ce1.png": {
     "image/png": "[encoded data removed]"
    }
   },
   "cell_type": "markdown",
   "id": "86541061-6953-409c-b1f1-f53b720ff6e5",
   "metadata": {},
   "source": [
    "# Thresholding Binary Feature Variance\n",
    "> As with numerical features, one strategy for selecting highly informative categorical\n",
    "features and filtering out less informative ones is to examine their variances.\n",
    "> > In binary features (i.e., Bernoulli random variables), variance is calculated as:<br>\n",
    ">> ![image.png](attachment:c7effb8c-8211-4d72-9408-3b4898357ce1.png)\n",
    "\n",
    ">> - Where p is the proportion of observations of class 1. Therefore, by setting p, we can\n",
    "remove features where the vast majority of observations are one class.\n"
   ]
  },
  {
   "cell_type": "code",
   "execution_count": 4,
   "id": "ce974d5e-cbbf-4bb3-881b-10ab22bcd1f1",
   "metadata": {},
   "outputs": [
    {
     "data": {
      "text/plain": [
       "array([[0],\n",
       "       [1],\n",
       "       [0],\n",
       "       [1],\n",
       "       [0]])"
      ]
     },
     "execution_count": 4,
     "metadata": {},
     "output_type": "execute_result"
    }
   ],
   "source": [
    "# If you have a set of binary categorical features and want to filter out those with low variance (likely containing little information).\n",
    "# just select a subset of features with a Bernoulli random variable variance above a given threshold:\n",
    "# Load library\n",
    "from sklearn.feature_selection import VarianceThreshold\n",
    "# Create feature matrix with:\n",
    "# Feature 0: 80% class 0\n",
    "# Feature 1: 80% class 1\n",
    "# Feature 2: 60% class 0, 40% class 1\n",
    "features = [[0, 1, 0],\n",
    "         [0, 1, 1],\n",
    "         [0, 1, 0],\n",
    "         [0, 1, 1],\n",
    "         [1, 0, 0]]\n",
    "# Run threshold by variance\n",
    "thresholder = VarianceThreshold(threshold=(.75 * (1 - .75)))\n",
    "thresholder.fit_transform(features)\n",
    "# array([[0],\n",
    "#  [1],\n",
    "#  [0],\n",
    "#  [1],\n",
    "#  [0]])"
   ]
  },
  {
   "cell_type": "markdown",
   "id": "93e7febe-24fb-4aec-9ff5-0e3be5207aa4",
   "metadata": {},
   "source": [
    "# Handling Highly Correlated Features\n",
    "> One problem we often run into in machine learning is highly correlated features.\n",
    "> > If two features are highly correlated, then the information they contain is very similar,\n",
    "and it is likely redundant to include both features.<br>\n",
    "> > In the case of simple models like linear regression, failing to remove such features violates the assumptions of linear\n",
    "regression and can result in an `artificially inflated R-squared value`.\n",
    "\n",
    "\n",
    "> > The solution to highly correlated features is simple:\n",
    "> > > remove one of them from the feature set. you can do it by setting a correlation threshold\n"
   ]
  },
  {
   "cell_type": "code",
   "execution_count": 5,
   "id": "01b08f1c-d8cd-48cb-93bb-34663b4ed40e",
   "metadata": {},
   "outputs": [
    {
     "data": {
      "text/html": [
       "<div>\n",
       "<style scoped>\n",
       "    .dataframe tbody tr th:only-of-type {\n",
       "        vertical-align: middle;\n",
       "    }\n",
       "\n",
       "    .dataframe tbody tr th {\n",
       "        vertical-align: top;\n",
       "    }\n",
       "\n",
       "    .dataframe thead th {\n",
       "        text-align: right;\n",
       "    }\n",
       "</style>\n",
       "<table border=\"1\" class=\"dataframe\">\n",
       "  <thead>\n",
       "    <tr style=\"text-align: right;\">\n",
       "      <th></th>\n",
       "      <th>0</th>\n",
       "      <th>2</th>\n",
       "    </tr>\n",
       "  </thead>\n",
       "  <tbody>\n",
       "    <tr>\n",
       "      <th>0</th>\n",
       "      <td>1</td>\n",
       "      <td>1</td>\n",
       "    </tr>\n",
       "    <tr>\n",
       "      <th>1</th>\n",
       "      <td>2</td>\n",
       "      <td>0</td>\n",
       "    </tr>\n",
       "    <tr>\n",
       "      <th>2</th>\n",
       "      <td>3</td>\n",
       "      <td>1</td>\n",
       "    </tr>\n",
       "  </tbody>\n",
       "</table>\n",
       "</div>"
      ],
      "text/plain": [
       "   0  2\n",
       "0  1  1\n",
       "1  2  0\n",
       "2  3  1"
      ]
     },
     "execution_count": 5,
     "metadata": {},
     "output_type": "execute_result"
    }
   ],
   "source": [
    "# If you have a feature matrix and suspect some features are highly correlated,\n",
    "# use a correlation matrix to check for highly correlated features. \n",
    "# If highly correlated features exist, consider dropping one of the correlated features:\n",
    "# Load libraries\n",
    "import pandas as pd\n",
    "import numpy as np\n",
    "# Create feature matrix with two highly correlated features\n",
    "features = np.array([[1, 1, 1],\n",
    "                     [2, 2, 0],\n",
    "                     [3, 3, 1],\n",
    "                     [4, 4, 0],\n",
    "                     [5, 5, 1],\n",
    "                     [6, 6, 0],\n",
    "                     [7, 7, 1],\n",
    "                     [8, 7, 0],\n",
    "                     [9, 7, 1]])\n",
    "\n",
    "# Convert feature matrix into DataFrame\n",
    "dataframe = pd.DataFrame(features)\n",
    "# Create correlation matrix\n",
    "corr_matrix = dataframe.corr().abs()\n",
    "# Select upper triangle of correlation matrix\n",
    "upper = corr_matrix.where(np.triu(np.ones(corr_matrix.shape),\n",
    " k=1).astype(bool))\n",
    "# Find index of feature columns with correlation greater than 0.95\n",
    "to_drop = [column for column in upper.columns if any(upper[column] > 0.95)]\n",
    "# Drop features\n",
    "dataframe.drop(dataframe.columns[to_drop], axis=1).head(3)"
   ]
  },
  {
   "cell_type": "code",
   "execution_count": 6,
   "id": "35c987ce-0aa1-401e-982f-bdbadf5796d3",
   "metadata": {},
   "outputs": [
    {
     "data": {
      "text/html": [
       "<div>\n",
       "<style scoped>\n",
       "    .dataframe tbody tr th:only-of-type {\n",
       "        vertical-align: middle;\n",
       "    }\n",
       "\n",
       "    .dataframe tbody tr th {\n",
       "        vertical-align: top;\n",
       "    }\n",
       "\n",
       "    .dataframe thead th {\n",
       "        text-align: right;\n",
       "    }\n",
       "</style>\n",
       "<table border=\"1\" class=\"dataframe\">\n",
       "  <thead>\n",
       "    <tr style=\"text-align: right;\">\n",
       "      <th></th>\n",
       "      <th>0</th>\n",
       "      <th>1</th>\n",
       "      <th>2</th>\n",
       "    </tr>\n",
       "  </thead>\n",
       "  <tbody>\n",
       "    <tr>\n",
       "      <th>0</th>\n",
       "      <td>1.000000</td>\n",
       "      <td>0.976103</td>\n",
       "      <td>0.000000</td>\n",
       "    </tr>\n",
       "    <tr>\n",
       "      <th>1</th>\n",
       "      <td>0.976103</td>\n",
       "      <td>1.000000</td>\n",
       "      <td>-0.034503</td>\n",
       "    </tr>\n",
       "    <tr>\n",
       "      <th>2</th>\n",
       "      <td>0.000000</td>\n",
       "      <td>-0.034503</td>\n",
       "      <td>1.000000</td>\n",
       "    </tr>\n",
       "  </tbody>\n",
       "</table>\n",
       "</div>"
      ],
      "text/plain": [
       "          0         1         2\n",
       "0  1.000000  0.976103  0.000000\n",
       "1  0.976103  1.000000 -0.034503\n",
       "2  0.000000 -0.034503  1.000000"
      ]
     },
     "execution_count": 6,
     "metadata": {},
     "output_type": "execute_result"
    }
   ],
   "source": [
    "# In above code, first we create a correlation matrix of all features:\n",
    "# Correlation matrix\n",
    "dataframe.corr()"
   ]
  },
  {
   "cell_type": "code",
   "execution_count": 7,
   "id": "143f720c-1351-46f8-8010-3e18984ffa18",
   "metadata": {},
   "outputs": [
    {
     "data": {
      "text/html": [
       "<div>\n",
       "<style scoped>\n",
       "    .dataframe tbody tr th:only-of-type {\n",
       "        vertical-align: middle;\n",
       "    }\n",
       "\n",
       "    .dataframe tbody tr th {\n",
       "        vertical-align: top;\n",
       "    }\n",
       "\n",
       "    .dataframe thead th {\n",
       "        text-align: right;\n",
       "    }\n",
       "</style>\n",
       "<table border=\"1\" class=\"dataframe\">\n",
       "  <thead>\n",
       "    <tr style=\"text-align: right;\">\n",
       "      <th></th>\n",
       "      <th>0</th>\n",
       "      <th>1</th>\n",
       "      <th>2</th>\n",
       "    </tr>\n",
       "  </thead>\n",
       "  <tbody>\n",
       "    <tr>\n",
       "      <th>0</th>\n",
       "      <td>NaN</td>\n",
       "      <td>0.976103</td>\n",
       "      <td>0.000000</td>\n",
       "    </tr>\n",
       "    <tr>\n",
       "      <th>1</th>\n",
       "      <td>NaN</td>\n",
       "      <td>NaN</td>\n",
       "      <td>0.034503</td>\n",
       "    </tr>\n",
       "    <tr>\n",
       "      <th>2</th>\n",
       "      <td>NaN</td>\n",
       "      <td>NaN</td>\n",
       "      <td>NaN</td>\n",
       "    </tr>\n",
       "  </tbody>\n",
       "</table>\n",
       "</div>"
      ],
      "text/plain": [
       "    0         1         2\n",
       "0 NaN  0.976103  0.000000\n",
       "1 NaN       NaN  0.034503\n",
       "2 NaN       NaN       NaN"
      ]
     },
     "execution_count": 7,
     "metadata": {},
     "output_type": "execute_result"
    }
   ],
   "source": [
    "# Second, we look at the upper triangle of the correlation matrix to identify pairs of highly correlated features:\n",
    "# Upper triangle of correlation matrix\n",
    "upper\n",
    "# Third, we remove one feature from each of those pairs."
   ]
  },
  {
   "attachments": {
    "fb68ccd5-1fa9-4408-bdd5-ad975c034c79.png": {
     "image/png": "[encoded data removed]"
    }
   },
   "cell_type": "markdown",
   "id": "b84cfacc-1d5c-44e3-ac6b-eb88f9210b87",
   "metadata": {},
   "source": [
    "# Removing Irrelevant Features for Classification\n",
    "> `Chi-square` statistics examine the independence of two categorical vectors.\n",
    "> > The statistic is the difference between the observed number of observations in each\n",
    "class of a categorical feature and what we would expect if that feature were independent (no relationship) of the target vector:<br><br>\n",
    "> > ![image.png](attachment:fb68ccd5-1fa9-4408-bdd5-ad975c034c79.png)\n",
    "\n",
    "> > where Oi is the number of observed observations in class i, and Ei is the number of expected observations in class i.\n",
    ">__________________________________________________\n",
    "> A chi-squared statistic is a single number that tells you how much difference exists\n",
    "between your observed counts and the counts you would expect if there were no relationship at all in the population.\n",
    "> > By calculating the chi-squared statistic between a feature and the target vector, we obtain a measurement of the independence between\n",
    "the two.\n",
    "> > > - If the target is independent of the feature variable, then it is irrelevant for\n",
    "our purposes because it contains no information we can use for classification.\n",
    ">>> - On the other hand, if the two features are highly dependent, they likely are very informative for training our model.\n",
    ">___________________________________________________\n",
    "> To use chi-squared in feature selection, we `calculate the chi-squared` statistic `between`\n",
    "each `feature` and the `target` vector, then select the features with the best chi-square statistics.\n",
    "> > In `scikit-learn`, we can use `SelectKBest` to select them.\n",
    "> > >The parameter `k` determines the number of features we want to keep and filters out the least informative features.\n",
    ">___________________________________________\n",
    "> **Note:**\n",
    "> 1. Chi-square statistics can be calculated only between two categorical vectors (both the target vector and the features must be categorical).\n",
    "> > If we have a numerical feature we can use the chi-squared technique by first transforming\n",
    "the quantitative feature into a categorical feature.\n",
    "> 2. To use our chi-squared approach, all values need to be `non negative`.\n",
    ">_____________________________________________\n",
    "> Numerical feature:\n",
    "> >We can use `f_classif` to calculate the `ANOVA F-value statistic` with each feature and the target vector.\n",
    "> >> `F-value` scores examine if, when we group the numerical feature by the target vector, the means for\n",
    "each group are significantly different.\n",
    "> >> > **Example:** if we had a binary target vector, gender, and a quantitative feature, test scores, the F-value score would tell us if the\n",
    "mean test score for men is different than the mean test score for women. If it is not, then test score doesn’t help us predict gender and therefore the feature is irrelevant.\n",
    "\n"
   ]
  },
  {
   "cell_type": "code",
   "execution_count": 8,
   "id": "7951ee41-d447-4e26-844f-85a885e872ef",
   "metadata": {},
   "outputs": [
    {
     "name": "stdout",
     "output_type": "stream",
     "text": [
      "Original number of features: 4\n",
      "Reduced number of features: 2\n"
     ]
    }
   ],
   "source": [
    "# If you have a categorical target vector and want to remove uninformative features,\n",
    "# for the features that are categorical, \n",
    "# just calculate a chi-square (χ2) statistic between each feature and the target vector:\n",
    "# Load libraries\n",
    "from sklearn.datasets import load_iris\n",
    "from sklearn.feature_selection import SelectKBest\n",
    "from sklearn.feature_selection import chi2, f_classif\n",
    "# Load data\n",
    "iris = load_iris()\n",
    "features = iris.data\n",
    "target = iris.target\n",
    "# Convert to categorical data by converting data to integers\n",
    "features = features.astype(int)\n",
    "# Select two features with highest chi-squared statistics\n",
    "chi2_selector = SelectKBest(chi2, k=2)\n",
    "features_kbest = chi2_selector.fit_transform(features, target)\n",
    "# Show results\n",
    "print(\"Original number of features:\", features.shape[1])\n",
    "print(\"Reduced number of features:\", features_kbest.shape[1])"
   ]
  },
  {
   "cell_type": "code",
   "execution_count": 9,
   "id": "5dd2940c-e647-4541-9b8f-fe98010025b4",
   "metadata": {},
   "outputs": [
    {
     "name": "stdout",
     "output_type": "stream",
     "text": [
      "Original number of features: 4\n",
      "Reduced number of features: 2\n"
     ]
    }
   ],
   "source": [
    "# If the features are quantitative, \n",
    "# compute the ANOVA F-value between each feature and the target vector:\n",
    "# Select two features with highest F-values\n",
    "fvalue_selector = SelectKBest(f_classif, k=2)\n",
    "features_kbest = fvalue_selector.fit_transform(features, target)\n",
    "# Show results\n",
    "print(\"Original number of features:\", features.shape[1])\n",
    "print(\"Reduced number of features:\", features_kbest.shape[1])\n",
    "# Original number of features: 4\n",
    "# Reduced number of features: 2"
   ]
  },
  {
   "cell_type": "code",
   "execution_count": 10,
   "id": "4bd77054-e0c0-4d5d-80fb-1d745e463b31",
   "metadata": {},
   "outputs": [
    {
     "name": "stdout",
     "output_type": "stream",
     "text": [
      "Original number of features: 4\n",
      "Reduced number of features: 3\n"
     ]
    }
   ],
   "source": [
    "# Instead of selecting a specific number of features,\n",
    "# we can use SelectPercentile to select the top n percent of features:\n",
    "# Load library\n",
    "from sklearn.feature_selection import SelectPercentile\n",
    "# Select top 75% of features with highest F-values\n",
    "fvalue_selector = SelectPercentile(f_classif, percentile=75)\n",
    "features_kbest = fvalue_selector.fit_transform(features, target)\n",
    "# Show results\n",
    "print(\"Original number of features:\", features.shape[1])\n",
    "print(\"Reduced number of features:\", features_kbest.shape[1])"
   ]
  },
  {
   "cell_type": "markdown",
   "id": "b868fd87-f845-4a41-9156-478d1bcfa82d",
   "metadata": {},
   "source": [
    "# Recursively Eliminating Features\n",
    "> The idea behind RFE is to train a model repeatedly, updating the weights or\n",
    "coefficients of that model each time.\n",
    "> > The first time we train the model, we include all the features. Then, we find the feature with the smallest parameter (notice that this\n",
    "assumes the features are either rescaled or standardized), meaning it is less important, and remove that feature from the feature set.\n",
    "> ___________________________________________\n",
    "> We can use `CV` to find the optimum number of features to keep during RFE.\n",
    "> In RFE with CV, after every iteration we use cross-validation to evaluate our model.\n",
    "> > If CV shows that our model improved after we eliminated a feature, then we continue on to the next loop. However, if CV shows that our model got worse after we eliminated a feature, we put that feature back into the feature set and select those features as the best.\n",
    ">_______________________________\n",
    "> In `scikit-learn`, `RFE with CV` is implemented using `RFECV`, which contains a number\n",
    "of important parameters:\n",
    "> > 1. The `estimator` parameter determines the type of model we want to train (e.g., linear regression),\n",
    "> > 2. the `step` parameter sets the number or proportion of features to drop during each loop,\n",
    "> > 3. the `scoring` parameter sets the metric of quality we use to evaluate our model during cross-validation."
   ]
  },
  {
   "cell_type": "code",
   "execution_count": 11,
   "id": "97dd34bf-0a77-46a1-9784-b971f64d04f2",
   "metadata": {},
   "outputs": [
    {
     "data": {
      "text/plain": [
       "array([[ 0.00850799,  0.7031277 ,  1.02069177],\n",
       "       [-1.07500204,  2.56148527,  0.10585966],\n",
       "       [ 1.37940721, -1.77039484, -0.53049556],\n",
       "       ...,\n",
       "       [-0.80331656, -1.60648007,  0.25921194],\n",
       "       [ 0.39508844, -1.34564911, -1.80744499],\n",
       "       [-0.55383035,  0.82880112,  0.76876009]])"
      ]
     },
     "execution_count": 11,
     "metadata": {},
     "output_type": "execute_result"
    }
   ],
   "source": [
    "# If you want to automatically select the best features to keep,\n",
    "# use scikit-learn’s RFECV to conduct recursive feature elimination (RFE) using cross-validation (CV). \n",
    "# That is, use the wrapper feature selection method and repeatedly train a model, each time removing a feature,\n",
    "# until model performance (e.g., accuracy) becomes worse,\n",
    "# the remaining features are the best:\n",
    "# Load libraries\n",
    "import warnings\n",
    "from sklearn.datasets import make_regression\n",
    "from sklearn.feature_selection import RFECV\n",
    "from sklearn import datasets, linear_model\n",
    "# Suppress an annoying but harmless warning\n",
    "warnings.filterwarnings(action=\"ignore\", module=\"scipy\",\n",
    " message=\"^internal gelsd\")\n",
    "# Generate features matrix, target vector, and the true coefficients\n",
    "features, target = make_regression(n_samples = 10000,\n",
    "                                 n_features = 100,\n",
    "                                 n_informative = 2,\n",
    "                                 random_state = 1)\n",
    "# Create a linear regression\n",
    "ols = linear_model.LinearRegression()\n",
    "# Recursively eliminate features\n",
    "rfecv = RFECV(estimator=ols, step=1, scoring=\"neg_mean_squared_error\")\n",
    "rfecv.fit(features, target)\n",
    "rfecv.transform(features)\n",
    "# array([[ 0.00850799, 0.7031277 , 1.52821875],\n",
    "#  [-1.07500204, 2.56148527, -0.44567768],\n",
    "#  [ 1.37940721, -1.77039484, -0.74675125],\n",
    "#  ...,\n",
    "#  [-0.80331656, -1.60648007, 0.52231601],\n",
    "#  [ 0.39508844, -1.34564911, 0.4228057 ],\n",
    "#  [-0.55383035, 0.82880112, 1.73232647]])"
   ]
  },
  {
   "cell_type": "code",
   "execution_count": 12,
   "id": "0771499c-d9b1-4ff4-8ee4-7402fa8944b6",
   "metadata": {},
   "outputs": [
    {
     "data": {
      "text/plain": [
       "3"
      ]
     },
     "execution_count": 12,
     "metadata": {},
     "output_type": "execute_result"
    }
   ],
   "source": [
    "# Once we have conducted RFE, we can see the number of features we should keep:\n",
    "# Number of best features\n",
    "rfecv.n_features_\n",
    "# 3"
   ]
  },
  {
   "cell_type": "code",
   "execution_count": 13,
   "id": "5e935718-ca58-4e56-9133-6a3b52646fb6",
   "metadata": {},
   "outputs": [
    {
     "data": {
      "text/plain": [
       "array([False, False, False, False, False,  True, False, False, False,\n",
       "       False, False, False, False, False, False, False, False, False,\n",
       "       False, False, False, False, False, False, False, False, False,\n",
       "       False, False, False, False, False, False, False, False, False,\n",
       "       False, False, False,  True, False, False, False, False, False,\n",
       "       False, False, False, False, False, False, False, False, False,\n",
       "       False, False, False, False, False, False, False, False, False,\n",
       "       False, False, False, False, False, False, False, False, False,\n",
       "       False, False, False, False, False, False, False, False, False,\n",
       "       False, False, False, False, False, False, False, False, False,\n",
       "       False, False, False, False, False, False,  True, False, False,\n",
       "       False])"
      ]
     },
     "execution_count": 13,
     "metadata": {},
     "output_type": "execute_result"
    }
   ],
   "source": [
    "# We can also see which of those features we should keep:\n",
    "# Which categories are best\n",
    "rfecv.support_"
   ]
  },
  {
   "cell_type": "code",
   "execution_count": 15,
   "id": "5ea715b6-bab0-428d-837a-8e1444b555b8",
   "metadata": {},
   "outputs": [
    {
     "data": {
      "text/plain": [
       "array([55, 54, 53, 17, 97,  1, 69, 12, 26, 58, 49, 35, 14,  9, 42, 24, 73,\n",
       "        6, 93, 32, 75, 19, 65, 45, 20, 23, 59, 91, 74, 29, 41, 16,  5, 88,\n",
       "       57, 90, 43, 86, 50,  1, 30, 47,  2, 76, 48, 60, 28, 40, 51, 37, 15,\n",
       "        8, 31, 83, 98,  4, 96, 70, 67, 56, 71, 10, 25, 66, 89, 46, 63, 33,\n",
       "       34, 92,  7, 11, 82, 87, 68, 72, 39, 61, 22, 81,  3, 78, 27, 38, 44,\n",
       "       18, 94, 62, 79, 36, 95, 13, 80, 52, 85, 84,  1, 21, 77, 64])"
      ]
     },
     "execution_count": 15,
     "metadata": {},
     "output_type": "execute_result"
    }
   ],
   "source": [
    "# We can even view the rankings of the features:\n",
    "# Rank features best (1) to worst\n",
    "rfecv.ranking_"
   ]
  },
  {
   "cell_type": "markdown",
   "id": "42807999-4ff1-4336-b5c8-5ec8a3e32fb0",
   "metadata": {},
   "source": [
    "# END of chapter 10 --> dimension reduction using feature selection"
   ]
  }
 ],
 "metadata": {
  "kernelspec": {
   "display_name": "GPU_Kaveh",
   "language": "python",
   "name": "gpu_kaveh"
  },
  "language_info": {
   "codemirror_mode": {
    "name": "ipython",
    "version": 3
   },
   "file_extension": ".py",
   "mimetype": "text/x-python",
   "name": "python",
   "nbconvert_exporter": "python",
   "pygments_lexer": "ipython3",
   "version": "3.12.2"
  }
 },
 "nbformat": 4,
 "nbformat_minor": 5
}
