{
 "cells": [
  {
   "cell_type": "markdown",
   "id": "d1589456-a43a-4774-9a44-8e3db10d5346",
   "metadata": {},
   "source": [
    "> # Intro:\n",
    "> The first step in any machine learning endeavor is to get the raw data into our system.\n",
    "The raw data might be a logfile, dataset file, database, or cloud blob store such as\n",
    "Amazon S3.\n",
    ">> Furthermore, often we will want to retrieve data from multiple sources."
   ]
  },
  {
   "cell_type": "markdown",
   "id": "589c9478-0518-4f9d-96bd-af9c3df2ae66",
   "metadata": {},
   "source": [
    "# Loading a Sample Dataset\n",
    "> If you want to load a pre-existing sample dataset, scikit-learn comes with a number of popular datasets for you to use:"
   ]
  },
  {
   "cell_type": "code",
   "execution_count": 8,
   "id": "6d541b83-14b5-466a-bcaa-b285eb924ceb",
   "metadata": {},
   "outputs": [
    {
     "data": {
      "text/plain": [
       "array([ 0.,  0.,  5., 13.,  9.,  1.,  0.,  0.,  0.,  0., 13., 15., 10.,\n",
       "       15.,  5.,  0.,  0.,  3., 15.,  2.,  0., 11.,  8.,  0.,  0.,  4.,\n",
       "       12.,  0.,  0.,  8.,  8.,  0.,  0.,  5.,  8.,  0.,  0.,  9.,  8.,\n",
       "        0.,  0.,  4., 11.,  0.,  1., 12.,  7.,  0.,  0.,  2., 14.,  5.,\n",
       "       10., 12.,  0.,  0.,  0.,  0.,  6., 13., 10.,  0.,  0.,  0.])"
      ]
     },
     "execution_count": 8,
     "metadata": {},
     "output_type": "execute_result"
    }
   ],
   "source": [
    "# Load scikit-learn's datasets\n",
    "from sklearn import datasets\n",
    "import numpy as np\n",
    "# Load digits dataset\n",
    "digits = datasets.load_digits()\n",
    "# Create features matrix\n",
    "features = digits.data\n",
    "# Create target vector\n",
    "target = digits.target\n",
    "# View first observation\n",
    "features[0]\n",
    "# array([ 0., 0., 5., 13., 9., 1., 0., 0., 0., 0., 13.,\n",
    "#  15., 10., 15., 5., 0., 0., 3., 15., 2., 0., 11.,\n",
    "#  8., 0., 0., 4., 12., 0., 0., 8., 8., 0., 0.,\n",
    "#  5., 8., 0., 0., 9., 8., 0., 0., 4., 11., 0.,\n",
    "#  1., 12., 7., 0., 0., 2., 14., 5., 10., 12., 0.,\n",
    "#  0., 0., 0., 6., 13., 10., 0., 0., 0.])"
   ]
  },
  {
   "cell_type": "code",
   "execution_count": 9,
   "id": "57991893-f901-485d-968d-a3eb14b0e266",
   "metadata": {},
   "outputs": [
    {
     "data": {
      "text/plain": [
       "(64, 0)"
      ]
     },
     "execution_count": 9,
     "metadata": {},
     "output_type": "execute_result"
    }
   ],
   "source": [
    "len(features[0]),target[0]"
   ]
  },
  {
   "cell_type": "code",
   "execution_count": 10,
   "id": "cf1519ef-80e9-4cc1-9fd9-a2b422dc88cf",
   "metadata": {},
   "outputs": [
    {
     "data": {
      "text/plain": [
       "array([0, 1, 2, 3, 4, 5, 6, 7, 8, 9])"
      ]
     },
     "execution_count": 10,
     "metadata": {},
     "output_type": "execute_result"
    }
   ],
   "source": [
    "np.unique(target)"
   ]
  },
  {
   "cell_type": "markdown",
   "id": "13412149-f374-4b5a-8fec-65afa61619ee",
   "metadata": {},
   "source": [
    "> Often we do not want to go through the work of loading, transforming, and cleaning\n",
    "a real-world dataset before we can explore some machine learning algorithm.\n",
    "> ________________________________________________\n",
    "> Luckily, scikit-learn comes with some common datasets we can quickly load.\n",
    ">> These datasets are often called “toy” datasets because they are far smaller and cleaner\n",
    "than a dataset we would see in the real world.<br><br>\n",
    ">> Some popular sample datasets in\n",
    "scikit-learn are:\n",
    ">> * load_iris\n",
    ">>> Contains 150 observations on the measurements of iris flowers. It is a good\n",
    "dataset for exploring classification algorithms.\n",
    ">> * load_digits\n",
    ">>> Contains 1,797 observations from images of handwritten digits. It is a good\n",
    "dataset for teaching image classification. "
   ]
  },
  {
   "cell_type": "code",
   "execution_count": 11,
   "id": "2a5b421a-01b1-4ca5-8e91-a1dc01b79cac",
   "metadata": {
    "scrolled": true
   },
   "outputs": [
    {
     "name": "stdout",
     "output_type": "stream",
     "text": [
      ".. _digits_dataset:\n",
      "\n",
      "Optical recognition of handwritten digits dataset\n",
      "--------------------------------------------------\n",
      "\n",
      "**Data Set Characteristics:**\n",
      "\n",
      "    :Number of Instances: 1797\n",
      "    :Number of Attributes: 64\n",
      "    :Attribute Information: 8x8 image of integer pixels in the range 0..16.\n",
      "    :Missing Attribute Values: None\n",
      "    :Creator: E. Alpaydin (alpaydin '@' boun.edu.tr)\n",
      "    :Date: July; 1998\n",
      "\n",
      "This is a copy of the test set of the UCI ML hand-written digits datasets\n",
      "https://archive.ics.uci.edu/ml/datasets/Optical+Recognition+of+Handwritten+Digits\n",
      "\n",
      "The data set contains images of hand-written digits: 10 classes where\n",
      "each class refers to a digit.\n",
      "\n",
      "Preprocessing programs made available by NIST were used to extract\n",
      "normalized bitmaps of handwritten digits from a preprinted form. From a\n",
      "total of 43 people, 30 contributed to the training set and different 13\n",
      "to the test set. 32x32 bitmaps are divided into nonoverlapping blocks of\n",
      "4x4 and the number of on pixels are counted in each block. This generates\n",
      "an input matrix of 8x8 where each element is an integer in the range\n",
      "0..16. This reduces dimensionality and gives invariance to small\n",
      "distortions.\n",
      "\n",
      "For info on NIST preprocessing routines, see M. D. Garris, J. L. Blue, G.\n",
      "T. Candela, D. L. Dimmick, J. Geist, P. J. Grother, S. A. Janet, and C.\n",
      "L. Wilson, NIST Form-Based Handprint Recognition System, NISTIR 5469,\n",
      "1994.\n",
      "\n",
      "|details-start|\n",
      "**References**\n",
      "|details-split|\n",
      "\n",
      "- C. Kaynak (1995) Methods of Combining Multiple Classifiers and Their\n",
      "  Applications to Handwritten Digit Recognition, MSc Thesis, Institute of\n",
      "  Graduate Studies in Science and Engineering, Bogazici University.\n",
      "- E. Alpaydin, C. Kaynak (1998) Cascading Classifiers, Kybernetika.\n",
      "- Ken Tang and Ponnuthurai N. Suganthan and Xi Yao and A. Kai Qin.\n",
      "  Linear dimensionalityreduction using relevance weighted LDA. School of\n",
      "  Electrical and Electronic Engineering Nanyang Technological University.\n",
      "  2005.\n",
      "- Claudio Gentile. A New Approximate Maximal Margin Classification\n",
      "  Algorithm. NIPS. 2000.\n",
      "\n",
      "|details-end|\n"
     ]
    }
   ],
   "source": [
    "# To see more details on any of these datasets, you can print the DESCR attribute:\n",
    "# Load scikit-learn's datasets\n",
    "from sklearn import datasets\n",
    "# Load digits dataset\n",
    "digits = datasets.load_digits()\n",
    "# Print the attribute\n",
    "print(digits.DESCR)"
   ]
  },
  {
   "cell_type": "markdown",
   "id": "c60924ef-4758-4e84-b87c-0764b1a76216",
   "metadata": {},
   "source": [
    "# Creating a Simulated Dataset:\n",
    "> If you need to generate a dataset of simulated data, scikit-learn offers many methods for creating simulated data.\n",
    ">> Three of them are particularly useful:\n",
    ">> 1. make_regression\n",
    ">> 2. make_classification\n",
    ">> 3. make_blobs"
   ]
  },
  {
   "cell_type": "markdown",
   "id": "9f1797d9-c34c-4794-99cd-3658f959b071",
   "metadata": {},
   "source": [
    "> In make_regression and make_classification, n_informative determines the\n",
    "number of features that are used to generate the target vector.\n",
    "> --\n",
    ">> * If n_informative\n",
    "is less than the total number of features (n_features), the resulting dataset will have\n",
    "redundant features that can be identified through feature selection techniques.<br><br>\n",
    ">> * Uniquely, make_classification contains a weights parameter that allows us to\n",
    "simulate datasets with imbalanced classes. For example, `weights = [.25, .75]`\n",
    "would return a dataset with `25%` of observations belonging to one class and `75%` of\n",
    "observations belonging to a second class."
   ]
  },
  {
   "cell_type": "code",
   "execution_count": 13,
   "id": "31bdeda6-9ad3-44b8-97fa-6eefbd07e703",
   "metadata": {},
   "outputs": [
    {
     "name": "stdout",
     "output_type": "stream",
     "text": [
      "Feature Matrix\n",
      " [[ 1.29322588e+00 -6.17362064e-01 -1.10447026e-01]\n",
      " [-2.79308500e+00  3.66332015e-01  1.93752881e+00]\n",
      " [ 8.01861032e-01 -1.86569772e-01  4.65672984e-02]\n",
      " [ 1.29101580e-01  5.02740882e-01  1.61694960e+00]\n",
      " [-6.91660752e-01 -6.87172700e-01 -3.96753527e-01]\n",
      " [-7.54397941e-01  5.12929820e-01  1.25286816e+00]\n",
      " [ 1.90465871e+00  6.59049796e-01  1.11105670e+00]\n",
      " [ 2.01830179e-01  1.79215821e+00  6.61020288e-01]\n",
      " [ 4.22137467e-02 -1.10061918e+00  5.82815214e-01]\n",
      " [-1.39649634e+00 -5.04465863e-01 -1.44411381e+00]\n",
      " [-3.10116774e-01  1.03882460e+00 -2.43483776e+00]\n",
      " [ 8.36004719e-01  7.58805660e-01  1.54335911e+00]\n",
      " [-8.45080274e-02  4.17302005e-01 -2.97361883e-01]\n",
      " [-8.90555584e-01  1.95607890e+00 -1.11911540e+00]\n",
      " [-9.35769434e-01  5.30355467e-01 -2.67888080e-01]\n",
      " [ 1.55880554e+00 -1.21974440e+00  1.09402696e-01]\n",
      " [ 8.10951673e-01 -4.00878192e-01  1.04444209e+00]\n",
      " [ 4.36689932e-02  1.33145711e+00 -2.26314243e-01]\n",
      " [ 7.42044161e-01 -8.87628964e-01 -1.91835552e-01]\n",
      " [ 1.69382433e-01 -9.53700602e-01  7.40556451e-01]\n",
      " [-1.61577235e+00  4.08900538e-01  1.12141771e+00]\n",
      " [ 2.19069973e+00 -6.46916688e-01 -1.89636092e+00]\n",
      " [ 1.39984394e+00 -4.37508983e-01 -7.81911683e-01]\n",
      " [ 8.24005618e-01  1.95487808e+00 -5.62305431e-01]\n",
      " [ 1.74481176e+00  3.19039096e-01 -7.61206901e-01]\n",
      " [-1.52568032e+00 -3.74438319e-01  7.95026094e-01]\n",
      " [-1.30572692e+00 -2.30839743e-01 -3.44987210e-01]\n",
      " [-1.01745873e-01  7.50411640e-01  8.68886157e-01]\n",
      " [-1.33195167e+00 -1.65072127e+00 -1.76068856e+00]\n",
      " [-1.27255876e+00  5.03184813e-01  3.13547720e-01]\n",
      " [-1.12201873e+00 -9.97026828e-01 -5.17094458e-01]\n",
      " [ 9.00855949e-01 -1.22890226e-01 -6.83727859e-01]\n",
      " [-2.02220122e+00  8.27974643e-01 -3.06204013e-01]\n",
      " [ 9.01486892e-01 -2.48634778e-01  2.52832571e+00]\n",
      " [ 1.96710175e+00  1.23616403e+00 -1.85798186e+00]\n",
      " [-1.11731035e+00  1.65980218e+00  2.34415698e-01]\n",
      " [ 3.15159392e-01 -8.59515941e-01  8.46160648e-01]\n",
      " [ 6.23362177e-01  1.40754000e+00 -4.34956683e-01]\n",
      " [-1.74703160e-01  2.13533901e-01  9.86335188e-01]\n",
      " [ 2.48799161e-01  4.95211324e-01 -2.96641152e-01]\n",
      " [-2.49370375e-01 -2.06014071e+00  1.46210794e+00]\n",
      " [-3.22417204e-01  1.13376944e+00 -3.84054355e-01]\n",
      " [-2.98092835e-01 -7.55717130e-02  4.88518147e-01]\n",
      " [ 2.11124755e-01  1.77187720e-01  1.65275673e-02]\n",
      " [ 4.03491642e-01 -1.09491185e+00  5.93578523e-01]\n",
      " [-6.65754518e-01  8.25029824e-01 -1.67419581e+00]\n",
      " [-2.87307863e-01 -3.19801599e-01  6.80069840e-01]\n",
      " [-1.07296862e+00 -2.30153870e+00  8.65407629e-01]\n",
      " [-3.43853676e-01 -6.20000844e-01  4.35968568e-02]\n",
      " [ 2.30094735e-01 -2.22328143e-01  7.62011180e-01]\n",
      " [-2.66218506e-01 -1.37311732e+00  3.26145467e-02]\n",
      " [-7.47158294e-01  5.08077548e-02  1.69245460e+00]\n",
      " [-1.04458938e+00  5.85662000e-01  2.05117344e+00]\n",
      " [ 1.14472371e+00  5.02494339e-01  9.01590721e-01]\n",
      " [ 4.29526140e-01  1.06222724e-01 -6.06998398e-01]\n",
      " [ 6.98032034e-01  1.22450770e+00 -4.47128565e-01]\n",
      " [-1.20464572e-01 -1.18231813e+00 -1.23312074e+00]\n",
      " [ 1.62434536e+00 -5.28171752e-01 -6.11756414e-01]\n",
      " [ 3.50545979e-01 -3.86955093e-02 -1.31228341e+00]\n",
      " [ 1.60037069e-01  3.15634947e-01  8.76168921e-01]\n",
      " [ 2.44936865e+00 -1.98837863e-01 -5.45774168e-01]\n",
      " [-3.52249846e-01 -3.49342722e-01 -1.14251820e+00]\n",
      " [ 1.20158952e-01  3.00170320e-01  6.17203110e-01]\n",
      " [-1.23005814e+00  7.92806866e-01  5.50537496e-01]\n",
      " [-2.46169559e-02  1.27375593e+00 -7.75161619e-01]\n",
      " [ 2.62467445e-01 -7.33271604e-01  2.76499305e-01]\n",
      " [ 1.62765075e+00 -1.19926803e+00  3.38011697e-01]\n",
      " [-7.31127037e-02  3.69492716e-01  1.16033857e+00]\n",
      " [ 6.18539131e-01  1.81053491e+00 -4.43171931e-01]\n",
      " [-1.39662042e+00  6.74711526e-01 -8.61316361e-01]\n",
      " [-4.98213564e-01 -1.89148284e-03 -3.10984978e-01]\n",
      " [-1.62743834e+00  4.20282204e-01  6.02319280e-01]\n",
      " [-8.45205641e-01 -1.26645989e-02 -6.71246131e-01]\n",
      " [-3.26499498e-01  1.11438298e+00 -1.34267579e+00]\n",
      " [ 9.31102081e-01  8.85141164e-01  2.85587325e-01]\n",
      " [ 8.63345318e-01 -6.03920628e-01 -1.80920302e-01]\n",
      " [-2.00758069e-01  4.10051647e-01  1.86561391e-01]\n",
      " [ 1.98299720e-01 -6.70662286e-01  1.19008646e-01]\n",
      " [ 5.29465324e-01  7.78211279e-02  1.37701210e-01]\n",
      " [-5.86523939e-01  8.75838928e-01 -1.23685338e+00]\n",
      " [-6.36995647e-01  2.10025514e+00  1.90915485e-01]\n",
      " [-5.68244809e-02 -6.80678141e-01  4.92336556e-01]\n",
      " [-6.23530730e-01 -1.14434139e+00  5.20576337e-01]\n",
      " [ 6.18380262e-01  6.82551407e-01  2.32494559e-01]\n",
      " [-6.38730407e-01  7.73400683e-02  4.23494354e-01]\n",
      " [-1.36444744e-01  1.74094083e-02 -1.19054188e-01]\n",
      " [ 1.34048197e-01  2.84748111e-01  1.20205486e+00]\n",
      " [ 3.77563786e-01  1.12948391e+00  1.21821271e-01]\n",
      " [-2.08894233e-01  8.38983414e-01  5.86623191e-01]\n",
      " [-1.44087602e+00 -2.54179868e-01  1.23225307e+00]\n",
      " [ 7.84770651e-01  5.85910431e-01 -9.55425262e-01]\n",
      " [ 9.54250872e-02  6.07501958e-02  9.21450069e-01]\n",
      " [ 8.84908814e-01 -8.67787223e-01 -8.77281519e-01]\n",
      " [-1.09989127e+00 -8.77858418e-01 -1.72428208e-01]\n",
      " [ 1.13162939e+00  2.18557541e+00  1.51981682e+00]\n",
      " [ 1.19891788e+00 -3.75284950e-01  1.85156417e-01]\n",
      " [-1.11647002e+00 -1.86578994e-01  8.09271010e-02]\n",
      " [ 2.18697965e+00 -1.00155233e-01  4.41364444e-01]\n",
      " [ 5.62761097e-01  2.80665077e-01  2.40737092e-01]\n",
      " [-7.00398505e-01  2.42669441e-01 -2.03394449e-01]]\n",
      "Target Vector\n",
      " [ -10.37865986   25.5124503    19.67705609  149.50205427 -121.65210879\n",
      "   90.29412996  214.01379719  224.74157328  -73.17331138 -195.62776209\n",
      "  -52.49101402  201.80460524   20.27419601   89.16398784   -4.43979447\n",
      "  -45.4775122    56.90170664  120.54902155  -66.21870151  -43.83850762\n",
      "   34.28844887  -77.50879778  -26.91704015  197.19513885   64.4108542\n",
      "  -58.24364135 -100.61171138  120.30838239 -324.6376023    11.80311373\n",
      " -178.33643388  -12.11793859  -25.22113932  162.27013301  101.22058681\n",
      "  128.5378687   -21.93291701  141.56205532   70.77737306   42.75618757\n",
      " -129.88966784   75.63153631    7.75853852   27.82808415  -56.01743267\n",
      "  -45.12995511   -4.79734991 -224.87997574  -74.02423583   32.47986763\n",
      " -145.77204264   70.44079726  131.09675782  152.75477314   -5.80729922\n",
      "  126.03820644 -194.05903549  -16.07374331  -64.65855618   89.26813436\n",
      "   56.81764512 -116.58860426   70.91442266   56.12941632   79.90072841\n",
      "  -44.89655856  -27.11317814  100.82239274  180.75763303  -45.02977955\n",
      "  -40.28966423    4.70983448  -77.6416384    17.78110239  145.36191106\n",
      "  -32.14346413   42.56333581  -50.69469082   39.10805003  -11.1650345\n",
      "  190.82721374  -41.2481516  -110.53993067  108.40348884    4.05845119\n",
      "  -11.23037507  104.01543511  135.5604179   107.92408052  -17.16536951\n",
      "   37.10456128   63.81909065  -97.80560038 -145.51888775  354.71399851\n",
      "   26.60508124  -63.09743841  112.39944435   66.6482531   -18.76162201]\n"
     ]
    }
   ],
   "source": [
    "# make_regression makes a dataset designed to be used with linear regression:\n",
    "# Load library\n",
    "from sklearn.datasets import make_regression\n",
    "# Generate features matrix, target vector, and the true coefficients\n",
    "features, target, coefficients = make_regression(n_samples = 100,\n",
    "                                                 n_features = 3,\n",
    "                                                 n_informative = 3,\n",
    "                                                 n_targets = 1,\n",
    "                                                 noise = 0.0,\n",
    "                                                 coef = True,\n",
    "                                                 random_state = 1)\n",
    "# View feature matrix and target vector\n",
    "print('Feature Matrix\\n', features[:])\n",
    "print('Target Vector\\n', target[:])\n",
    "# Feature Matrix\n",
    "#  [[ 1.29322588 -0.61736206 -0.11044703]\n",
    "#  [-2.793085 0.36633201 1.93752881]\n",
    "#  [ 0.80186103 -0.18656977 0.0465673 ]]\n",
    "# Target Vector\n",
    "#  [-10.37865986 25.5124503 19.67705609]"
   ]
  },
  {
   "cell_type": "code",
   "execution_count": 15,
   "id": "ca1caa8f-af57-4927-87bc-47fad95d66be",
   "metadata": {},
   "outputs": [
    {
     "name": "stdout",
     "output_type": "stream",
     "text": [
      "Feature Matrix\n",
      " [[ -1.22685609   3.25572052]\n",
      " [ -9.57463218  -4.38310652]\n",
      " [-10.71976941  -4.20558148]]\n",
      "Target Vector\n",
      " [0 1 1 1 2 2 2 1 0 0 1 1 2 0 2 2 2 0 1 1 2 1 2 0 1 2 2 0 0 2 0 0 2 0 1 2 1\n",
      " 1 1 2 2 1 0 1 1 2 0 0 0 0 1 2 2 2 0 2 1 1 0 0 1 2 2 1 1 2 0 2 0 1 1 1 2 0\n",
      " 0 1 2 2 0 1 0 1 1 2 0 0 0 0 1 0 2 0 0 1 1 2 2 0 2 0]\n"
     ]
    }
   ],
   "source": [
    "# make_blobs creates a dataset designed to work well with clustering techniques \n",
    "# Load library\n",
    "from sklearn.datasets import make_blobs\n",
    "# Generate features matrix and target vector\n",
    "features, target = make_blobs(n_samples = 100,\n",
    "                             n_features = 2,\n",
    "                             centers = 3,\n",
    "                             cluster_std = 0.5,\n",
    "                             shuffle = True,\n",
    "                             random_state = 1)\n",
    "# View feature matrix and target vector\n",
    "print('Feature Matrix\\n', features[:3])\n",
    "print('Target Vector\\n', target[:])\n",
    "# Feature Matrix\n",
    "#  [[ -1.22685609 3.25572052]\n",
    "#  [ -9.57463218 -4.38310652]\n",
    "#  [-10.71976941 -4.20558148]]\n",
    "# Target Vector\n",
    "#  [0 1 1]"
   ]
  },
  {
   "cell_type": "markdown",
   "id": "a3967741-f793-4809-bfb4-57d122c394c2",
   "metadata": {},
   "source": [
    "## make_blobs, the centers parameter determines the number of clusters generated. Using the matplotlib visualization library, we can visualize the clusters generated by make_blobs:"
   ]
  },
  {
   "cell_type": "code",
   "execution_count": 16,
   "id": "ef3b8044-892d-4583-9fec-c98ac48460f0",
   "metadata": {},
   "outputs": [
    {
     "data": {
      "image/png": "[encoded data removed]",
      "text/plain": [
       "<Figure size 640x480 with 1 Axes>"
      ]
     },
     "metadata": {},
     "output_type": "display_data"
    }
   ],
   "source": [
    "# Load library\n",
    "import matplotlib.pyplot as plt\n",
    "# View scatterplot\n",
    "plt.scatter(features[:,0], features[:,1], c=target)\n",
    "plt.show()"
   ]
  },
  {
   "cell_type": "markdown",
   "id": "756526f9-5700-4363-8d6a-38c90e51d317",
   "metadata": {},
   "source": [
    "# Loading a CSV File"
   ]
  },
  {
   "cell_type": "code",
   "execution_count": 20,
   "id": "8d7a9c09-a62c-4d8b-ad79-f4bfcde75098",
   "metadata": {},
   "outputs": [
    {
     "data": {
      "text/html": [
       "<div>\n",
       "<style scoped>\n",
       "    .dataframe tbody tr th:only-of-type {\n",
       "        vertical-align: middle;\n",
       "    }\n",
       "\n",
       "    .dataframe tbody tr th {\n",
       "        vertical-align: top;\n",
       "    }\n",
       "\n",
       "    .dataframe thead th {\n",
       "        text-align: right;\n",
       "    }\n",
       "</style>\n",
       "<table border=\"1\" class=\"dataframe\">\n",
       "  <thead>\n",
       "    <tr style=\"text-align: right;\">\n",
       "      <th></th>\n",
       "      <th>integer</th>\n",
       "      <th>datetime</th>\n",
       "      <th>category</th>\n",
       "    </tr>\n",
       "  </thead>\n",
       "  <tbody>\n",
       "    <tr>\n",
       "      <th>0</th>\n",
       "      <td>5</td>\n",
       "      <td>2015-01-01 00:00:00</td>\n",
       "      <td>0</td>\n",
       "    </tr>\n",
       "    <tr>\n",
       "      <th>1</th>\n",
       "      <td>5</td>\n",
       "      <td>2015-01-01 00:00:01</td>\n",
       "      <td>0</td>\n",
       "    </tr>\n",
       "    <tr>\n",
       "      <th>2</th>\n",
       "      <td>9</td>\n",
       "      <td>2015-01-01 00:00:02</td>\n",
       "      <td>0</td>\n",
       "    </tr>\n",
       "    <tr>\n",
       "      <th>3</th>\n",
       "      <td>6</td>\n",
       "      <td>2015-01-01 00:00:03</td>\n",
       "      <td>0</td>\n",
       "    </tr>\n",
       "    <tr>\n",
       "      <th>4</th>\n",
       "      <td>6</td>\n",
       "      <td>2015-01-01 00:00:04</td>\n",
       "      <td>0</td>\n",
       "    </tr>\n",
       "    <tr>\n",
       "      <th>...</th>\n",
       "      <td>...</td>\n",
       "      <td>...</td>\n",
       "      <td>...</td>\n",
       "    </tr>\n",
       "    <tr>\n",
       "      <th>95</th>\n",
       "      <td>9</td>\n",
       "      <td>2015-01-01 00:01:35</td>\n",
       "      <td>0</td>\n",
       "    </tr>\n",
       "    <tr>\n",
       "      <th>96</th>\n",
       "      <td>8</td>\n",
       "      <td>2015-01-01 00:01:36</td>\n",
       "      <td>0</td>\n",
       "    </tr>\n",
       "    <tr>\n",
       "      <th>97</th>\n",
       "      <td>6</td>\n",
       "      <td>2015-01-01 00:01:37</td>\n",
       "      <td>0</td>\n",
       "    </tr>\n",
       "    <tr>\n",
       "      <th>98</th>\n",
       "      <td>8</td>\n",
       "      <td>2015-01-01 00:01:38</td>\n",
       "      <td>0</td>\n",
       "    </tr>\n",
       "    <tr>\n",
       "      <th>99</th>\n",
       "      <td>1</td>\n",
       "      <td>2015-01-01 00:01:39</td>\n",
       "      <td>0</td>\n",
       "    </tr>\n",
       "  </tbody>\n",
       "</table>\n",
       "<p>100 rows × 3 columns</p>\n",
       "</div>"
      ],
      "text/plain": [
       "    integer             datetime  category\n",
       "0         5  2015-01-01 00:00:00         0\n",
       "1         5  2015-01-01 00:00:01         0\n",
       "2         9  2015-01-01 00:00:02         0\n",
       "3         6  2015-01-01 00:00:03         0\n",
       "4         6  2015-01-01 00:00:04         0\n",
       "..      ...                  ...       ...\n",
       "95        9  2015-01-01 00:01:35         0\n",
       "96        8  2015-01-01 00:01:36         0\n",
       "97        6  2015-01-01 00:01:37         0\n",
       "98        8  2015-01-01 00:01:38         0\n",
       "99        1  2015-01-01 00:01:39         0\n",
       "\n",
       "[100 rows x 3 columns]"
      ]
     },
     "execution_count": 20,
     "metadata": {},
     "output_type": "execute_result"
    }
   ],
   "source": [
    "# to import a comma-separated value (CSV) file, use the pandas library’s read_csv \n",
    "# to load a local or hosted CSV file into a pandas DataFrame:\n",
    "# Load library\n",
    "import pandas as pd\n",
    "# Create URL\n",
    "url = 'https://raw.githubusercontent.com/chrisalbon/sim_data/master/data.csv'\n",
    "# Load dataset\n",
    "dataframe = pd.read_csv(url)\n",
    "# View first two rows\n",
    "dataframe\n",
    "# integer datetime category\n",
    "# 0 5 2015-01-01 00:00:00 0\n",
    "# 1 5 2015-01-01 00:00:01 0"
   ]
  },
  {
   "cell_type": "markdown",
   "id": "c8179a03-ce78-49bb-a20d-98c4501a7e64",
   "metadata": {},
   "source": [
    "> * read_csv has over 30 parameters and therefore the documentation\n",
    "can be daunting.\n",
    ">> Fortunately, those parameters are mostly there to allow it to handle a\n",
    "wide variety of CSV formats.\n",
    ">>> * CSV files get their names from the fact that the values are literally separated by commas.\n",
    ">>> * It is also common\n",
    "for CSV files to use other separators, such as tabs (which are referred to as TSV files)."
   ]
  },
  {
   "cell_type": "markdown",
   "id": "a18b77b7-6d91-4add-b8de-87a01a50b6a0",
   "metadata": {},
   "source": [
    "> The pandas `sep` parameter allows us to define the delimiter used in the file.\n",
    "> >* A common formatting issue with CSV files is that the first\n",
    "line of the file is used to define column headers.\n",
    ">>>* The header parameter allows us to specify if or where a header row\n",
    "exists. If a header row does not exist, we set `header=None`"
   ]
  },
  {
   "cell_type": "markdown",
   "id": "90a33623-32e5-4357-904f-3f19b712b9cd",
   "metadata": {},
   "source": [
    "# Loading an Excel File"
   ]
  },
  {
   "cell_type": "code",
   "execution_count": 21,
   "id": "4f2d0ea2-1e1b-48f4-add3-6df334427748",
   "metadata": {},
   "outputs": [
    {
     "data": {
      "text/html": [
       "<div>\n",
       "<style scoped>\n",
       "    .dataframe tbody tr th:only-of-type {\n",
       "        vertical-align: middle;\n",
       "    }\n",
       "\n",
       "    .dataframe tbody tr th {\n",
       "        vertical-align: top;\n",
       "    }\n",
       "\n",
       "    .dataframe thead th {\n",
       "        text-align: right;\n",
       "    }\n",
       "</style>\n",
       "<table border=\"1\" class=\"dataframe\">\n",
       "  <thead>\n",
       "    <tr style=\"text-align: right;\">\n",
       "      <th></th>\n",
       "      <th>integer</th>\n",
       "      <th>datetime</th>\n",
       "      <th>category</th>\n",
       "    </tr>\n",
       "  </thead>\n",
       "  <tbody>\n",
       "    <tr>\n",
       "      <th>0</th>\n",
       "      <td>5</td>\n",
       "      <td>2015-01-01 00:00:00</td>\n",
       "      <td>0</td>\n",
       "    </tr>\n",
       "    <tr>\n",
       "      <th>1</th>\n",
       "      <td>5</td>\n",
       "      <td>2015-01-01 00:00:01</td>\n",
       "      <td>0</td>\n",
       "    </tr>\n",
       "  </tbody>\n",
       "</table>\n",
       "</div>"
      ],
      "text/plain": [
       "   integer            datetime  category\n",
       "0        5 2015-01-01 00:00:00         0\n",
       "1        5 2015-01-01 00:00:01         0"
      ]
     },
     "execution_count": 21,
     "metadata": {},
     "output_type": "execute_result"
    }
   ],
   "source": [
    "# To import an Excel spreadsheet, use the pandas library’s read_excel to load an Excel spreadsheet:\n",
    "# Load library\n",
    "import pandas as pd\n",
    "# Create URL\n",
    "url = 'https://raw.githubusercontent.com/chrisalbon/sim_data/master/data.xlsx'\n",
    "# Load data\n",
    "dataframe = pd.read_excel(url, sheet_name=0, header=0)\n",
    "# View the first two rows\n",
    "dataframe.head(2)"
   ]
  },
  {
   "cell_type": "markdown",
   "id": "3f07f5db-17f0-44dc-be28-9872262bcb87",
   "metadata": {},
   "source": [
    "> The main difference is the additional parameter, `sheet_name` , that specifies which sheet in the Excel\n",
    "file we wish to load.\n",
    "> > `sheet_name` can accept both\n",
    "> > 1. strings, containing the name of the sheet\n",
    "> > 2. integers, pointing to sheet positions (zero-indexed).\n",
    "> > > * If we need to\n",
    "load multiple sheets, we include them as a list.\n",
    ">>>> For example, `sheet_name=[0,1,2,\n",
    "\"Monthly Sales\"]` will return a dictionary of pandas DataFrames containing the\n",
    "first, second, and third sheets, and the sheet named Monthly Sales. "
   ]
  },
  {
   "cell_type": "markdown",
   "id": "8850d8f5-db36-45de-9e82-99d75b171d4d",
   "metadata": {},
   "source": [
    "# Loading a JSON File"
   ]
  },
  {
   "cell_type": "code",
   "execution_count": 22,
   "id": "2e3798d6-be86-4e25-9ec9-2ce1c90d29fe",
   "metadata": {},
   "outputs": [
    {
     "data": {
      "text/html": [
       "<div>\n",
       "<style scoped>\n",
       "    .dataframe tbody tr th:only-of-type {\n",
       "        vertical-align: middle;\n",
       "    }\n",
       "\n",
       "    .dataframe tbody tr th {\n",
       "        vertical-align: top;\n",
       "    }\n",
       "\n",
       "    .dataframe thead th {\n",
       "        text-align: right;\n",
       "    }\n",
       "</style>\n",
       "<table border=\"1\" class=\"dataframe\">\n",
       "  <thead>\n",
       "    <tr style=\"text-align: right;\">\n",
       "      <th></th>\n",
       "      <th>integer</th>\n",
       "      <th>datetime</th>\n",
       "      <th>category</th>\n",
       "    </tr>\n",
       "  </thead>\n",
       "  <tbody>\n",
       "    <tr>\n",
       "      <th>0</th>\n",
       "      <td>5</td>\n",
       "      <td>2015-01-01 00:00:00</td>\n",
       "      <td>0</td>\n",
       "    </tr>\n",
       "    <tr>\n",
       "      <th>1</th>\n",
       "      <td>5</td>\n",
       "      <td>2015-01-01 00:00:01</td>\n",
       "      <td>0</td>\n",
       "    </tr>\n",
       "  </tbody>\n",
       "</table>\n",
       "</div>"
      ],
      "text/plain": [
       "   integer            datetime  category\n",
       "0        5 2015-01-01 00:00:00         0\n",
       "1        5 2015-01-01 00:00:01         0"
      ]
     },
     "execution_count": 22,
     "metadata": {},
     "output_type": "execute_result"
    }
   ],
   "source": [
    "# To load a JSON file for data preprocessing, the pandas library provides read_json to convert a JSON file into a pandas object:\n",
    "# Load library\n",
    "import pandas as pd\n",
    "# Create URL\n",
    "url = 'https://raw.githubusercontent.com/chrisalbon/sim_data/master/data.json'\n",
    "# Load data\n",
    "dataframe = pd.read_json(url, orient='columns')\n",
    "# View the first two rows\n",
    "dataframe.head(2)"
   ]
  },
  {
   "cell_type": "markdown",
   "id": "eac7e7ae-cbc9-4946-b313-4a0b8449efe9",
   "metadata": {},
   "source": [
    "> The key difference is the `orient` parameter, which indicates to pandas how the JSON\n",
    "file is structured.\n",
    "> * It might take some experimenting to figure out which\n",
    "argument (split, records, index, columns, or values) is the right one.\n",
    ">> * Another helpful tool pandas offers is json_normalize, which can help convert **semi-structured**\n",
    "JSON data into a pandas DataFrame."
   ]
  },
  {
   "cell_type": "markdown",
   "id": "1bbd16e6-19e9-478d-8497-51d77efe9b17",
   "metadata": {},
   "source": [
    "# Loading a Parquet File"
   ]
  },
  {
   "cell_type": "code",
   "execution_count": null,
   "id": "4be3202a-67db-4df8-94a6-bd4b1d7128f9",
   "metadata": {},
   "outputs": [],
   "source": [
    "# To load a Parquet file, the pandas `read_parquet` function allows us to read in Parquet files:\n",
    "# Load library\n",
    "import pandas as pd\n",
    "# Create URL\n",
    "url = 'https://machine-learning-python-cookbook.s3.amazonaws.com/data.parquet'\n",
    "# Load data\n",
    "dataframe = pd.read_parquet(url)\n",
    "# View the first two rows\n",
    "dataframe.head(2)"
   ]
  },
  {
   "cell_type": "markdown",
   "id": "4fdcfc91-59e8-4346-ad2c-e1d5d0751d05",
   "metadata": {},
   "source": [
    "> * Parquet is a popular data storage format in the large data space.\n",
    "> > * It is often used with big data tools such as Hadoop and Spark.<br><br>\n",
    "> > * It’s highly likely companies operating on a large scale will use an efficient\n",
    "data storage format such as Parquet, and it’s valuable to know how to read it into a\n",
    "dataframe and manipulate it"
   ]
  },
  {
   "cell_type": "markdown",
   "id": "73518a59-8879-49f9-a84c-8a0f53f2e619",
   "metadata": {},
   "source": [
    "# Loading an Avro File"
   ]
  },
  {
   "cell_type": "code",
   "execution_count": null,
   "id": "34969641-bcba-4bf7-999a-bec6094fb89f",
   "metadata": {},
   "outputs": [],
   "source": [
    "# To load an Avro file into a pandas DataFrame, the use the pandavro library’s `read_avro` method:\n",
    "# Load library\n",
    "import requests\n",
    "import pandavro as pdx\n",
    "# Create URL\n",
    "url = 'https://machine-learning-python-cookbook.s3.amazonaws.com/data.avro'\n",
    "# Download file\n",
    "r = requests.get(url)\n",
    "open('data.avro', 'wb').write(r.content)\n",
    "# Load data\n",
    "dataframe = pdx.read_avro('data.avro')\n",
    "# View the first two rows\n",
    "dataframe.head(2)"
   ]
  },
  {
   "cell_type": "markdown",
   "id": "d32e6500-44e8-43d7-a197-9bc553a6a9f6",
   "metadata": {},
   "source": [
    "> * Apache Avro is an open source, binary data format that relies on schemas for the\n",
    "data structure.\n",
    ">> * Large binary data formats such as Avro, thrift, and Protocol Buffers are growing in\n",
    "popularity due to their efficient nature."
   ]
  },
  {
   "cell_type": "markdown",
   "id": "31cb0bcf-8839-4e1a-92e0-0a3b5bd7ce99",
   "metadata": {},
   "source": [
    "# Querying a SQLite Database"
   ]
  },
  {
   "cell_type": "code",
   "execution_count": null,
   "id": "c72ad7a8-c9c7-44dc-8cc5-76046354489d",
   "metadata": {},
   "outputs": [],
   "source": [
    "# To load data from a database using structured query language (SQL), \n",
    "# use pandas’ read_sql_query that allows us to make an SQL query to a database and load it:\n",
    "# Load libraries\n",
    "import pandas as pd\n",
    "from sqlalchemy import create_engine\n",
    "# Create a connection to the database\n",
    "database_connection = create_engine('sqlite:///sample.db')\n",
    "# Load data\n",
    "dataframe = pd.read_sql_query('SELECT * FROM data', database_connection)\n",
    "# View first two rows\n",
    "dataframe.head(2)"
   ]
  },
  {
   "cell_type": "markdown",
   "id": "d3902667-25e9-4a86-aec0-174ed8f8908f",
   "metadata": {},
   "source": [
    "> * SQL is the lingua franca for pulling data from databases.\n",
    "> > * In this recipe we first use\n",
    "create_engine to define a connection to an SQL database engine called SQLite.\n",
    "> > * Next we use pandas’ `read_sql_query` to query that database using SQL and put the results\n",
    "in a DataFrame.\n",
    "> > * Our\n",
    "SQL query, `SELECT * FROM data`, asks the database to give us all columns `(*)` from\n",
    "the table called data.\n",
    "> > * Note: this is one of a few recipes that will not run without extra\n",
    "code. Specifically, `create_engine('sqlite:///sample.db')` assumes that an SQLite\n",
    "database already exists."
   ]
  },
  {
   "cell_type": "markdown",
   "id": "4db8b8b1-e455-4d09-be54-fae4a95d9a1b",
   "metadata": {},
   "source": [
    "# Querying a Remote SQL Database"
   ]
  },
  {
   "cell_type": "code",
   "execution_count": null,
   "id": "b043850c-1089-4308-8ed5-f4fa132df4e1",
   "metadata": {},
   "outputs": [],
   "source": [
    "# To connect to, and read from, a remote SQL database,\n",
    "# You must create a connection with pymysql and read it into a dataframe with pandas:\n",
    "# Import libraries\n",
    "import pymysql\n",
    "import pandas as pd\n",
    "# Create a DB connection\n",
    "# Use the following example to start a DB instance\n",
    "# https://github.com/kylegallatin/mysql-db-example\n",
    "conn = pymysql.connect(\n",
    "host='localhost',\n",
    " user='root',\n",
    " password = \"\",\n",
    " db='db',\n",
    ")\n",
    "# Read the SQL query into a dataframe\n",
    "dataframe = pd.read_sql(\"select * from data\", conn)\n",
    "# View the first two rows\n",
    "dataframe.head(2)"
   ]
  },
  {
   "cell_type": "markdown",
   "id": "3f3fcb37-847b-45a2-bc12-c79fa1eb32e4",
   "metadata": {},
   "source": [
    "> * Of all of the recipes presented, this is probably the one we will use\n",
    "most in the real world.\n",
    "> * While connecting and reading from an example sqlite\n",
    "database is useful, it’s likely not representative of tables you’ll need to connect to in\n",
    "an enterprise environment.\n",
    "> > * Most SQL instances that you’ll connect to will require\n",
    "you to connect to the host and port of a remote machine, specifying a username\n",
    "and password for authentication.\n",
    ">> * This example requires you to start a running SQL\n",
    "instance locally that mimics a remote server on localhost so that you can get a sense\n",
    "of the workflow."
   ]
  },
  {
   "cell_type": "markdown",
   "id": "ab2ac260-b624-4e9f-bf81-63821faf53f2",
   "metadata": {},
   "source": [
    "# Loading Data from a Google Sheet"
   ]
  },
  {
   "cell_type": "code",
   "execution_count": null,
   "id": "78f1f126-51f4-4ac6-8cf2-c8c8fded00c5",
   "metadata": {},
   "outputs": [],
   "source": [
    "# To read in data directly from a Google Sheet,\n",
    "# Use pandas read_CSV and pass a URL that exports the Google Sheet as a CSV:\n",
    "# Import libraries\n",
    "import pandas as pd\n",
    "# Google Sheet URL that downloads the sheet as a CSV\n",
    "url = \"https://docs.google.com/spreadsheets/d/\"\\\n",
    " \"1ehC-9otcAuitqnmWksqt1mOrTRCL38dv0K9UjhwzTOA/export?format=csv\"\n",
    "# Read the CSV into a dataframe\n",
    "dataframe = pd.read_csv(url)\n",
    "# View the first two rows\n",
    "dataframe.head(2)"
   ]
  },
  {
   "cell_type": "markdown",
   "id": "021008e7-4fa7-4488-acf3-67aca3cb4e9d",
   "metadata": {},
   "source": [
    "> * While Google Sheets can easily be downloaded, it’s sometimes helpful to\n",
    "be able to read them directly into Python without any intermediate steps.\n",
    ">> * The `/export?format=csv` query parameter at the end of the URL above creates an\n",
    "endpoint from which we can either download the file or read it into pandas."
   ]
  },
  {
   "cell_type": "markdown",
   "id": "19174f7e-56da-48ff-b434-2800b65c6255",
   "metadata": {},
   "source": [
    "# Loading Data from an S3 Bucket"
   ]
  },
  {
   "cell_type": "code",
   "execution_count": null,
   "id": "9c55013b-76ef-4a15-b7d5-4be5eb85f1b4",
   "metadata": {},
   "outputs": [],
   "source": [
    "# To read a CSV file from an S3 bucket you have access to,\n",
    "# Add storage options to pandas giving it access to the S3 object:\n",
    "# Import libraries\n",
    "import pandas as pd\n",
    "# S3 path to CSV\n",
    "s3_uri = \"s3://machine-learning-python-cookbook/data.csv\"\n",
    "# Set AWS credentials (replace with your own)\n",
    "ACCESS_KEY_ID = \"xxxxxxxxxxxxx\"\n",
    "SECRET_ACCESS_KEY = \"xxxxxxxxxxxxxxxx\"\n",
    "# Read the CSV into a dataframe\n",
    "dataframe = pd.read_csv(s3_uri,storage_options={\n",
    " \"key\": ACCESS_KEY_ID,\n",
    " \"secret\": SECRET_ACCESS_KEY,\n",
    "}\n",
    ")\n",
    "# View first two rows\n",
    "dataframe.head(2)"
   ]
  },
  {
   "cell_type": "markdown",
   "id": "f616bd19-42b2-4b70-9d1d-ff033fb1a3de",
   "metadata": {},
   "source": [
    "> * Many enterprises now keep data in cloud provider blob stores such as Amazon S3\n",
    "or Google Cloud Storage (GCS).\n",
    "> * It’s common for machine learning practitioners\n",
    "to connect to these sources to retrieve data.\n",
    ">> * Although the `S3 URI (s3://machine learning-python-cookbook/data.csv)` is public, it still requires you to provide your own AWS access credentials to access it.\n",
    ">> * It’s worth noting that public objects also have\n",
    "HTTP URLs from which they can download files, such as this one for the CSV file."
   ]
  },
  {
   "cell_type": "markdown",
   "id": "c2ea39ff-88be-4f0e-ae88-2cf0264cc897",
   "metadata": {},
   "source": [
    "# Loading Unstructured Data"
   ]
  },
  {
   "cell_type": "code",
   "execution_count": 23,
   "id": "5442f621-ffd5-491a-9a89-ecff473756b9",
   "metadata": {},
   "outputs": [
    {
     "name": "stdout",
     "output_type": "stream",
     "text": [
      "Hello there!\n"
     ]
    }
   ],
   "source": [
    "# To load unstructured data like text or images,\n",
    "# use the base Python open function to load the information:\n",
    "# Import libraries\n",
    "import requests\n",
    "# URL to download the txt file from\n",
    "txt_url = \"https://machine-learning-python-cookbook.s3.amazonaws.com/text.txt\"\n",
    "# Get the txt file\n",
    "r = requests.get(txt_url)\n",
    "# Write it to text.txt locally\n",
    "with open('text.txt', 'wb') as f:\n",
    " f.write(r.content)\n",
    "# Read in the file\n",
    "with open('text.txt', 'r') as f:\n",
    " text = f.read()\n",
    "# Print the content\n",
    "print(text)"
   ]
  },
  {
   "cell_type": "markdown",
   "id": "1a0d2579-82df-40c3-b5d2-2ba0bb9d9dd0",
   "metadata": {},
   "source": [
    "> * While structured data can easily be read in from CSV, JSON, or various databases,\n",
    "unstructured data can be more challenging and may require custom processing down\n",
    "the line.\n",
    "> * Sometimes it’s helpful to open and read in files using Python’s basic open\n",
    "function.\n",
    ">> This allows us to open files and then read the content of that file."
   ]
  },
  {
   "cell_type": "markdown",
   "id": "e5f30a4f-df2b-4b91-ba76-564f9fc13358",
   "metadata": {},
   "source": [
    "# END Of Loading Data Tutorial"
   ]
  }
 ],
 "metadata": {
  "kernelspec": {
   "display_name": "Python 3 (ipykernel)",
   "language": "python",
   "name": "python3"
  },
  "language_info": {
   "codemirror_mode": {
    "name": "ipython",
    "version": 3
   },
   "file_extension": ".py",
   "mimetype": "text/x-python",
   "name": "python",
   "nbconvert_exporter": "python",
   "pygments_lexer": "ipython3",
   "version": "3.11.5"
  }
 },
 "nbformat": 4,
 "nbformat_minor": 5
}
