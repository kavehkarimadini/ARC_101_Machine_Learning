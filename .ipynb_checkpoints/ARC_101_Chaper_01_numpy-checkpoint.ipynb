{
 "cells": [
  {
   "cell_type": "markdown",
   "id": "b5e30274-19de-464d-aa84-7ebaee6b7ccb",
   "metadata": {},
   "source": [
    "# Creating a Vector"
   ]
  },
  {
   "cell_type": "code",
   "execution_count": 1,
   "id": "d73d3b30-6fd8-4424-a2d7-d1606a8b7e33",
   "metadata": {},
   "outputs": [],
   "source": [
    "# Load library\n",
    "import numpy as np\n",
    "# Create a vector as a row\n",
    "vector_row = np.array([1, 2, 3])\n",
    "# Create a vector as a column\n",
    "vector_column = np.array([[1],\n",
    "                         [2],\n",
    "                         [3]])"
   ]
  },
  {
   "cell_type": "code",
   "execution_count": 2,
   "id": "74d4e144-a9a8-4ed3-a56c-137c9f2ea29e",
   "metadata": {},
   "outputs": [
    {
     "data": {
      "text/plain": [
       "(array([1, 2, 3]), (3,))"
      ]
     },
     "execution_count": 2,
     "metadata": {},
     "output_type": "execute_result"
    }
   ],
   "source": [
    "vector_row, vector_row.shape"
   ]
  },
  {
   "cell_type": "code",
   "execution_count": 3,
   "id": "7a1ed54b-ed53-4a70-b0c9-39352e544e3f",
   "metadata": {},
   "outputs": [
    {
     "data": {
      "text/plain": [
       "(array([[1],\n",
       "        [2],\n",
       "        [3]]),\n",
       " (3, 1))"
      ]
     },
     "execution_count": 3,
     "metadata": {},
     "output_type": "execute_result"
    }
   ],
   "source": [
    "vector_column, vector_column.shape"
   ]
  },
  {
   "cell_type": "markdown",
   "id": "4d203ba8-9677-4e8e-9221-08f2cc95acce",
   "metadata": {},
   "source": [
    "# Creating a Matrix"
   ]
  },
  {
   "cell_type": "code",
   "execution_count": 4,
   "id": "f58a1608-932a-44a8-a403-e7b6bd8d00f8",
   "metadata": {},
   "outputs": [],
   "source": [
    "# Load library\n",
    "import numpy as np\n",
    "# Create a matrix\n",
    "matrix = np.array([[1, 2],\n",
    "                  [1, 2],\n",
    "                  [1, 2]])"
   ]
  },
  {
   "cell_type": "code",
   "execution_count": 5,
   "id": "983e8ba9-6809-4001-9f69-57bb7dc0bfba",
   "metadata": {},
   "outputs": [
    {
     "data": {
      "text/plain": [
       "(array([[1, 2],\n",
       "        [1, 2],\n",
       "        [1, 2]]),\n",
       " (3, 2))"
      ]
     },
     "execution_count": 5,
     "metadata": {},
     "output_type": "execute_result"
    }
   ],
   "source": [
    "# The matrix contains three rows and two columns (a column of 1s and a column of 2s).\n",
    "matrix,matrix.shape"
   ]
  },
  {
   "cell_type": "markdown",
   "id": "1a78bd1d-b8bd-4234-82bf-7b45726bb656",
   "metadata": {},
   "source": [
    "# Creating a Sparse Matrix"
   ]
  },
  {
   "cell_type": "code",
   "execution_count": 6,
   "id": "9da17511-92bb-40ad-b459-102d1997bc6a",
   "metadata": {},
   "outputs": [],
   "source": [
    "# Load libraries\n",
    "import numpy as np\n",
    "from scipy import sparse\n",
    "# Create a matrix\n",
    "matrix = np.array([[0, 0],\n",
    "                 [0, 1],\n",
    "                 [3, 0]])\n",
    "# Create compressed sparse row (CSR) matrix\n",
    "matrix_sparse = sparse.csr_matrix(matrix)"
   ]
  },
  {
   "cell_type": "code",
   "execution_count": 7,
   "id": "825b032f-0f7f-48ca-88eb-b2e832be87a7",
   "metadata": {},
   "outputs": [
    {
     "name": "stdout",
     "output_type": "stream",
     "text": [
      "matrix:  [[0 0]\n",
      " [0 1]\n",
      " [3 0]]\n",
      "matrix_sparse:    (1, 1)\t1\n",
      "  (2, 0)\t3\n"
     ]
    }
   ],
   "source": [
    "# If we view the sparse matrix we can see that only the nonzero values are stored:\n",
    "print(\"matrix: \",matrix)\n",
    "print(\"matrix_sparse: \",matrix_sparse)"
   ]
  },
  {
   "cell_type": "markdown",
   "id": "5a66a3b1-0b06-441d-b16b-870d8c56444b",
   "metadata": {},
   "source": [
    "> There are a number of types of sparse matrices. However, in compressed sparse row\n",
    "(CSR) matrices, (1, 1) and (2, 0) represent the (zero-indexed) indices of the\n",
    "nonzero values 1 and 3, respectively\n",
    "\n",
    ">>other formates of sparse matrices:\n",
    "compressed sparse column, list of lists, and dictionary of keys"
   ]
  },
  {
   "cell_type": "markdown",
   "id": "6a1a4bb4-abdf-47bf-bb93-c207755ffb0f",
   "metadata": {},
   "source": [
    "# Preallocating NumPy Arrays\n",
    ">NumPy has functions for generating vectors and matrices of any size using 0s, 1s, or\n",
    "values of your choice:"
   ]
  },
  {
   "cell_type": "code",
   "execution_count": 8,
   "id": "18b767de-c277-4889-84d7-6185a9e4677d",
   "metadata": {},
   "outputs": [
    {
     "name": "stdout",
     "output_type": "stream",
     "text": [
      "vector:  [[0. 0. 0.]\n",
      " [0. 0. 0.]\n",
      " [0. 0. 0.]\n",
      " [0. 0. 0.]\n",
      " [0. 0. 0.]]\n"
     ]
    }
   ],
   "source": [
    "# Load library\n",
    "import numpy as np\n",
    "# Generate a vector of shape (1,5) containing all zeros\n",
    "matrix_01 = np.zeros(shape=(5,3))\n",
    "# View the matrix\n",
    "print(\"vector: \",matrix_01)"
   ]
  },
  {
   "cell_type": "code",
   "execution_count": 12,
   "id": "d0ff0e8c-2cee-4473-a7da-27bbc8a4ae22",
   "metadata": {},
   "outputs": [
    {
     "name": "stdout",
     "output_type": "stream",
     "text": [
      "vector:  [[1. 1. 1.]\n",
      " [1. 1. 1.]\n",
      " [1. 1. 1.]\n",
      " [1. 1. 1.]\n",
      " [1. 1. 1.]]\n"
     ]
    }
   ],
   "source": [
    "# Load library\n",
    "import numpy as np\n",
    "# Generate a vector of shape (1,5) containing all zeros\n",
    "matrix_01 = np.ones(shape=(5,3))\n",
    "# View the matrix\n",
    "print(\"vector: \",matrix_01)"
   ]
  },
  {
   "cell_type": "code",
   "execution_count": 10,
   "id": "8a2a49e4-abc3-43b2-9c7b-911b044a74b8",
   "metadata": {},
   "outputs": [
    {
     "data": {
      "text/plain": [
       "numpy.float64"
      ]
     },
     "execution_count": 10,
     "metadata": {},
     "output_type": "execute_result"
    }
   ],
   "source": [
    "type(matrix_01[0][0])"
   ]
  },
  {
   "cell_type": "code",
   "execution_count": 11,
   "id": "90e7cf60-f006-42f9-a813-8a9b0b168283",
   "metadata": {},
   "outputs": [
    {
     "data": {
      "text/plain": [
       "dtype('float64')"
      ]
     },
     "execution_count": 11,
     "metadata": {},
     "output_type": "execute_result"
    }
   ],
   "source": [
    "matrix_01[0][0].dtype"
   ]
  },
  {
   "cell_type": "code",
   "execution_count": 13,
   "id": "b864f9a9-4f2a-44ff-b618-b6d429d3ed9a",
   "metadata": {},
   "outputs": [
    {
     "name": "stdout",
     "output_type": "stream",
     "text": [
      "matrix:  [[100 100 100]\n",
      " [100 100 100]\n",
      " [100 100 100]\n",
      " [100 100 100]]\n"
     ]
    }
   ],
   "source": [
    "# Generate a matrix of shape (3,3) containing all ones\n",
    "matrix = np.full(shape=(4,3), fill_value=100)\n",
    "# View the vector\n",
    "print(\"matrix: \",matrix)"
   ]
  },
  {
   "cell_type": "markdown",
   "id": "a81c7f4a-e60b-4d46-acac-05b66f7459ca",
   "metadata": {},
   "source": [
    "# Selecting Matrix Elements"
   ]
  },
  {
   "cell_type": "code",
   "execution_count": 14,
   "id": "10511d5f-328f-4c37-9a99-2555b83ad487",
   "metadata": {},
   "outputs": [
    {
     "name": "stdout",
     "output_type": "stream",
     "text": [
      "3\n"
     ]
    },
    {
     "data": {
      "text/plain": [
       "5"
      ]
     },
     "execution_count": 14,
     "metadata": {},
     "output_type": "execute_result"
    }
   ],
   "source": [
    "# Load library\n",
    "import numpy as np\n",
    "# Create row vector\n",
    "vector = np.array([1, 2, 3, 4, 5, 6])\n",
    "# Create matrix\n",
    "matrix = np.array([[1, 2, 3],\n",
    "                    [4, 5, 6],\n",
    "                    [7, 8, 9]])\n",
    "# Select third element of vector\n",
    "print(vector[2])\n",
    "# Select second row, second column\n",
    "matrix[1,1]"
   ]
  },
  {
   "cell_type": "code",
   "execution_count": 15,
   "id": "efa8e4d3-acc3-42fa-b5f7-dc0c5cb8640b",
   "metadata": {},
   "outputs": [
    {
     "data": {
      "text/plain": [
       "5"
      ]
     },
     "execution_count": 15,
     "metadata": {},
     "output_type": "execute_result"
    }
   ],
   "source": [
    "matrix[1][1]"
   ]
  },
  {
   "cell_type": "markdown",
   "id": "48871db7-a2a3-4637-a168-331d05880c14",
   "metadata": {},
   "source": [
    "> ## NumPy offers a wide variety of methods for selecting"
   ]
  },
  {
   "cell_type": "code",
   "execution_count": 14,
   "id": "649529a3-0c58-4232-92c8-54253be1638c",
   "metadata": {},
   "outputs": [
    {
     "name": "stdout",
     "output_type": "stream",
     "text": [
      "[1 2 3 4 5 6]\n"
     ]
    }
   ],
   "source": [
    "# Select all elements of a vector\n",
    "print(vector[:])"
   ]
  },
  {
   "cell_type": "code",
   "execution_count": 15,
   "id": "a8563ff1-ea37-432f-8e89-bc2f2fa0c51b",
   "metadata": {},
   "outputs": [
    {
     "name": "stdout",
     "output_type": "stream",
     "text": [
      "[1 2 3]\n"
     ]
    }
   ],
   "source": [
    "# Select everything up to and including the third element\n",
    "# inclusive\n",
    "# exclusive\n",
    "print(vector[:3])"
   ]
  },
  {
   "cell_type": "code",
   "execution_count": 16,
   "id": "803c04c2-7d49-419e-9145-7147ff1d59a2",
   "metadata": {},
   "outputs": [
    {
     "name": "stdout",
     "output_type": "stream",
     "text": [
      "[4 5]\n"
     ]
    }
   ],
   "source": [
    "# Select everything after the third element\n",
    "print(vector[3:5])"
   ]
  },
  {
   "cell_type": "code",
   "execution_count": 17,
   "id": "72318225-0d32-4d13-9008-a19cb13b4ccf",
   "metadata": {},
   "outputs": [
    {
     "name": "stdout",
     "output_type": "stream",
     "text": [
      "6\n"
     ]
    }
   ],
   "source": [
    "# Select the last element\n",
    "print(vector[-1])"
   ]
  },
  {
   "cell_type": "code",
   "execution_count": 16,
   "id": "f4bbae9a-1b51-404e-a9c3-3c098eadd6b7",
   "metadata": {},
   "outputs": [
    {
     "name": "stdout",
     "output_type": "stream",
     "text": [
      "[6 4 2]\n"
     ]
    }
   ],
   "source": [
    "# Reverse the vector\n",
    "# start:end:step\n",
    "print(vector[5::-2])"
   ]
  },
  {
   "cell_type": "code",
   "execution_count": 19,
   "id": "1ae4153a-9b6e-4922-bcaf-7e3fc7cd1b36",
   "metadata": {},
   "outputs": [
    {
     "data": {
      "text/plain": [
       "array([[1, 2, 3],\n",
       "       [4, 5, 6],\n",
       "       [7, 8, 9]])"
      ]
     },
     "execution_count": 19,
     "metadata": {},
     "output_type": "execute_result"
    }
   ],
   "source": [
    "matrix"
   ]
  },
  {
   "cell_type": "code",
   "execution_count": 17,
   "id": "e20e31f3-a022-457e-b4ee-a80bc5784355",
   "metadata": {},
   "outputs": [
    {
     "name": "stdout",
     "output_type": "stream",
     "text": [
      "[[1]\n",
      " [4]]\n"
     ]
    }
   ],
   "source": [
    "# Select the first two rows and all columns of a matrix\n",
    "print(matrix[:2,:1])"
   ]
  },
  {
   "cell_type": "code",
   "execution_count": 21,
   "id": "80beffc4-9310-4bf6-909e-874f59d28731",
   "metadata": {},
   "outputs": [
    {
     "name": "stdout",
     "output_type": "stream",
     "text": [
      "[[2]\n",
      " [5]\n",
      " [8]]\n"
     ]
    }
   ],
   "source": [
    "# Select all rows and the second column\n",
    "print(matrix[:,1:2])"
   ]
  },
  {
   "cell_type": "code",
   "execution_count": 18,
   "id": "66cf4247-2015-4a50-9948-d78bb1b7a0cf",
   "metadata": {},
   "outputs": [
    {
     "name": "stdout",
     "output_type": "stream",
     "text": [
      "(3, 1)\n"
     ]
    }
   ],
   "source": [
    "# shape --> attribute (feature)\n",
    "print(matrix[:,1:2].shape)"
   ]
  },
  {
   "cell_type": "markdown",
   "id": "d761230f-3309-4146-b5f0-89b0aad52b21",
   "metadata": {},
   "source": [
    "## End of part_1"
   ]
  },
  {
   "cell_type": "markdown",
   "id": "cbc09b7c-a487-44ac-a8d4-fabc32d776bb",
   "metadata": {},
   "source": [
    "# Describing a Matrix\n",
    ">Use the shape, size, and ndim attributes of a NumPy object:"
   ]
  },
  {
   "cell_type": "code",
   "execution_count": 1,
   "id": "37cd7361-fdcd-415e-a146-e57fee85773b",
   "metadata": {},
   "outputs": [
    {
     "name": "stdout",
     "output_type": "stream",
     "text": [
      "(2, 2, 3, 4)\n"
     ]
    }
   ],
   "source": [
    "# Load library\n",
    "import numpy as np\n",
    "# Create matrix\n",
    "matrix = np.array([[[[1, 2, 3, 4],\n",
    "                    [5, 6, 7, 8],\n",
    "                    [9, 10, 11, 199]],\n",
    "                  [[1, 2, 3, 4],\n",
    "                    [5, 6, 7, 8],\n",
    "                    [9, 10, 11, 199]]],\n",
    "                  [[[1, 2, 3, 4],\n",
    "                    [5, 6, 7, 8],\n",
    "                    [9, 10, 11, 199]],\n",
    "                  [[1, 2, 3, 4],\n",
    "                    [5, 6, 7, 8],\n",
    "                    [9, 10, 11, 199]]]])\n",
    "# View number of rows and columns\n",
    "print(matrix.shape)"
   ]
  },
  {
   "cell_type": "code",
   "execution_count": 2,
   "id": "7ee09754-b939-4be3-8452-3964c27e9656",
   "metadata": {},
   "outputs": [
    {
     "name": "stdout",
     "output_type": "stream",
     "text": [
      "48\n"
     ]
    }
   ],
   "source": [
    "# View number of elements (rows * columns)\n",
    "print(matrix.size)"
   ]
  },
  {
   "cell_type": "code",
   "execution_count": 3,
   "id": "d9a536bb-9c3a-4e99-bcd3-12f33d04be1f",
   "metadata": {},
   "outputs": [
    {
     "name": "stdout",
     "output_type": "stream",
     "text": [
      "4\n"
     ]
    }
   ],
   "source": [
    "# View number of dimensions\n",
    "print(matrix.ndim)"
   ]
  },
  {
   "cell_type": "markdown",
   "id": "3c7a984b-f42b-4297-b14d-19fb9cb08d4c",
   "metadata": {},
   "source": [
    "# Applying Functions Element Element-wise\n",
    "> Use the NumPy vectorize method:"
   ]
  },
  {
   "cell_type": "code",
   "execution_count": 4,
   "id": "af145198-adce-4da1-9b42-51b773c46921",
   "metadata": {},
   "outputs": [
    {
     "data": {
      "text/plain": [
       "array([[101, 102, 103],\n",
       "       [104, 105, 106],\n",
       "       [107, 108, 109]])"
      ]
     },
     "execution_count": 4,
     "metadata": {},
     "output_type": "execute_result"
    }
   ],
   "source": [
    "# Load library\n",
    "import numpy as np\n",
    "\n",
    "# Create matrix\n",
    "matrix = np.array([[1, 2, 3],\n",
    " [4, 5, 6],\n",
    " [7, 8, 9]])\n",
    "# Create function that adds 100 to something\n",
    "add_100 = lambda i: i + 100\n",
    "# Create vectorized function\n",
    "vectorized_add_100 = np.vectorize(add_100)\n",
    "# Apply function to all elements in matrix\n",
    "vectorized_add_100(matrix)\n",
    "# array([[101, 102, 103],\n",
    "#  [104, 105, 106],\n",
    "#  [107, 108, 109]])\n"
   ]
  },
  {
   "cell_type": "markdown",
   "id": "f1797341-8ed4-4d64-b392-3cf1b4090def",
   "metadata": {},
   "source": [
    "> ### NumPy arrays allow us to perform operations between arrays even if their dimensions are not the same (a process called broadcasting).\n",
    ">> For example: we can\n",
    "create a much simpler version"
   ]
  },
  {
   "cell_type": "code",
   "execution_count": 6,
   "id": "234bec91-e4fe-4c11-ae1f-6c067a8c770f",
   "metadata": {},
   "outputs": [
    {
     "data": {
      "text/plain": [
       "array([[200, 200, 200],\n",
       "       [200, 200, 200],\n",
       "       [200, 200, 200],\n",
       "       [200, 200, 200]])"
      ]
     },
     "execution_count": 6,
     "metadata": {},
     "output_type": "execute_result"
    }
   ],
   "source": [
    "# Add 100 to all elements\n",
    "matrix + 100\n",
    "# array([[101, 102, 103],\n",
    "#  [104, 105, 106],\n",
    "#  [107, 108, 109]])"
   ]
  },
  {
   "cell_type": "markdown",
   "id": "0ff3d42d-a0b6-49ec-9f43-da1422c2858c",
   "metadata": {},
   "source": [
    "# Finding the Max, Min Average, Variance, and Standard Deviation"
   ]
  },
  {
   "cell_type": "code",
   "execution_count": 7,
   "id": "4d07dd88-b9f8-4ab8-88e5-538febf02658",
   "metadata": {},
   "outputs": [
    {
     "name": "stdout",
     "output_type": "stream",
     "text": [
      "9\n"
     ]
    },
    {
     "data": {
      "text/plain": [
       "1"
      ]
     },
     "execution_count": 7,
     "metadata": {},
     "output_type": "execute_result"
    }
   ],
   "source": [
    "# Load library\n",
    "import numpy as np\n",
    "\n",
    "# Create matrix\n",
    "matrix = np.array([[1, 2, 3],\n",
    " [4, 5, 6],\n",
    " [7, 8, 9]])\n",
    "# Return maximum element\n",
    "print(np.max(matrix))\n",
    "# 9\n",
    "# Return minimum element\n",
    "np.min(matrix)\n",
    "# 1"
   ]
  },
  {
   "cell_type": "markdown",
   "id": "c1e82255-5d1f-4a05-8274-79b61e11e63d",
   "metadata": {},
   "source": [
    "> we can also apply the operation along a certain axis:"
   ]
  },
  {
   "cell_type": "code",
   "execution_count": 8,
   "id": "816742a8-6f86-4ac3-8903-f274f66b50ab",
   "metadata": {},
   "outputs": [
    {
     "data": {
      "text/plain": [
       "array([[1, 2, 3],\n",
       "       [4, 5, 6],\n",
       "       [7, 8, 9]])"
      ]
     },
     "execution_count": 8,
     "metadata": {},
     "output_type": "execute_result"
    }
   ],
   "source": [
    "matrix"
   ]
  },
  {
   "cell_type": "code",
   "execution_count": 10,
   "id": "5dd0d3bc-da68-43f6-aef4-45cb32728530",
   "metadata": {},
   "outputs": [
    {
     "name": "stdout",
     "output_type": "stream",
     "text": [
      "[7 8 9]\n"
     ]
    },
    {
     "data": {
      "text/plain": [
       "array([3, 6, 9])"
      ]
     },
     "execution_count": 10,
     "metadata": {},
     "output_type": "execute_result"
    }
   ],
   "source": [
    "# Find maximum element in each column\n",
    "print(np.max(matrix, axis=0))\n",
    "# array([7, 8, 9])\n",
    "# Find maximum element in each row\n",
    "np.max(matrix, axis=1)\n",
    "# array([3, 6, 9])"
   ]
  },
  {
   "cell_type": "code",
   "execution_count": 11,
   "id": "63b4735b-e6dd-49ed-927f-44e78735bc58",
   "metadata": {},
   "outputs": [
    {
     "name": "stdout",
     "output_type": "stream",
     "text": [
      "5.0\n",
      "6.666666666666667\n"
     ]
    },
    {
     "data": {
      "text/plain": [
       "2.581988897471611"
      ]
     },
     "execution_count": 11,
     "metadata": {},
     "output_type": "execute_result"
    }
   ],
   "source": [
    "# Create matrix\n",
    "matrix = np.array([[1, 2, 3],\n",
    " [4, 5, 6],\n",
    " [7, 8, 9]])\n",
    "# Return mean\n",
    "print(np.mean(matrix))\n",
    "# 5.0\n",
    "# Return variance\n",
    "print(np.var(matrix))\n",
    "# 6.666666666666667\n",
    "# Return standard deviation\n",
    "np.std(matrix)\n",
    "# 2.5819888974716112"
   ]
  },
  {
   "cell_type": "markdown",
   "id": "123f05d4-c5c3-404e-a002-335ce4142420",
   "metadata": {},
   "source": [
    "# Reshaping Arrays\n",
    "> to change the shape (number of rows and columns) of an array without\n",
    "changing the element values.<br><br>\n",
    ">The only requirement is that\n",
    "the shape of the original and new matrix contain the same number of elements (i.e.,\n",
    "are the same size)."
   ]
  },
  {
   "cell_type": "code",
   "execution_count": 14,
   "id": "840707b3-9d52-4699-a843-532c854527a2",
   "metadata": {},
   "outputs": [],
   "source": [
    "# Load library\n",
    "import numpy as np\n",
    "# Create 4x3 matrix\n",
    "matrix = np.array([[1, 2, 3],\n",
    " [4, 5, 6],\n",
    " [7, 8, 9],\n",
    " [10, 11, 12]])\n",
    "# Reshape matrix into 2x6 matrix\n",
    "matrix = matrix.reshape(2, 6)\n",
    "# array([[ 1, 2, 3, 4, 5, 6],\n",
    "#  [ 7, 8, 9, 10, 11, 12]])\n"
   ]
  },
  {
   "cell_type": "code",
   "execution_count": 15,
   "id": "d1c8f80b-acac-4b4f-b15c-48543f6af696",
   "metadata": {},
   "outputs": [
    {
     "data": {
      "text/plain": [
       "(2, 6)"
      ]
     },
     "execution_count": 15,
     "metadata": {},
     "output_type": "execute_result"
    }
   ],
   "source": [
    "matrix.shape"
   ]
  },
  {
   "cell_type": "code",
   "execution_count": 16,
   "id": "db6bbee9-de65-4f47-99f8-7ca4e16fcda2",
   "metadata": {},
   "outputs": [
    {
     "name": "stdout",
     "output_type": "stream",
     "text": [
      "12\n"
     ]
    }
   ],
   "source": [
    "# Check the size of a matrix using size:\n",
    "print(matrix.size)\n",
    "# 12"
   ]
  },
  {
   "cell_type": "code",
   "execution_count": 17,
   "id": "8ada17c6-27b2-4f5b-b2db-498a59420af3",
   "metadata": {},
   "outputs": [
    {
     "name": "stdout",
     "output_type": "stream",
     "text": [
      "[[ 1  2  3  4  5  6  7  8  9 10 11 12]]\n"
     ]
    },
    {
     "data": {
      "text/plain": [
       "array([ 1,  2,  3,  4,  5,  6,  7,  8,  9, 10, 11, 12])"
      ]
     },
     "execution_count": 17,
     "metadata": {},
     "output_type": "execute_result"
    }
   ],
   "source": [
    "# One useful argument in reshape is -1, which effectively means “as many as needed,”\n",
    "# so reshape(1, -1) means one row and as many columns as needed:\n",
    "print(matrix.reshape(1, -1))\n",
    "# array([[ 1, 2, 3, 4, 5, 6, 7, 8, 9, 10, 11, 12]])\n",
    "\n",
    "# If we provide one integer, reshape will return a one-dimensional array of that length:\n",
    "matrix.reshape(12)\n",
    "# array([ 1, 2, 3, 4, 5, 6, 7, 8, 9, 10, 11, 12])"
   ]
  },
  {
   "cell_type": "markdown",
   "id": "033a0fcb-1fef-43fe-a343-a4e3ed8b3b2f",
   "metadata": {},
   "source": [
    "# Transposing a Vector or Matrix"
   ]
  },
  {
   "cell_type": "code",
   "execution_count": 18,
   "id": "61531d2c-70f8-41e9-84ef-4595edec9f64",
   "metadata": {},
   "outputs": [
    {
     "data": {
      "text/plain": [
       "array([[1, 4, 7],\n",
       "       [2, 5, 8],\n",
       "       [3, 6, 9]])"
      ]
     },
     "execution_count": 18,
     "metadata": {},
     "output_type": "execute_result"
    }
   ],
   "source": [
    "# Use the T method:\n",
    "# Load library\n",
    "import numpy as np\n",
    "# Create matrix\n",
    "matrix = np.array([[1, 2, 3],\n",
    "                 [4, 5, 6],\n",
    "                 [7, 8, 9]])\n",
    "# Transpose matrix\n",
    "matrix.T\n",
    "# array([[1, 4, 7],\n",
    "#  [2, 5, 8],\n",
    "#  [3, 6, 9]])"
   ]
  },
  {
   "cell_type": "code",
   "execution_count": 19,
   "id": "cef8a907-67e4-432e-a642-f0e7b00cf406",
   "metadata": {},
   "outputs": [
    {
     "data": {
      "text/plain": [
       "array([1, 2, 3, 4, 5, 6])"
      ]
     },
     "execution_count": 19,
     "metadata": {},
     "output_type": "execute_result"
    }
   ],
   "source": [
    "# Note: vector can’t be transposed because it’s just a collection of values:\n",
    "# Transpose vector\n",
    "np.array([1, 2, 3, 4, 5, 6]).T\n",
    "# array([1, 2, 3, 4, 5, 6])"
   ]
  },
  {
   "cell_type": "markdown",
   "id": "d835f1ea-b10a-4723-9107-07ab59b46eb8",
   "metadata": {},
   "source": [
    "# Flattening a Matrix"
   ]
  },
  {
   "cell_type": "code",
   "execution_count": 20,
   "id": "e433a7a0-1fbc-4485-947b-b7b386045cc3",
   "metadata": {},
   "outputs": [
    {
     "data": {
      "text/plain": [
       "array([1, 2, 3, 4, 5, 6, 7, 8, 9])"
      ]
     },
     "execution_count": 20,
     "metadata": {},
     "output_type": "execute_result"
    }
   ],
   "source": [
    "# to transform a matrix into a one-dimensional array.\n",
    "# Use the flatten method:\n",
    "# Load library\n",
    "import numpy as np\n",
    "# Create matrix\n",
    "matrix = np.array([[1, 2, 3],\n",
    " [4, 5, 6],\n",
    " [7, 8, 9]])\n",
    "# Flatten matrix\n",
    "matrix.flatten()\n",
    "# array([1, 2, 3, 4, 5, 6, 7, 8, 9])"
   ]
  },
  {
   "cell_type": "markdown",
   "id": "4185290b-d48d-4327-8ee2-66ebd4c98fb1",
   "metadata": {},
   "source": [
    "## End of part_2"
   ]
  },
  {
   "cell_type": "markdown",
   "id": "41772118-075a-4c40-97c2-65b26a509825",
   "metadata": {},
   "source": [
    "> ## Another common way to flatten arrays is the ravel method. Lets us flatten lists of arrays, which we can’t do with the flatten method.\n",
    "> * This operation is useful for flattening very large arrays and\n",
    "speeding up code:"
   ]
  },
  {
   "cell_type": "code",
   "execution_count": 21,
   "id": "13275e1d-264f-420a-a9dc-f27ae20b499a",
   "metadata": {},
   "outputs": [
    {
     "data": {
      "text/plain": [
       "[array([[1, 2],\n",
       "        [3, 4]]),\n",
       " array([[5, 6],\n",
       "        [7, 8]])]"
      ]
     },
     "execution_count": 21,
     "metadata": {},
     "output_type": "execute_result"
    }
   ],
   "source": [
    "# Create one matrix\n",
    "matrix_a = np.array([[1, 2],\n",
    "                    [3, 4]])\n",
    "# Create a second matrix\n",
    "matrix_b = np.array([[5, 6],\n",
    "                     [7, 8]])\n",
    "# Create a list of matrices\n",
    "matrix_list = [matrix_a, matrix_b]\n",
    "matrix_list"
   ]
  },
  {
   "cell_type": "code",
   "execution_count": 23,
   "id": "c8aeb8ec-1b93-4438-8bf1-13d61fdacd0e",
   "metadata": {},
   "outputs": [
    {
     "data": {
      "text/plain": [
       "list"
      ]
     },
     "execution_count": 23,
     "metadata": {},
     "output_type": "execute_result"
    }
   ],
   "source": [
    "type(matrix_list)"
   ]
  },
  {
   "cell_type": "code",
   "execution_count": 22,
   "id": "311f9823-5b89-47e3-9ebf-612f947d6bc0",
   "metadata": {},
   "outputs": [
    {
     "data": {
      "text/plain": [
       "array([1, 2, 3, 4, 5, 6, 7, 8])"
      ]
     },
     "execution_count": 22,
     "metadata": {},
     "output_type": "execute_result"
    }
   ],
   "source": [
    "# Flatten the entire list of matrices\n",
    "np.ravel(matrix_list)\n",
    "# array([1, 2, 3, 4, 5, 6, 7, 8])"
   ]
  },
  {
   "cell_type": "markdown",
   "id": "835269f2-7eb5-4c72-8d79-8c1bab442e66",
   "metadata": {},
   "source": [
    "# Finding the Rank of a Matrix"
   ]
  },
  {
   "cell_type": "code",
   "execution_count": 1,
   "id": "a90291f7-a61c-4124-9a84-11a7c7fffb34",
   "metadata": {},
   "outputs": [
    {
     "data": {
      "text/plain": [
       "2"
      ]
     },
     "execution_count": 1,
     "metadata": {},
     "output_type": "execute_result"
    }
   ],
   "source": [
    "# Use NumPy’s linear algebra method matrix_rank:\n",
    "# Load library\n",
    "import numpy as np\n",
    "# Create matrix\n",
    "matrix = np.array([[1, 1, 1],\n",
    "                 [1, 1, 10],\n",
    "                 [1, 1, 15]])\n",
    "# Return matrix rank\n",
    "# Return matrix rank of array using SVD method\n",
    "# linalg.matrix_rank(A, tol=None, hermitian=False)\n",
    "# Rank of the array is the number of singular values of the array that are greater than tol.\n",
    "# The rank of a matrix is the maximum number of linearly independent rows or columns in the matrix.\n",
    "np.linalg.matrix_rank(matrix)\n",
    "# 2"
   ]
  },
  {
   "cell_type": "markdown",
   "id": "5698fa6e-2b3f-4ea8-9acd-3c20a8e70764",
   "metadata": {},
   "source": [
    "# Getting the Diagonal of a Matrix"
   ]
  },
  {
   "cell_type": "code",
   "execution_count": 2,
   "id": "aa3b41d5-cdd2-408b-be03-47a74e6b1267",
   "metadata": {},
   "outputs": [
    {
     "data": {
      "text/plain": [
       "array([1, 4, 9])"
      ]
     },
     "execution_count": 2,
     "metadata": {},
     "output_type": "execute_result"
    }
   ],
   "source": [
    "# Use NumPy’s diagonal:\n",
    "# Load library\n",
    "import numpy as np\n",
    "# Create matrix\n",
    "matrix = np.array([[1, 2, 3],\n",
    "                 [2, 4, 6],\n",
    "                 [3, 8, 9]])\n",
    "# Return diagonal elements\n",
    "matrix.diagonal()\n",
    "# array([1, 4, 9])"
   ]
  },
  {
   "cell_type": "code",
   "execution_count": 3,
   "id": "27f6b884-a8d3-45be-aa66-edc4d34d18e0",
   "metadata": {},
   "outputs": [
    {
     "name": "stdout",
     "output_type": "stream",
     "text": [
      "[2 6]\n"
     ]
    },
    {
     "data": {
      "text/plain": [
       "array([2, 8])"
      ]
     },
     "execution_count": 3,
     "metadata": {},
     "output_type": "execute_result"
    }
   ],
   "source": [
    "# It is also possible to get a diagonal off the main diagonal by using the offset parameter:\n",
    "\n",
    "# Return diagonal one above the main diagonal\n",
    "print(matrix.diagonal(offset=1))\n",
    "# array([2, 6])\n",
    "\n",
    "# Return diagonal one below the main diagonal\n",
    "matrix.diagonal(offset=-1)\n",
    "# array([2, 8])"
   ]
  },
  {
   "cell_type": "markdown",
   "id": "3e1934c3-5880-4ac2-837a-f4209cd1ddc4",
   "metadata": {},
   "source": [
    "# Calculating the Trace of a Matrix"
   ]
  },
  {
   "cell_type": "code",
   "execution_count": 4,
   "id": "f9e8be2b-0270-480b-a394-910b42a7a4ec",
   "metadata": {},
   "outputs": [
    {
     "data": {
      "text/plain": [
       "14"
      ]
     },
     "execution_count": 4,
     "metadata": {},
     "output_type": "execute_result"
    }
   ],
   "source": [
    "# Use trace:\n",
    "# Load library\n",
    "import numpy as np\n",
    "# Create matrix\n",
    "matrix = np.array([[1, 2, 3],\n",
    "                 [2, 4, 6],\n",
    "                 [3, 8, 9]])\n",
    "# Return trace\n",
    "matrix.trace()\n",
    "# 14"
   ]
  },
  {
   "cell_type": "code",
   "execution_count": 5,
   "id": "b89bf514-9697-4639-98c4-2ade7988bd24",
   "metadata": {},
   "outputs": [
    {
     "data": {
      "text/plain": [
       "14"
      ]
     },
     "execution_count": 5,
     "metadata": {},
     "output_type": "execute_result"
    }
   ],
   "source": [
    "# Alternatively, we can return the diagonal of a matrix and calculate its sum:\n",
    "# Return diagonal and sum elements\n",
    "sum(matrix.diagonal())\n",
    "# 14"
   ]
  },
  {
   "cell_type": "markdown",
   "id": "af26d29d-9987-471c-a230-e31dda7cffa9",
   "metadata": {},
   "source": [
    "# Calculating Dot Products\n",
    "> Interactive visualization:\n",
    "> > https://maththebeautiful.com/dot-product/"
   ]
  },
  {
   "cell_type": "code",
   "execution_count": 6,
   "id": "fa2dfa80-38f2-474c-a817-21a87acd31b3",
   "metadata": {},
   "outputs": [
    {
     "data": {
      "text/plain": [
       "32"
      ]
     },
     "execution_count": 6,
     "metadata": {},
     "output_type": "execute_result"
    }
   ],
   "source": [
    "# Use NumPy’s dot function:\n",
    "# Load library\n",
    "import numpy as np\n",
    "# Create two vectors\n",
    "vector_a = np.array([1,2,3])\n",
    "vector_b = np.array([4,5,6])\n",
    "# Calculate dot product\n",
    "np.dot(vector_a, vector_b)\n",
    "# 32"
   ]
  },
  {
   "cell_type": "code",
   "execution_count": 7,
   "id": "4c2110d6-4b7e-4862-ad81-db8a522aed4f",
   "metadata": {},
   "outputs": [
    {
     "data": {
      "text/plain": [
       "32"
      ]
     },
     "execution_count": 7,
     "metadata": {},
     "output_type": "execute_result"
    }
   ],
   "source": [
    "# Alternatively, in Python 3.5+ we can use the new @ operator:\n",
    "# Calculate dot product\n",
    "vector_a @ vector_b\n",
    "# 32"
   ]
  },
  {
   "cell_type": "markdown",
   "id": "e7a97ad7-44b6-48b0-a999-1040daf777ad",
   "metadata": {},
   "source": [
    "# Adding and Subtracting Matrices"
   ]
  },
  {
   "cell_type": "code",
   "execution_count": 8,
   "id": "632124d2-728b-4a79-8b9f-3a1217741705",
   "metadata": {},
   "outputs": [
    {
     "name": "stdout",
     "output_type": "stream",
     "text": [
      "[[ 2  4  2]\n",
      " [ 2  4  2]\n",
      " [ 2  4 10]]\n"
     ]
    },
    {
     "data": {
      "text/plain": [
       "array([[ 0, -2,  0],\n",
       "       [ 0, -2,  0],\n",
       "       [ 0, -2, -6]])"
      ]
     },
     "execution_count": 8,
     "metadata": {},
     "output_type": "execute_result"
    }
   ],
   "source": [
    "# Use NumPy’s add and subtract:\n",
    "# Load library\n",
    "import numpy as np\n",
    "# Create matrix\n",
    "matrix_a = np.array([[1, 1, 1],\n",
    "                    [1, 1, 1],\n",
    "                    [1, 1, 2]])\n",
    "# Create matrix\n",
    "matrix_b = np.array([[1, 3, 1],\n",
    "                     [1, 3, 1],\n",
    "                     [1, 3, 8]])\n",
    "# Add two matrices\n",
    "print(np.add(matrix_a, matrix_b))\n",
    "# array([[ 2, 4, 2],\n",
    "#  [ 2, 4, 2],\n",
    "#  [ 2, 4, 10]])\n",
    "# Subtract two matrices\n",
    "np.subtract(matrix_a, matrix_b)\n",
    "# array([[ 0, -2, 0],\n",
    "#  [ 0, -2, 0],\n",
    "#  [ 0, -2, -6]])"
   ]
  },
  {
   "cell_type": "code",
   "execution_count": 10,
   "id": "ef1b068e-bb10-4aa3-a748-dc8e95c36abc",
   "metadata": {},
   "outputs": [
    {
     "data": {
      "text/plain": [
       "array([[ 0, -2,  0],\n",
       "       [ 0, -2,  0],\n",
       "       [ 0, -2, -6]])"
      ]
     },
     "execution_count": 10,
     "metadata": {},
     "output_type": "execute_result"
    }
   ],
   "source": [
    "# Alternatively, we can simply use the + and – operators:\n",
    "# Add two matrices\n",
    "matrix_a - matrix_b\n",
    "# array([[ 2, 4, 2],\n",
    "#  [ 2, 4, 2],\n",
    "#  [ 2, 4, 10]])"
   ]
  },
  {
   "cell_type": "markdown",
   "id": "1305602c-86b7-476b-9d18-c83697a3f304",
   "metadata": {},
   "source": [
    "# Multiplying Matrices\n",
    "> visualization:\n",
    "> > http://matrixmultiplication.xyz/"
   ]
  },
  {
   "cell_type": "code",
   "execution_count": 11,
   "id": "fcdd7971-f36b-4409-acd0-a03742a7ec81",
   "metadata": {},
   "outputs": [
    {
     "data": {
      "text/plain": [
       "array([[2, 5],\n",
       "       [3, 7]])"
      ]
     },
     "execution_count": 11,
     "metadata": {},
     "output_type": "execute_result"
    }
   ],
   "source": [
    "# Use NumPy’s dot:\n",
    "# Load library\n",
    "import numpy as np\n",
    "# Create matrix\n",
    "matrix_a = np.array([[1, 1],\n",
    "                     [1, 2]])\n",
    "# Create matrix\n",
    "matrix_b = np.array([[1, 3],\n",
    "                    [1, 2]])\n",
    "# Multiply two matrices\n",
    "np.dot(matrix_a, matrix_b)\n",
    "# array([[2, 5],\n",
    "#  [3, 7]])"
   ]
  },
  {
   "cell_type": "code",
   "execution_count": 12,
   "id": "d1ca37e6-b7dd-47eb-a258-928b16dc287e",
   "metadata": {},
   "outputs": [
    {
     "name": "stdout",
     "output_type": "stream",
     "text": [
      "[[2 5]\n",
      " [3 7]]\n"
     ]
    }
   ],
   "source": [
    "# Alternatively, in Python 3.5+ we can use the @ operator:\n",
    "# Multiply two matrices\n",
    "print(matrix_a @ matrix_b)\n",
    "# array([[2, 5],\n",
    "#  [3, 7]])"
   ]
  },
  {
   "cell_type": "code",
   "execution_count": 13,
   "id": "1d6d78b2-5c50-4aa2-a8de-7c0db9531bfe",
   "metadata": {},
   "outputs": [
    {
     "data": {
      "text/plain": [
       "array([[1, 3],\n",
       "       [1, 4]])"
      ]
     },
     "execution_count": 13,
     "metadata": {},
     "output_type": "execute_result"
    }
   ],
   "source": [
    "# If we want to do element-wise multiplication, we can use the * operator:\n",
    "# Multiply two matrices element-wise\n",
    "matrix_a * matrix_b\n",
    "# array([[1, 3],\n",
    "#  [1, 4]])"
   ]
  },
  {
   "cell_type": "markdown",
   "id": "a3110aa2-b6e1-49f0-9f85-2cc7f2848bd4",
   "metadata": {},
   "source": [
    "# Inverting a Matrix\n",
    ">The inverse of a square matrix, A, is a second matrix, $A^{−1}$, such that:\n",
    "$A.A^{−1} = I$\n",
    ">> where I is the identity matrix.<br><br>\n",
    ">> In NumPy we can use linalg.inv to calculate $A^{−1}$ if it\n",
    "exists.\n",
    "\n",
    "> Visualization:\n",
    "> > https://www.3blue1brown.com/lessons/inverse-matrices"
   ]
  },
  {
   "cell_type": "code",
   "execution_count": 14,
   "id": "4e2f03cf-46ff-46d9-adb9-d3216036bf7f",
   "metadata": {},
   "outputs": [
    {
     "data": {
      "text/plain": [
       "array([[-1.66666667,  1.33333333],\n",
       "       [ 0.66666667, -0.33333333]])"
      ]
     },
     "execution_count": 14,
     "metadata": {},
     "output_type": "execute_result"
    }
   ],
   "source": [
    "# to calculate the inverse of a square matrix use NumPy’s linear algebra inv method:\n",
    "# Load library\n",
    "import numpy as np\n",
    "# Create matrix\n",
    "matrix = np.array([[1, 4],\n",
    "                   [2, 5]])\n",
    "# Calculate inverse of matrix\n",
    "np.linalg.inv(matrix)\n",
    "# array([[-1.66666667, 1.33333333],\n",
    "#  [ 0.66666667, -0.33333333]])"
   ]
  },
  {
   "cell_type": "code",
   "execution_count": 15,
   "id": "8d69adbe-43ee-4b7b-bbfa-cbc882391b64",
   "metadata": {},
   "outputs": [
    {
     "data": {
      "text/plain": [
       "array([[1.00000000e+00, 0.00000000e+00],\n",
       "       [1.11022302e-16, 1.00000000e+00]])"
      ]
     },
     "execution_count": 15,
     "metadata": {},
     "output_type": "execute_result"
    }
   ],
   "source": [
    "# we can multiply a matrix by its inverse, and the result is the identity matrix:\n",
    "# Multiply matrix and its inverse\n",
    "matrix @ np.linalg.inv(matrix)\n",
    "# array([[ 1., 0.],\n",
    "#  [ 0., 1.]])"
   ]
  },
  {
   "cell_type": "markdown",
   "id": "e70b7b85-4827-4dc7-ae73-59c5ef701919",
   "metadata": {},
   "source": [
    "# Generating Random Values\n",
    "> It can be useful to return the same random numbers multiple\n",
    "times to get predictable, repeatable results.\n",
    ">> We can do this by setting the “seed” (an\n",
    "integer) of the pseudorandom generator. Random processes with the same seed will\n",
    "always produce the same output."
   ]
  },
  {
   "cell_type": "code",
   "execution_count": 49,
   "id": "d87f14e0-cb29-4a7a-8c33-acf7a81879c9",
   "metadata": {},
   "outputs": [
    {
     "data": {
      "text/plain": [
       "array([0.5488135 , 0.71518937, 0.60276338])"
      ]
     },
     "execution_count": 49,
     "metadata": {},
     "output_type": "execute_result"
    }
   ],
   "source": [
    "# to generate pseudorandom values use NumPy’s random:\n",
    "# Load library\n",
    "import numpy as np\n",
    "# Set seed\n",
    "np.random.seed(0)\n",
    "# Generate three random floats between 0.0 and 1.0\n",
    "np.random.random(3)\n",
    "# array([ 0.5488135 , 0.71518937, 0.60276338])"
   ]
  },
  {
   "cell_type": "code",
   "execution_count": 58,
   "id": "661ef296-98fb-4f31-ab75-a38c02d47e87",
   "metadata": {},
   "outputs": [
    {
     "data": {
      "text/plain": [
       "array([0.94466892, 0.52184832, 0.41466194])"
      ]
     },
     "execution_count": 58,
     "metadata": {},
     "output_type": "execute_result"
    }
   ],
   "source": [
    "np.random.random(3)\n",
    "# array([ 0.5488135 , 0.71518937, 0.60276338])"
   ]
  },
  {
   "cell_type": "code",
   "execution_count": 60,
   "id": "45c84e39-a740-4b41-9fb0-9403a06abbb0",
   "metadata": {},
   "outputs": [
    {
     "data": {
      "text/plain": [
       "array([[2, 0, 0],\n",
       "       [4, 5, 5],\n",
       "       [6, 8, 4]])"
      ]
     },
     "execution_count": 60,
     "metadata": {},
     "output_type": "execute_result"
    }
   ],
   "source": [
    "# it is also common to generate integers:\n",
    "# Generate three random integers between 0 and 10\n",
    "np.random.randint(0, 11, (3,3))\n",
    "# array([3, 7, 9])"
   ]
  },
  {
   "cell_type": "code",
   "execution_count": 61,
   "id": "590172b5-a37f-41e2-8c80-454acda7c29d",
   "metadata": {},
   "outputs": [
    {
     "name": "stdout",
     "output_type": "stream",
     "text": [
      "normal distribution:  [ 0.81310127 -0.22925063  2.16171737]\n",
      "logistic distribution:  [ 2.22359673 -2.20524638  3.46955759]\n",
      "uniform distribution:  [1.65314004 1.17090959 1.35815217]\n"
     ]
    }
   ],
   "source": [
    "# we can generate numbers by drawing them from a distribution (note this is not technically random):\n",
    "\n",
    "# Draw three numbers from a normal distribution with mean 0.0\n",
    "# and standard deviation of 1.0\n",
    "print(\"normal distribution: \",np.random.normal(0.0, 1.0, 3))\n",
    "# array([-1.42232584, 1.52006949, -0.29139398])\n",
    "# Draw three numbers from a logistic distribution with mean 0.0 and scale of 1.0\n",
    "print(\"logistic distribution: \",np.random.logistic(0.0, 1.0, 3))\n",
    "# array([-0.98118713, -0.08939902, 1.46416405])\n",
    "# Draw three numbers greater than or equal to 1.0 and less than 2.0\n",
    "print(\"uniform distribution: \",np.random.uniform(1.0, 2.0, 3))\n",
    "# array([ 1.47997717, 1.3927848 , 1.83607876])"
   ]
  },
  {
   "cell_type": "markdown",
   "id": "0e303deb-8dce-4a53-9f45-df674c63735c",
   "metadata": {},
   "source": [
    "## End of part_3"
   ]
  }
 ],
 "metadata": {
  "kernelspec": {
   "display_name": "Python 3 (ipykernel)",
   "language": "python",
   "name": "python3"
  },
  "language_info": {
   "codemirror_mode": {
    "name": "ipython",
    "version": 3
   },
   "file_extension": ".py",
   "mimetype": "text/x-python",
   "name": "python",
   "nbconvert_exporter": "python",
   "pygments_lexer": "ipython3",
   "version": "3.11.7"
  }
 },
 "nbformat": 4,
 "nbformat_minor": 5
}
