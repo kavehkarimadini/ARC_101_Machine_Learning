{
 "cells": [
  {
   "cell_type": "code",
   "execution_count": 1,
   "id": "3c74f0c4-daf7-4b7b-845d-63626de6f42c",
   "metadata": {},
   "outputs": [],
   "source": [
    "# Load libraries\n",
    "import numpy as np\n",
    "import scipy.special\n",
    "\n",
    "from sklearn import datasets\n",
    "from sklearn.preprocessing import StandardScaler\n",
    "from sklearn.cluster import MeanShift, DBSCAN\n",
    "from sklearn.utils import check_random_state\n",
    "from sklearn.decomposition import PCA\n",
    "\n",
    "from bokeh.plotting import figure,output_notebook, show\n",
    "from bokeh.layouts import gridplot,column, row\n",
    "from bokeh.models import ColumnDataSource,ColorBar,Plot, VBar,Grid, LinearAxis\n",
    "from bokeh.transform import factor_cmap\n",
    "from bokeh.palettes import Category10"
   ]
  },
  {
   "cell_type": "markdown",
   "id": "ec773973-b7e2-41ac-a17a-c300fdf3efc8",
   "metadata": {},
   "source": [
    "# Data Preprocessing"
   ]
  },
  {
   "cell_type": "code",
   "execution_count": 2,
   "id": "bbc0b4b8-93b1-447d-a90a-edf3667770b6",
   "metadata": {},
   "outputs": [
    {
     "name": "stdout",
     "output_type": "stream",
     "text": [
      "[[5.1 3.5 1.4 0.2]\n",
      " [4.9 3.  1.4 0.2]\n",
      " [4.7 3.2 1.3 0.2]\n",
      " [4.6 3.1 1.5 0.2]\n",
      " [5.  3.6 1.4 0.2]\n",
      " [5.4 3.9 1.7 0.4]\n",
      " [4.6 3.4 1.4 0.3]\n",
      " [5.  3.4 1.5 0.2]\n",
      " [4.4 2.9 1.4 0.2]\n",
      " [4.9 3.1 1.5 0.1]] (150, 4)\n"
     ]
    }
   ],
   "source": [
    "# Load data\n",
    "iris = datasets.load_iris()\n",
    "features = iris.data\n",
    "print(features[:10],features.shape)"
   ]
  },
  {
   "cell_type": "code",
   "execution_count": 3,
   "id": "fe25aada-f6f8-442f-81fc-ccc89b86545f",
   "metadata": {},
   "outputs": [
    {
     "data": {
      "text/plain": [
       "array([[-0.90068117,  1.01900435, -1.34022653, -1.3154443 ],\n",
       "       [-1.14301691, -0.13197948, -1.34022653, -1.3154443 ],\n",
       "       [-1.38535265,  0.32841405, -1.39706395, -1.3154443 ],\n",
       "       [-1.50652052,  0.09821729, -1.2833891 , -1.3154443 ],\n",
       "       [-1.02184904,  1.24920112, -1.34022653, -1.3154443 ],\n",
       "       [-0.53717756,  1.93979142, -1.16971425, -1.05217993],\n",
       "       [-1.50652052,  0.78880759, -1.34022653, -1.18381211],\n",
       "       [-1.02184904,  0.78880759, -1.2833891 , -1.3154443 ],\n",
       "       [-1.74885626, -0.36217625, -1.34022653, -1.3154443 ],\n",
       "       [-1.14301691,  0.09821729, -1.2833891 , -1.44707648]])"
      ]
     },
     "execution_count": 3,
     "metadata": {},
     "output_type": "execute_result"
    }
   ],
   "source": [
    "# Standardize features\n",
    "scaler = StandardScaler()\n",
    "features_std = scaler.fit_transform(features)\n",
    "features_std[:10]"
   ]
  },
  {
   "cell_type": "markdown",
   "id": "d416cd96-cd20-402e-b3d6-1cacd1dac658",
   "metadata": {},
   "source": [
    "# Mean Shift Clustering"
   ]
  },
  {
   "cell_type": "code",
   "execution_count": 12,
   "id": "7d282a36-1558-46ff-b0e3-1236a89fa8b4",
   "metadata": {},
   "outputs": [
    {
     "name": "stdout",
     "output_type": "stream",
     "text": [
      "CPU times: total: 0 ns\n",
      "Wall time: 0 ns\n"
     ]
    }
   ],
   "source": [
    "%time\n",
    "# Create mean shift object\n",
    "cluster = MeanShift(n_jobs=-1,cluster_all=False)\n",
    "# Train model\n",
    "model = cluster.fit(features_std)"
   ]
  },
  {
   "cell_type": "code",
   "execution_count": 13,
   "id": "94e4d359-f80d-46c4-812f-3ec73cb19050",
   "metadata": {},
   "outputs": [
    {
     "data": {
      "text/plain": [
       "array([ 1,  1,  1,  1,  1,  1,  1,  1,  1,  1,  1,  1,  1,  1, -1, -1,  1,\n",
       "        1,  1,  1,  1,  1,  1,  1,  1,  1,  1,  1,  1,  1,  1,  1, -1, -1,\n",
       "        1,  1,  1,  1,  1,  1,  1, -1,  1,  1,  1,  1,  1,  1,  1,  1,  0,\n",
       "        0,  0, -1,  0,  0,  0, -1,  0,  0, -1,  0, -1,  0,  0,  0,  0,  0,\n",
       "       -1,  0,  0,  0,  0,  0,  0,  0,  0,  0,  0,  0, -1, -1,  0,  0,  0,\n",
       "        0,  0,  0,  0,  0,  0,  0,  0, -1,  0,  0,  0,  0, -1,  0,  0,  0,\n",
       "        0,  0,  0, -1, -1,  0,  0, -1,  0,  0,  0,  0,  0,  0,  0, -1, -1,\n",
       "       -1,  0,  0, -1,  0,  0,  0,  0,  0,  0,  0,  0, -1,  0,  0,  0, -1,\n",
       "        0,  0,  0,  0,  0,  0,  0,  0,  0,  0,  0,  0,  0,  0])"
      ]
     },
     "execution_count": 13,
     "metadata": {},
     "output_type": "execute_result"
    }
   ],
   "source": [
    "model.labels_"
   ]
  },
  {
   "cell_type": "code",
   "execution_count": 14,
   "id": "27775399-56e2-4ac7-84f9-0a87ede76558",
   "metadata": {},
   "outputs": [
    {
     "data": {
      "text/plain": [
       "array([[ 0.50161528, -0.32287436,  0.65393539,  0.65261739],\n",
       "       [-1.05954571,  0.75811468, -1.2998088 , -1.25401594]])"
      ]
     },
     "execution_count": 14,
     "metadata": {},
     "output_type": "execute_result"
    }
   ],
   "source": [
    "model.cluster_centers_"
   ]
  },
  {
   "cell_type": "code",
   "execution_count": 15,
   "id": "6dd1738c-6c53-4670-870d-db9684272773",
   "metadata": {},
   "outputs": [
    {
     "data": {
      "text/plain": [
       "['1', '1', '1', '1', '1', '1', '1', '1', '1', '1']"
      ]
     },
     "execution_count": 15,
     "metadata": {},
     "output_type": "execute_result"
    }
   ],
   "source": [
    "# Convert cluster labels to strings\n",
    "cluster_labels_str = [str(label) for label in model.labels_]\n",
    "cluster_labels_str[:10]"
   ]
  },
  {
   "cell_type": "code",
   "execution_count": 16,
   "id": "fc6afcc2-8c69-47dc-8276-c74224575680",
   "metadata": {},
   "outputs": [],
   "source": [
    "# Reduce dimensionality using PCA\n",
    "pca = PCA(n_components=2)\n",
    "data_2d = pca.fit_transform(features_std)"
   ]
  },
  {
   "cell_type": "code",
   "execution_count": 17,
   "id": "a432bc5c-d07a-4475-9519-635755c8df3a",
   "metadata": {},
   "outputs": [
    {
     "data": {
      "text/html": [
       "    <style>\n",
       "        .bk-notebook-logo {\n",
       "            display: block;\n",
       "            width: 20px;\n",
       "            height: 20px;\n",
       "            background-image: url(data:image/png;base64,iVBORw0KGgoAAAANSUhEUgAAABQAAAAUCAYAAACNiR0NAAAABHNCSVQICAgIfAhkiAAAAAlwSFlzAAALEgAACxIB0t1+/AAAABx0RVh0U29mdHdhcmUAQWRvYmUgRmlyZXdvcmtzIENTNui8sowAAAOkSURBVDiNjZRtaJVlGMd/1/08zzln5zjP1LWcU9N0NkN8m2CYjpgQYQXqSs0I84OLIC0hkEKoPtiH3gmKoiJDU7QpLgoLjLIQCpEsNJ1vqUOdO7ppbuec5+V+rj4ctwzd8IIbbi6u+8f1539dt3A78eXC7QizUF7gyV1fD1Yqg4JWz84yffhm0qkFqBogB9rM8tZdtwVsPUhWhGcFJngGeWrPzHm5oaMmkfEg1usvLFyc8jLRqDOMru7AyC8saQr7GG7f5fvDeH7Ej8CM66nIF+8yngt6HWaKh7k49Soy9nXurCi1o3qUbS3zWfrYeQDTB/Qj6kX6Ybhw4B+bOYoLKCC9H3Nu/leUTZ1JdRWkkn2ldcCamzrcf47KKXdAJllSlxAOkRgyHsGC/zRday5Qld9DyoM4/q/rUoy/CXh3jzOu3bHUVZeU+DEn8FInkPBFlu3+nW3Nw0mk6vCDiWg8CeJaxEwuHS3+z5RgY+YBR6V1Z1nxSOfoaPa4LASWxxdNp+VWTk7+4vzaou8v8PN+xo+KY2xsw6une2frhw05CTYOmQvsEhjhWjn0bmXPjpE1+kplmmkP3suftwTubK9Vq22qKmrBhpY4jvd5afdRA3wGjFAgcnTK2s4hY0/GPNIb0nErGMCRxWOOX64Z8RAC4oCXdklmEvcL8o0BfkNK4lUg9HTl+oPlQxdNo3Mg4Nv175e/1LDGzZen30MEjRUtmXSfiTVu1kK8W4txyV6BMKlbgk3lMwYCiusNy9fVfvvwMxv8Ynl6vxoByANLTWplvuj/nF9m2+PDtt1eiHPBr1oIfhCChQMBw6Aw0UulqTKZdfVvfG7VcfIqLG9bcldL/+pdWTLxLUy8Qq38heUIjh4XlzZxzQm19lLFlr8vdQ97rjZVOLf8nclzckbcD4wxXMidpX30sFd37Fv/GtwwhzhxGVAprjbg0gCAEeIgwCZyTV2Z1REEW8O4py0wsjeloKoMr6iCY6dP92H6Vw/oTyICIthibxjm/DfN9lVz8IqtqKYLUXfoKVMVQVVJOElGjrnnUt9T9wbgp8AyYKaGlqingHZU/uG2NTZSVqwHQTWkx9hxjkpWDaCg6Ckj5qebgBVbT3V3NNXMSiWSDdGV3hrtzla7J+duwPOToIg42ChPQOQjspnSlp1V+Gjdged7+8UN5CRAV7a5EdFNwCjEaBR27b3W890TE7g24NAP/mMDXRWrGoFPQI9ls/MWO2dWFAar/xcOIImbbpA3zgAAAABJRU5ErkJggg==);\n",
       "        }\n",
       "    </style>\n",
       "    <div>\n",
       "        <a href=\"https://bokeh.org\" target=\"_blank\" class=\"bk-notebook-logo\"></a>\n",
       "        <span id=\"c1e26a0f-5c14-4b33-a625-006ebddeabc3\">Loading BokehJS ...</span>\n",
       "    </div>\n"
      ]
     },
     "metadata": {},
     "output_type": "display_data"
    },
    {
     "data": {
      "application/javascript": [
       "(function(root) {\n",
       "  function now() {\n",
       "    return new Date();\n",
       "  }\n",
       "\n",
       "  const force = true;\n",
       "\n",
       "  if (typeof root._bokeh_onload_callbacks === \"undefined\" || force === true) {\n",
       "    root._bokeh_onload_callbacks = [];\n",
       "    root._bokeh_is_loading = undefined;\n",
       "  }\n",
       "\n",
       "const JS_MIME_TYPE = 'application/javascript';\n",
       "  const HTML_MIME_TYPE = 'text/html';\n",
       "  const EXEC_MIME_TYPE = 'application/vnd.bokehjs_exec.v0+json';\n",
       "  const CLASS_NAME = 'output_bokeh rendered_html';\n",
       "\n",
       "  /**\n",
       "   * Render data to the DOM node\n",
       "   */\n",
       "  function render(props, node) {\n",
       "    const script = document.createElement(\"script\");\n",
       "    node.appendChild(script);\n",
       "  }\n",
       "\n",
       "  /**\n",
       "   * Handle when an output is cleared or removed\n",
       "   */\n",
       "  function handleClearOutput(event, handle) {\n",
       "    function drop(id) {\n",
       "      const view = Bokeh.index.get_by_id(id)\n",
       "      if (view != null) {\n",
       "        view.model.document.clear()\n",
       "        Bokeh.index.delete(view)\n",
       "      }\n",
       "    }\n",
       "\n",
       "    const cell = handle.cell;\n",
       "\n",
       "    const id = cell.output_area._bokeh_element_id;\n",
       "    const server_id = cell.output_area._bokeh_server_id;\n",
       "\n",
       "    // Clean up Bokeh references\n",
       "    if (id != null) {\n",
       "      drop(id)\n",
       "    }\n",
       "\n",
       "    if (server_id !== undefined) {\n",
       "      // Clean up Bokeh references\n",
       "      const cmd_clean = \"from bokeh.io.state import curstate; print(curstate().uuid_to_server['\" + server_id + \"'].get_sessions()[0].document.roots[0]._id)\";\n",
       "      cell.notebook.kernel.execute(cmd_clean, {\n",
       "        iopub: {\n",
       "          output: function(msg) {\n",
       "            const id = msg.content.text.trim()\n",
       "            drop(id)\n",
       "          }\n",
       "        }\n",
       "      });\n",
       "      // Destroy server and session\n",
       "      const cmd_destroy = \"import bokeh.io.notebook as ion; ion.destroy_server('\" + server_id + \"')\";\n",
       "      cell.notebook.kernel.execute(cmd_destroy);\n",
       "    }\n",
       "  }\n",
       "\n",
       "  /**\n",
       "   * Handle when a new output is added\n",
       "   */\n",
       "  function handleAddOutput(event, handle) {\n",
       "    const output_area = handle.output_area;\n",
       "    const output = handle.output;\n",
       "\n",
       "    // limit handleAddOutput to display_data with EXEC_MIME_TYPE content only\n",
       "    if ((output.output_type != \"display_data\") || (!Object.prototype.hasOwnProperty.call(output.data, EXEC_MIME_TYPE))) {\n",
       "      return\n",
       "    }\n",
       "\n",
       "    const toinsert = output_area.element.find(\".\" + CLASS_NAME.split(' ')[0]);\n",
       "\n",
       "    if (output.metadata[EXEC_MIME_TYPE][\"id\"] !== undefined) {\n",
       "      toinsert[toinsert.length - 1].firstChild.textContent = output.data[JS_MIME_TYPE];\n",
       "      // store reference to embed id on output_area\n",
       "      output_area._bokeh_element_id = output.metadata[EXEC_MIME_TYPE][\"id\"];\n",
       "    }\n",
       "    if (output.metadata[EXEC_MIME_TYPE][\"server_id\"] !== undefined) {\n",
       "      const bk_div = document.createElement(\"div\");\n",
       "      bk_div.innerHTML = output.data[HTML_MIME_TYPE];\n",
       "      const script_attrs = bk_div.children[0].attributes;\n",
       "      for (let i = 0; i < script_attrs.length; i++) {\n",
       "        toinsert[toinsert.length - 1].firstChild.setAttribute(script_attrs[i].name, script_attrs[i].value);\n",
       "        toinsert[toinsert.length - 1].firstChild.textContent = bk_div.children[0].textContent\n",
       "      }\n",
       "      // store reference to server id on output_area\n",
       "      output_area._bokeh_server_id = output.metadata[EXEC_MIME_TYPE][\"server_id\"];\n",
       "    }\n",
       "  }\n",
       "\n",
       "  function register_renderer(events, OutputArea) {\n",
       "\n",
       "    function append_mime(data, metadata, element) {\n",
       "      // create a DOM node to render to\n",
       "      const toinsert = this.create_output_subarea(\n",
       "        metadata,\n",
       "        CLASS_NAME,\n",
       "        EXEC_MIME_TYPE\n",
       "      );\n",
       "      this.keyboard_manager.register_events(toinsert);\n",
       "      // Render to node\n",
       "      const props = {data: data, metadata: metadata[EXEC_MIME_TYPE]};\n",
       "      render(props, toinsert[toinsert.length - 1]);\n",
       "      element.append(toinsert);\n",
       "      return toinsert\n",
       "    }\n",
       "\n",
       "    /* Handle when an output is cleared or removed */\n",
       "    events.on('clear_output.CodeCell', handleClearOutput);\n",
       "    events.on('delete.Cell', handleClearOutput);\n",
       "\n",
       "    /* Handle when a new output is added */\n",
       "    events.on('output_added.OutputArea', handleAddOutput);\n",
       "\n",
       "    /**\n",
       "     * Register the mime type and append_mime function with output_area\n",
       "     */\n",
       "    OutputArea.prototype.register_mime_type(EXEC_MIME_TYPE, append_mime, {\n",
       "      /* Is output safe? */\n",
       "      safe: true,\n",
       "      /* Index of renderer in `output_area.display_order` */\n",
       "      index: 0\n",
       "    });\n",
       "  }\n",
       "\n",
       "  // register the mime type if in Jupyter Notebook environment and previously unregistered\n",
       "  if (root.Jupyter !== undefined) {\n",
       "    const events = require('base/js/events');\n",
       "    const OutputArea = require('notebook/js/outputarea').OutputArea;\n",
       "\n",
       "    if (OutputArea.prototype.mime_types().indexOf(EXEC_MIME_TYPE) == -1) {\n",
       "      register_renderer(events, OutputArea);\n",
       "    }\n",
       "  }\n",
       "  if (typeof (root._bokeh_timeout) === \"undefined\" || force === true) {\n",
       "    root._bokeh_timeout = Date.now() + 5000;\n",
       "    root._bokeh_failed_load = false;\n",
       "  }\n",
       "\n",
       "  const NB_LOAD_WARNING = {'data': {'text/html':\n",
       "     \"<div style='background-color: #fdd'>\\n\"+\n",
       "     \"<p>\\n\"+\n",
       "     \"BokehJS does not appear to have successfully loaded. If loading BokehJS from CDN, this \\n\"+\n",
       "     \"may be due to a slow or bad network connection. Possible fixes:\\n\"+\n",
       "     \"</p>\\n\"+\n",
       "     \"<ul>\\n\"+\n",
       "     \"<li>re-rerun `output_notebook()` to attempt to load from CDN again, or</li>\\n\"+\n",
       "     \"<li>use INLINE resources instead, as so:</li>\\n\"+\n",
       "     \"</ul>\\n\"+\n",
       "     \"<code>\\n\"+\n",
       "     \"from bokeh.resources import INLINE\\n\"+\n",
       "     \"output_notebook(resources=INLINE)\\n\"+\n",
       "     \"</code>\\n\"+\n",
       "     \"</div>\"}};\n",
       "\n",
       "  function display_loaded() {\n",
       "    const el = document.getElementById(\"c1e26a0f-5c14-4b33-a625-006ebddeabc3\");\n",
       "    if (el != null) {\n",
       "      el.textContent = \"BokehJS is loading...\";\n",
       "    }\n",
       "    if (root.Bokeh !== undefined) {\n",
       "      if (el != null) {\n",
       "        el.textContent = \"BokehJS \" + root.Bokeh.version + \" successfully loaded.\";\n",
       "      }\n",
       "    } else if (Date.now() < root._bokeh_timeout) {\n",
       "      setTimeout(display_loaded, 100)\n",
       "    }\n",
       "  }\n",
       "\n",
       "  function run_callbacks() {\n",
       "    try {\n",
       "      root._bokeh_onload_callbacks.forEach(function(callback) {\n",
       "        if (callback != null)\n",
       "          callback();\n",
       "      });\n",
       "    } finally {\n",
       "      delete root._bokeh_onload_callbacks\n",
       "    }\n",
       "    console.debug(\"Bokeh: all callbacks have finished\");\n",
       "  }\n",
       "\n",
       "  function load_libs(css_urls, js_urls, callback) {\n",
       "    if (css_urls == null) css_urls = [];\n",
       "    if (js_urls == null) js_urls = [];\n",
       "\n",
       "    root._bokeh_onload_callbacks.push(callback);\n",
       "    if (root._bokeh_is_loading > 0) {\n",
       "      console.debug(\"Bokeh: BokehJS is being loaded, scheduling callback at\", now());\n",
       "      return null;\n",
       "    }\n",
       "    if (js_urls == null || js_urls.length === 0) {\n",
       "      run_callbacks();\n",
       "      return null;\n",
       "    }\n",
       "    console.debug(\"Bokeh: BokehJS not loaded, scheduling load and callback at\", now());\n",
       "    root._bokeh_is_loading = css_urls.length + js_urls.length;\n",
       "\n",
       "    function on_load() {\n",
       "      root._bokeh_is_loading--;\n",
       "      if (root._bokeh_is_loading === 0) {\n",
       "        console.debug(\"Bokeh: all BokehJS libraries/stylesheets loaded\");\n",
       "        run_callbacks()\n",
       "      }\n",
       "    }\n",
       "\n",
       "    function on_error(url) {\n",
       "      console.error(\"failed to load \" + url);\n",
       "    }\n",
       "\n",
       "    for (let i = 0; i < css_urls.length; i++) {\n",
       "      const url = css_urls[i];\n",
       "      const element = document.createElement(\"link\");\n",
       "      element.onload = on_load;\n",
       "      element.onerror = on_error.bind(null, url);\n",
       "      element.rel = \"stylesheet\";\n",
       "      element.type = \"text/css\";\n",
       "      element.href = url;\n",
       "      console.debug(\"Bokeh: injecting link tag for BokehJS stylesheet: \", url);\n",
       "      document.body.appendChild(element);\n",
       "    }\n",
       "\n",
       "    for (let i = 0; i < js_urls.length; i++) {\n",
       "      const url = js_urls[i];\n",
       "      const element = document.createElement('script');\n",
       "      element.onload = on_load;\n",
       "      element.onerror = on_error.bind(null, url);\n",
       "      element.async = false;\n",
       "      element.src = url;\n",
       "      console.debug(\"Bokeh: injecting script tag for BokehJS library: \", url);\n",
       "      document.head.appendChild(element);\n",
       "    }\n",
       "  };\n",
       "\n",
       "  function inject_raw_css(css) {\n",
       "    const element = document.createElement(\"style\");\n",
       "    element.appendChild(document.createTextNode(css));\n",
       "    document.body.appendChild(element);\n",
       "  }\n",
       "\n",
       "  const js_urls = [\"https://cdn.bokeh.org/bokeh/release/bokeh-3.3.2.min.js\", \"https://cdn.bokeh.org/bokeh/release/bokeh-gl-3.3.2.min.js\", \"https://cdn.bokeh.org/bokeh/release/bokeh-widgets-3.3.2.min.js\", \"https://cdn.bokeh.org/bokeh/release/bokeh-tables-3.3.2.min.js\", \"https://cdn.bokeh.org/bokeh/release/bokeh-mathjax-3.3.2.min.js\"];\n",
       "  const css_urls = [];\n",
       "\n",
       "  const inline_js = [    function(Bokeh) {\n",
       "      Bokeh.set_log_level(\"info\");\n",
       "    },\n",
       "function(Bokeh) {\n",
       "    }\n",
       "  ];\n",
       "\n",
       "  function run_inline_js() {\n",
       "    if (root.Bokeh !== undefined || force === true) {\n",
       "          for (let i = 0; i < inline_js.length; i++) {\n",
       "      inline_js[i].call(root, root.Bokeh);\n",
       "    }\n",
       "if (force === true) {\n",
       "        display_loaded();\n",
       "      }} else if (Date.now() < root._bokeh_timeout) {\n",
       "      setTimeout(run_inline_js, 100);\n",
       "    } else if (!root._bokeh_failed_load) {\n",
       "      console.log(\"Bokeh: BokehJS failed to load within specified timeout.\");\n",
       "      root._bokeh_failed_load = true;\n",
       "    } else if (force !== true) {\n",
       "      const cell = $(document.getElementById(\"c1e26a0f-5c14-4b33-a625-006ebddeabc3\")).parents('.cell').data().cell;\n",
       "      cell.output_area.append_execute_result(NB_LOAD_WARNING)\n",
       "    }\n",
       "  }\n",
       "\n",
       "  if (root._bokeh_is_loading === 0) {\n",
       "    console.debug(\"Bokeh: BokehJS loaded, going straight to plotting\");\n",
       "    run_inline_js();\n",
       "  } else {\n",
       "    load_libs(css_urls, js_urls, function() {\n",
       "      console.debug(\"Bokeh: BokehJS plotting callback run at\", now());\n",
       "      run_inline_js();\n",
       "    });\n",
       "  }\n",
       "}(window));"
      ],
      "application/vnd.bokehjs_load.v0+json": "(function(root) {\n  function now() {\n    return new Date();\n  }\n\n  const force = true;\n\n  if (typeof root._bokeh_onload_callbacks === \"undefined\" || force === true) {\n    root._bokeh_onload_callbacks = [];\n    root._bokeh_is_loading = undefined;\n  }\n\n\n  if (typeof (root._bokeh_timeout) === \"undefined\" || force === true) {\n    root._bokeh_timeout = Date.now() + 5000;\n    root._bokeh_failed_load = false;\n  }\n\n  const NB_LOAD_WARNING = {'data': {'text/html':\n     \"<div style='background-color: #fdd'>\\n\"+\n     \"<p>\\n\"+\n     \"BokehJS does not appear to have successfully loaded. If loading BokehJS from CDN, this \\n\"+\n     \"may be due to a slow or bad network connection. Possible fixes:\\n\"+\n     \"</p>\\n\"+\n     \"<ul>\\n\"+\n     \"<li>re-rerun `output_notebook()` to attempt to load from CDN again, or</li>\\n\"+\n     \"<li>use INLINE resources instead, as so:</li>\\n\"+\n     \"</ul>\\n\"+\n     \"<code>\\n\"+\n     \"from bokeh.resources import INLINE\\n\"+\n     \"output_notebook(resources=INLINE)\\n\"+\n     \"</code>\\n\"+\n     \"</div>\"}};\n\n  function display_loaded() {\n    const el = document.getElementById(\"c1e26a0f-5c14-4b33-a625-006ebddeabc3\");\n    if (el != null) {\n      el.textContent = \"BokehJS is loading...\";\n    }\n    if (root.Bokeh !== undefined) {\n      if (el != null) {\n        el.textContent = \"BokehJS \" + root.Bokeh.version + \" successfully loaded.\";\n      }\n    } else if (Date.now() < root._bokeh_timeout) {\n      setTimeout(display_loaded, 100)\n    }\n  }\n\n  function run_callbacks() {\n    try {\n      root._bokeh_onload_callbacks.forEach(function(callback) {\n        if (callback != null)\n          callback();\n      });\n    } finally {\n      delete root._bokeh_onload_callbacks\n    }\n    console.debug(\"Bokeh: all callbacks have finished\");\n  }\n\n  function load_libs(css_urls, js_urls, callback) {\n    if (css_urls == null) css_urls = [];\n    if (js_urls == null) js_urls = [];\n\n    root._bokeh_onload_callbacks.push(callback);\n    if (root._bokeh_is_loading > 0) {\n      console.debug(\"Bokeh: BokehJS is being loaded, scheduling callback at\", now());\n      return null;\n    }\n    if (js_urls == null || js_urls.length === 0) {\n      run_callbacks();\n      return null;\n    }\n    console.debug(\"Bokeh: BokehJS not loaded, scheduling load and callback at\", now());\n    root._bokeh_is_loading = css_urls.length + js_urls.length;\n\n    function on_load() {\n      root._bokeh_is_loading--;\n      if (root._bokeh_is_loading === 0) {\n        console.debug(\"Bokeh: all BokehJS libraries/stylesheets loaded\");\n        run_callbacks()\n      }\n    }\n\n    function on_error(url) {\n      console.error(\"failed to load \" + url);\n    }\n\n    for (let i = 0; i < css_urls.length; i++) {\n      const url = css_urls[i];\n      const element = document.createElement(\"link\");\n      element.onload = on_load;\n      element.onerror = on_error.bind(null, url);\n      element.rel = \"stylesheet\";\n      element.type = \"text/css\";\n      element.href = url;\n      console.debug(\"Bokeh: injecting link tag for BokehJS stylesheet: \", url);\n      document.body.appendChild(element);\n    }\n\n    for (let i = 0; i < js_urls.length; i++) {\n      const url = js_urls[i];\n      const element = document.createElement('script');\n      element.onload = on_load;\n      element.onerror = on_error.bind(null, url);\n      element.async = false;\n      element.src = url;\n      console.debug(\"Bokeh: injecting script tag for BokehJS library: \", url);\n      document.head.appendChild(element);\n    }\n  };\n\n  function inject_raw_css(css) {\n    const element = document.createElement(\"style\");\n    element.appendChild(document.createTextNode(css));\n    document.body.appendChild(element);\n  }\n\n  const js_urls = [\"https://cdn.bokeh.org/bokeh/release/bokeh-3.3.2.min.js\", \"https://cdn.bokeh.org/bokeh/release/bokeh-gl-3.3.2.min.js\", \"https://cdn.bokeh.org/bokeh/release/bokeh-widgets-3.3.2.min.js\", \"https://cdn.bokeh.org/bokeh/release/bokeh-tables-3.3.2.min.js\", \"https://cdn.bokeh.org/bokeh/release/bokeh-mathjax-3.3.2.min.js\"];\n  const css_urls = [];\n\n  const inline_js = [    function(Bokeh) {\n      Bokeh.set_log_level(\"info\");\n    },\nfunction(Bokeh) {\n    }\n  ];\n\n  function run_inline_js() {\n    if (root.Bokeh !== undefined || force === true) {\n          for (let i = 0; i < inline_js.length; i++) {\n      inline_js[i].call(root, root.Bokeh);\n    }\nif (force === true) {\n        display_loaded();\n      }} else if (Date.now() < root._bokeh_timeout) {\n      setTimeout(run_inline_js, 100);\n    } else if (!root._bokeh_failed_load) {\n      console.log(\"Bokeh: BokehJS failed to load within specified timeout.\");\n      root._bokeh_failed_load = true;\n    } else if (force !== true) {\n      const cell = $(document.getElementById(\"c1e26a0f-5c14-4b33-a625-006ebddeabc3\")).parents('.cell').data().cell;\n      cell.output_area.append_execute_result(NB_LOAD_WARNING)\n    }\n  }\n\n  if (root._bokeh_is_loading === 0) {\n    console.debug(\"Bokeh: BokehJS loaded, going straight to plotting\");\n    run_inline_js();\n  } else {\n    load_libs(css_urls, js_urls, function() {\n      console.debug(\"Bokeh: BokehJS plotting callback run at\", now());\n      run_inline_js();\n    });\n  }\n}(window));"
     },
     "metadata": {},
     "output_type": "display_data"
    }
   ],
   "source": [
    "output_notebook()"
   ]
  },
  {
   "cell_type": "code",
   "execution_count": 18,
   "id": "b9056012-ea26-47a9-a6f8-c4c56bb9dc90",
   "metadata": {},
   "outputs": [
    {
     "data": {
      "text/html": [
       "\n",
       "  <div id=\"ade5f416-d1df-4582-be7f-005532749eee\" data-root-id=\"p1052\" style=\"display: contents;\"></div>\n"
      ]
     },
     "metadata": {},
     "output_type": "display_data"
    },
    {
     "data": {
      "application/javascript": [
       "(function(root) {\n",
       "  function embed_document(root) {\n",
       "  const docs_json = {\"85a61bc9-8075-4adb-a12b-9c273cba5fd2\":{\"version\":\"3.3.2\",\"title\":\"Bokeh Application\",\"roots\":[{\"type\":\"object\",\"name\":\"Figure\",\"id\":\"p1052\",\"attributes\":{\"width\":800,\"x_range\":{\"type\":\"object\",\"name\":\"DataRange1d\",\"id\":\"p1053\"},\"y_range\":{\"type\":\"object\",\"name\":\"DataRange1d\",\"id\":\"p1054\"},\"x_scale\":{\"type\":\"object\",\"name\":\"LinearScale\",\"id\":\"p1062\"},\"y_scale\":{\"type\":\"object\",\"name\":\"LinearScale\",\"id\":\"p1063\"},\"title\":{\"type\":\"object\",\"name\":\"Title\",\"id\":\"p1055\",\"attributes\":{\"text\":\"Mean Shift Clustering with PCA\"}},\"renderers\":[{\"type\":\"object\",\"name\":\"GlyphRenderer\",\"id\":\"p1092\",\"attributes\":{\"data_source\":{\"type\":\"object\",\"name\":\"ColumnDataSource\",\"id\":\"p1049\",\"attributes\":{\"selected\":{\"type\":\"object\",\"name\":\"Selection\",\"id\":\"p1050\",\"attributes\":{\"indices\":[],\"line_indices\":[]}},\"selection_policy\":{\"type\":\"object\",\"name\":\"UnionRenderers\",\"id\":\"p1051\"},\"data\":{\"type\":\"map\",\"entries\":[[\"x\",{\"type\":\"ndarray\",\"array\":{\"type\":\"bytes\",\"data\":\"UueXgRweAsAChN/1zqUAwOWxFezw6QLAkhhpjSNlAsCqW9eRZR4DwGbeB2bkmgDAqw5r/V6NA8AYk6L43twBwJQ/pPxXrQLAyJTYDIF5AcCeDdxjmlQBwEaz7H/qmwLA28pRL2O/AcCMF/sYlxAFwI5XO1AFlwHATBmu7gMZAsDx8uS8I6kBwBlTpvbVhQHA0DFxB41g/r8gUytGOL8CwGF8YiYRof6/Nf16WfanAcDXOrei2zEGwL2vPzhFGf2/3uPG/jrRAcArjuA3wzr/v5MlCA3CaADAfu9f/T5ZAcDpclhx0x0BwH3i72pBHwLAHm6wWvgeAcAnQHlRNk79vwAOytJp6wTAsWjMc8WRA8CXAOeBOuEAwBDfSraXqQHAzGFMnXVcAMCDoknL+TcEwG5GGjTjbwPAb+AhSpFbAcDkSt56s0oCwBdn4Zzeuv2/3smX99ltBMDTfcexYG7/v2SqXGSyGAHAeqJuGdaOAMAuomX77hMDwGwf38SuJwPASMBcEujVAcCCFptsc6EBwDj4SE7loPE/W1iNvh1n5z9FU4UhDdvzP7Tc0tIzFNo/g6ms9SQ18T/cj7LZQODYP7QAEFeS4+c/w7QBuksw3789ddTGXrHtP0nLixedZoc/Ylm+ytI1vL+zZrxLUjTcPw94H4/K/OE/ZeVpp6YG5z8wJ6Qe3hOhv89Z7fBVA+w/IyLa+IVq1j/NUz8841PEP+wDK8j7mfM/kNQxnAccxT8hk2mkGJvnP3YXJkV9e94/AghuiDG/8z+/StjWX0DkP1+iN04zfOY/DZblvQz66z+dxapNqRr0PxznNAIHvPU/dkJzawtG5T95oGbSxpykv3JznnTlvcA/0/GGUPsDmD+iNYnjuerOPxwOL1c++vA/Tu+dIVarzD+14aToA3fbPxl0pRCXx/A/xQp6ima28D/76mBLitCxPy7B5rZ9JNI/N7ZMCGnc0T/6yZHJefzjP6rRdK22idU/whEGOAMu178VjXRqMnjSP0leLXRpY7c/vA0chdMlzT8eDTLaxXHiP7lxjpGTpty/iOvJIkZu0D9PcSGlWoP9P6C81d6uhvI/Kv1U6mKkAUBLOyds2wr3P5E4FhGP4v0/Zl7bKtYDBkAzlZrBN33XPyp8HV9lawJAbPl/orENAECMAJIlBhQCQAUZT66p0/U/EDG7Y5Kk+T9PoesPdST+P0/8Q3NuKfQ/GwPIiHl79z9nQdTp9HD5Pzj4Pbf7ivc/o9wOLB9pA0C4D2D3TXwKQKbsUGdjOPQ/h7JKND5NAEDSBLdAnkvvP3FFn+djLgdAR3ocQ+tU9T88xk6/NDb7P+ZpdRTsRP8/QgcvdznN8j9WJaE+0FXwPzWdT84Unfw/eAvNGIDR/T93+t9O1XwDQCpKB/J9cAJAl8Uy5KHN/T87ktKUjNPxP3BZEKVUPfM/w9+qwuFjBkBonAYeWDj5P3cPv5ZpivU/gWtibCqY7T/s+AD++aH9P/1dQu5UHgBA36p7J7Vt/j+gvNXerobyPyOKODEQUwBAw2fbFmn4/z/07WTclO39P88zaYuFCPk/LKq44LZW+D8s+kRU8Pb1P4De9raxve4/\"},\"shape\":[150],\"dtype\":\"float64\",\"order\":\"little\"}],[\"y\",{\"type\":\"ndarray\",\"array\":{\"type\":\"bytes\",\"data\":\"NSRRecG43j9zMliJgJLlv2/HNDHS4dW/abooFtsd478Pt+4d4LLkP6Gkic+r0/c/NYRU/dFkqD9RAS+1HZDMP67nJtVh2PG/6KLmdFEE3r+LHWD49LLwP8lN1Py1CME/gBltrVBR57/dbpXCqcTuvzqiZD/Lwv0/52pauIJ9BUBkruwr3bz3P1fKlYEgSd8/pPzH/PR69j+FxSHLqwvyPyMNZiGxKto/MCUtGWeS7T8j9dStgFXdP2NWTOAp57U/OROC0o2RwT82qMhFEQXkvzqGex03/84/P6Fprmje4D9s2sS2wgvUP7fkXUZmndW/SRd1hDIl4L/hbLXq0R3bP9PRzZh8svw/Ivw/0bA0AUDN/KFs8nPdv1+LRCq6Ycq/AWek6nsr5T//z9n5D/TiP5CR4/oK7+y/pKh8GlA10T8frBOeEEXcPzzu1rcGswLAcD/k8JWp3r8sgbihmTreP0nlzzCSRvI/ZHMopfHA5r+O2fexR+3xPzb5fM1EuNi/FqfNUEnv7z9FEiORBuCCP/4mOVV4nes/0QsPdhUH4z9gI83btbjjPxXb4eoJEvy/BSNLdIqtyr/6ibr2LfzivwB6FP+SvOg/Hmajroyj/b/V4D2973+gP0NbMr9Wi/C/aommh4o7BcAN21UMHTSwvxtC06FPPPy/GN/gNzXWx79Hcm3roBjcv7lAvX5ASuA/HxjcL74gyb+ElKEr2Vjpv62qBuu19Pm/xWi5xnzX9L+wJEmwbWHZPyxD8R9gtdq/Iqo2683d7b+aLeuuGKbav2Da5cvBO7C/k+cju/8M0D+YTAPuDMezv17HhOk1NNU/zLuVNTTrzL8T4tHbgvDwv81MNsAQ//i/47MuK9wo+b+l5PnGSN/ov/yq3aBxSOS/Cly4l+Fq0r+xgNh8Ag/rPyIFS/iltOA/15R6x7gg9r96YtZtrxjMvygiqenpRPW//PiAB6Pr8b/5wEAubIWZP3QiZHYBoe+/STyjL2YnAMA7SFGNJGLrvy9yW7dNMce/0oTa1Yei2L8zjYfl5dLDv88EuUZfs/i/dHb0Pcsp478NpsXLfdrrP9LZW1QkXea/+FNYZf374T+K93bUwQ6ov9Nn+a8D4tI/zZW6wfOc6T8+BLh06vv4v7psr71a4to/4QzD/hrE5r/3v2Jgdbz+P84hhJUPK+Y/J9ce4iP92r/8Vo18/NTaP90DNmKemPK/UQPvfC1O3L83fZUlzKPlP6rsD6QbXNA/0u9Y0Ap0BED5s0tPKzWSP98KdT7UTvu/sU2MjIwi7T8f7IKy5EvivxDAz1kYedo/P368uP7V3r88nM0iBjnwP+TtkWbbH/A/sirNmc4/1L/gHDY7+3iwP+Nsmshz+8e/lM3QHkn+4T+I3C28HZjQP/Uz5uC1AgVAqyARuLXaxr9PEt+HPr/Sv2wOYHFL9um/U2jp0O5q6z+4D9GA6BjxP4U2nGYaCds/2Y+2tO6ikT9NfaON16LlP7REwn3zpOM/DbJ8oAAR5j/S2VtUJF3mv+2vNpC6wus/WUISK2XJ8D9/mFpiDcTYP8vi3oiosey/KlbCyW040T8TIfgcGS7wP2/ELZxm6pi/\"},\"shape\":[150],\"dtype\":\"float64\",\"order\":\"little\"}],[\"color\",[\"1\",\"1\",\"1\",\"1\",\"1\",\"1\",\"1\",\"1\",\"1\",\"1\",\"1\",\"1\",\"1\",\"1\",\"-1\",\"-1\",\"1\",\"1\",\"1\",\"1\",\"1\",\"1\",\"1\",\"1\",\"1\",\"1\",\"1\",\"1\",\"1\",\"1\",\"1\",\"1\",\"-1\",\"-1\",\"1\",\"1\",\"1\",\"1\",\"1\",\"1\",\"1\",\"-1\",\"1\",\"1\",\"1\",\"1\",\"1\",\"1\",\"1\",\"1\",\"0\",\"0\",\"0\",\"-1\",\"0\",\"0\",\"0\",\"-1\",\"0\",\"0\",\"-1\",\"0\",\"-1\",\"0\",\"0\",\"0\",\"0\",\"0\",\"-1\",\"0\",\"0\",\"0\",\"0\",\"0\",\"0\",\"0\",\"0\",\"0\",\"0\",\"0\",\"-1\",\"-1\",\"0\",\"0\",\"0\",\"0\",\"0\",\"0\",\"0\",\"0\",\"0\",\"0\",\"0\",\"-1\",\"0\",\"0\",\"0\",\"0\",\"-1\",\"0\",\"0\",\"0\",\"0\",\"0\",\"0\",\"-1\",\"-1\",\"0\",\"0\",\"-1\",\"0\",\"0\",\"0\",\"0\",\"0\",\"0\",\"0\",\"-1\",\"-1\",\"-1\",\"0\",\"0\",\"-1\",\"0\",\"0\",\"0\",\"0\",\"0\",\"0\",\"0\",\"0\",\"-1\",\"0\",\"0\",\"0\",\"-1\",\"0\",\"0\",\"0\",\"0\",\"0\",\"0\",\"0\",\"0\",\"0\",\"0\",\"0\",\"0\",\"0\",\"0\"]]]}}},\"view\":{\"type\":\"object\",\"name\":\"CDSView\",\"id\":\"p1093\",\"attributes\":{\"filter\":{\"type\":\"object\",\"name\":\"AllIndices\",\"id\":\"p1094\"}}},\"glyph\":{\"type\":\"object\",\"name\":\"Scatter\",\"id\":\"p1089\",\"attributes\":{\"x\":{\"type\":\"field\",\"field\":\"x\"},\"y\":{\"type\":\"field\",\"field\":\"y\"},\"size\":{\"type\":\"value\",\"value\":8},\"line_color\":{\"type\":\"field\",\"field\":\"color\",\"transform\":{\"type\":\"object\",\"name\":\"CategoricalColorMapper\",\"id\":\"p1085\",\"attributes\":{\"palette\":[\"#1f77b4\",\"#ff7f0e\",\"#2ca02c\"],\"factors\":[\"0\",\"1\",\"2\"]}}},\"fill_color\":{\"type\":\"field\",\"field\":\"color\",\"transform\":{\"id\":\"p1085\"}},\"hatch_color\":{\"type\":\"field\",\"field\":\"color\",\"transform\":{\"id\":\"p1085\"}}}},\"nonselection_glyph\":{\"type\":\"object\",\"name\":\"Scatter\",\"id\":\"p1090\",\"attributes\":{\"x\":{\"type\":\"field\",\"field\":\"x\"},\"y\":{\"type\":\"field\",\"field\":\"y\"},\"size\":{\"type\":\"value\",\"value\":8},\"line_color\":{\"type\":\"field\",\"field\":\"color\",\"transform\":{\"id\":\"p1085\"}},\"line_alpha\":{\"type\":\"value\",\"value\":0.1},\"fill_color\":{\"type\":\"field\",\"field\":\"color\",\"transform\":{\"id\":\"p1085\"}},\"fill_alpha\":{\"type\":\"value\",\"value\":0.1},\"hatch_color\":{\"type\":\"field\",\"field\":\"color\",\"transform\":{\"id\":\"p1085\"}},\"hatch_alpha\":{\"type\":\"value\",\"value\":0.1}}},\"muted_glyph\":{\"type\":\"object\",\"name\":\"Scatter\",\"id\":\"p1091\",\"attributes\":{\"x\":{\"type\":\"field\",\"field\":\"x\"},\"y\":{\"type\":\"field\",\"field\":\"y\"},\"size\":{\"type\":\"value\",\"value\":8},\"line_color\":{\"type\":\"field\",\"field\":\"color\",\"transform\":{\"id\":\"p1085\"}},\"line_alpha\":{\"type\":\"value\",\"value\":0.2},\"fill_color\":{\"type\":\"field\",\"field\":\"color\",\"transform\":{\"id\":\"p1085\"}},\"fill_alpha\":{\"type\":\"value\",\"value\":0.2},\"hatch_color\":{\"type\":\"field\",\"field\":\"color\",\"transform\":{\"id\":\"p1085\"}},\"hatch_alpha\":{\"type\":\"value\",\"value\":0.2}}}}}],\"toolbar\":{\"type\":\"object\",\"name\":\"Toolbar\",\"id\":\"p1061\",\"attributes\":{\"tools\":[{\"type\":\"object\",\"name\":\"PanTool\",\"id\":\"p1074\"},{\"type\":\"object\",\"name\":\"WheelZoomTool\",\"id\":\"p1075\",\"attributes\":{\"renderers\":\"auto\"}},{\"type\":\"object\",\"name\":\"BoxZoomTool\",\"id\":\"p1076\",\"attributes\":{\"overlay\":{\"type\":\"object\",\"name\":\"BoxAnnotation\",\"id\":\"p1077\",\"attributes\":{\"syncable\":false,\"level\":\"overlay\",\"visible\":false,\"left\":{\"type\":\"number\",\"value\":\"nan\"},\"right\":{\"type\":\"number\",\"value\":\"nan\"},\"top\":{\"type\":\"number\",\"value\":\"nan\"},\"bottom\":{\"type\":\"number\",\"value\":\"nan\"},\"left_units\":\"canvas\",\"right_units\":\"canvas\",\"top_units\":\"canvas\",\"bottom_units\":\"canvas\",\"line_color\":\"black\",\"line_alpha\":1.0,\"line_width\":2,\"line_dash\":[4,4],\"fill_color\":\"lightgrey\",\"fill_alpha\":0.5}}}},{\"type\":\"object\",\"name\":\"SaveTool\",\"id\":\"p1082\"},{\"type\":\"object\",\"name\":\"ResetTool\",\"id\":\"p1083\"},{\"type\":\"object\",\"name\":\"HelpTool\",\"id\":\"p1084\"}]}},\"left\":[{\"type\":\"object\",\"name\":\"LinearAxis\",\"id\":\"p1069\",\"attributes\":{\"ticker\":{\"type\":\"object\",\"name\":\"BasicTicker\",\"id\":\"p1070\",\"attributes\":{\"mantissas\":[1,2,5]}},\"formatter\":{\"type\":\"object\",\"name\":\"BasicTickFormatter\",\"id\":\"p1071\"},\"axis_label\":\"Principal Component 2\",\"major_label_policy\":{\"type\":\"object\",\"name\":\"AllLabels\",\"id\":\"p1072\"}}}],\"below\":[{\"type\":\"object\",\"name\":\"LinearAxis\",\"id\":\"p1064\",\"attributes\":{\"ticker\":{\"type\":\"object\",\"name\":\"BasicTicker\",\"id\":\"p1065\",\"attributes\":{\"mantissas\":[1,2,5]}},\"formatter\":{\"type\":\"object\",\"name\":\"BasicTickFormatter\",\"id\":\"p1066\"},\"axis_label\":\"Principal Component 1\",\"major_label_policy\":{\"type\":\"object\",\"name\":\"AllLabels\",\"id\":\"p1067\"}}}],\"center\":[{\"type\":\"object\",\"name\":\"Grid\",\"id\":\"p1068\",\"attributes\":{\"axis\":{\"id\":\"p1064\"}}},{\"type\":\"object\",\"name\":\"Grid\",\"id\":\"p1073\",\"attributes\":{\"dimension\":1,\"axis\":{\"id\":\"p1069\"}}}]}}]}};\n",
       "  const render_items = [{\"docid\":\"85a61bc9-8075-4adb-a12b-9c273cba5fd2\",\"roots\":{\"p1052\":\"ade5f416-d1df-4582-be7f-005532749eee\"},\"root_ids\":[\"p1052\"]}];\n",
       "  root.Bokeh.embed.embed_items_notebook(docs_json, render_items);\n",
       "  }\n",
       "  if (root.Bokeh !== undefined) {\n",
       "    embed_document(root);\n",
       "  } else {\n",
       "    let attempts = 0;\n",
       "    const timer = setInterval(function(root) {\n",
       "      if (root.Bokeh !== undefined) {\n",
       "        clearInterval(timer);\n",
       "        embed_document(root);\n",
       "      } else {\n",
       "        attempts++;\n",
       "        if (attempts > 100) {\n",
       "          clearInterval(timer);\n",
       "          console.log(\"Bokeh: ERROR: Unable to run BokehJS code because BokehJS library is missing\");\n",
       "        }\n",
       "      }\n",
       "    }, 10, root)\n",
       "  }\n",
       "})(window);"
      ],
      "application/vnd.bokehjs_exec.v0+json": ""
     },
     "metadata": {
      "application/vnd.bokehjs_exec.v0+json": {
       "id": "p1052"
      }
     },
     "output_type": "display_data"
    }
   ],
   "source": [
    "# Create a Bokeh ColumnDataSource\n",
    "source = ColumnDataSource(data=dict(x=data_2d[:, 0], y=data_2d[:, 1], color=cluster_labels_str))\n",
    "\n",
    "# Create a scatter plot with factor_cmap for color mapping\n",
    "plot = figure(title=\"Mean Shift Clustering with PCA\", x_axis_label='Principal Component 1', \n",
    "              y_axis_label='Principal Component 2', width=800, height=600)\n",
    "plot.scatter(x='x', y='y', size=8, color=factor_cmap('color', palette=Category10[3], factors=[\"0\",\"1\",\"2\"]), source=source)\n",
    "# Show the plot\n",
    "show(plot)"
   ]
  },
  {
   "cell_type": "markdown",
   "id": "a0dc65a3-da63-4e6f-824d-e5edfe41d4e9",
   "metadata": {},
   "source": [
    "# DBScan Clustering"
   ]
  },
  {
   "cell_type": "code",
   "execution_count": 19,
   "id": "0195af61-d32e-426a-a653-75dc93bcd5a0",
   "metadata": {},
   "outputs": [],
   "source": [
    "# Create DBSCAN object\n",
    "cluster = DBSCAN(n_jobs=-1)\n",
    "# Train model\n",
    "model = cluster.fit(features_std)"
   ]
  },
  {
   "cell_type": "code",
   "execution_count": 20,
   "id": "827f3890-1fd6-4f62-bddd-cd2b609f804f",
   "metadata": {},
   "outputs": [
    {
     "data": {
      "text/plain": [
       "array([ 0,  0,  0,  0,  0,  0,  0,  0,  0,  0,  0,  0,  0,  0, -1, -1,  0,\n",
       "        0,  0,  0,  0,  0,  0,  0,  0,  0,  0,  0,  0,  0,  0,  0, -1, -1,\n",
       "        0,  0,  0,  0,  0,  0,  0, -1,  0,  0,  0,  0,  0,  0,  0,  0,  1,\n",
       "        1,  1,  1,  1,  1, -1, -1,  1, -1, -1,  1, -1,  1,  1,  1,  1,  1,\n",
       "       -1,  1,  1,  1, -1,  1,  1,  1,  1,  1,  1,  1,  1,  1,  1,  1,  1,\n",
       "       -1,  1, -1,  1,  1,  1,  1,  1, -1,  1,  1,  1,  1, -1,  1, -1,  1,\n",
       "        1,  1,  1, -1, -1, -1, -1, -1,  1,  1,  1,  1, -1,  1,  1, -1, -1,\n",
       "       -1,  1,  1, -1,  1,  1, -1,  1,  1,  1, -1, -1, -1,  1,  1,  1, -1,\n",
       "       -1,  1,  1,  1,  1,  1,  1,  1,  1,  1,  1,  1, -1,  1],\n",
       "      dtype=int64)"
      ]
     },
     "execution_count": 20,
     "metadata": {},
     "output_type": "execute_result"
    }
   ],
   "source": [
    "model.labels_"
   ]
  },
  {
   "cell_type": "code",
   "execution_count": 21,
   "id": "10b53504-26f6-4fc2-9488-da7aef426d2e",
   "metadata": {},
   "outputs": [
    {
     "ename": "AttributeError",
     "evalue": "'DBSCAN' object has no attribute 'cluster_centers_'",
     "output_type": "error",
     "traceback": [
      "\u001b[1;31m---------------------------------------------------------------------------\u001b[0m",
      "\u001b[1;31mAttributeError\u001b[0m                            Traceback (most recent call last)",
      "Cell \u001b[1;32mIn[21], line 1\u001b[0m\n\u001b[1;32m----> 1\u001b[0m \u001b[43mmodel\u001b[49m\u001b[38;5;241;43m.\u001b[39;49m\u001b[43mcluster_centers_\u001b[49m\n",
      "\u001b[1;31mAttributeError\u001b[0m: 'DBSCAN' object has no attribute 'cluster_centers_'"
     ]
    }
   ],
   "source": [
    "model.cluster_centers_"
   ]
  },
  {
   "cell_type": "code",
   "execution_count": 22,
   "id": "68acffb8-0eb4-4fca-8e51-876d26105776",
   "metadata": {},
   "outputs": [
    {
     "data": {
      "text/plain": [
       "['0', '0', '0', '0', '0', '0', '0', '0', '0', '0']"
      ]
     },
     "execution_count": 22,
     "metadata": {},
     "output_type": "execute_result"
    }
   ],
   "source": [
    "# Convert cluster labels to strings\n",
    "cluster_labels_str = [str(label) for label in model.labels_]\n",
    "cluster_labels_str[:10]"
   ]
  },
  {
   "cell_type": "code",
   "execution_count": 23,
   "id": "e6788e7f-d978-4392-a648-54cf335586df",
   "metadata": {},
   "outputs": [
    {
     "data": {
      "text/html": [
       "\n",
       "  <div id=\"a9309c0f-daa6-445f-b2d6-56efdab06b6e\" data-root-id=\"p1100\" style=\"display: contents;\"></div>\n"
      ]
     },
     "metadata": {},
     "output_type": "display_data"
    },
    {
     "data": {
      "application/javascript": [
       "(function(root) {\n",
       "  function embed_document(root) {\n",
       "  const docs_json = {\"4e688a47-fe60-47df-ad52-1941e1bd7e16\":{\"version\":\"3.3.2\",\"title\":\"Bokeh Application\",\"roots\":[{\"type\":\"object\",\"name\":\"Figure\",\"id\":\"p1100\",\"attributes\":{\"width\":800,\"x_range\":{\"type\":\"object\",\"name\":\"DataRange1d\",\"id\":\"p1101\"},\"y_range\":{\"type\":\"object\",\"name\":\"DataRange1d\",\"id\":\"p1102\"},\"x_scale\":{\"type\":\"object\",\"name\":\"LinearScale\",\"id\":\"p1110\"},\"y_scale\":{\"type\":\"object\",\"name\":\"LinearScale\",\"id\":\"p1111\"},\"title\":{\"type\":\"object\",\"name\":\"Title\",\"id\":\"p1103\",\"attributes\":{\"text\":\"Mean Shift Clustering with PCA\"}},\"renderers\":[{\"type\":\"object\",\"name\":\"GlyphRenderer\",\"id\":\"p1140\",\"attributes\":{\"data_source\":{\"type\":\"object\",\"name\":\"ColumnDataSource\",\"id\":\"p1097\",\"attributes\":{\"selected\":{\"type\":\"object\",\"name\":\"Selection\",\"id\":\"p1098\",\"attributes\":{\"indices\":[],\"line_indices\":[]}},\"selection_policy\":{\"type\":\"object\",\"name\":\"UnionRenderers\",\"id\":\"p1099\"},\"data\":{\"type\":\"map\",\"entries\":[[\"x\",{\"type\":\"ndarray\",\"array\":{\"type\":\"bytes\",\"data\":\"UueXgRweAsAChN/1zqUAwOWxFezw6QLAkhhpjSNlAsCqW9eRZR4DwGbeB2bkmgDAqw5r/V6NA8AYk6L43twBwJQ/pPxXrQLAyJTYDIF5AcCeDdxjmlQBwEaz7H/qmwLA28pRL2O/AcCMF/sYlxAFwI5XO1AFlwHATBmu7gMZAsDx8uS8I6kBwBlTpvbVhQHA0DFxB41g/r8gUytGOL8CwGF8YiYRof6/Nf16WfanAcDXOrei2zEGwL2vPzhFGf2/3uPG/jrRAcArjuA3wzr/v5MlCA3CaADAfu9f/T5ZAcDpclhx0x0BwH3i72pBHwLAHm6wWvgeAcAnQHlRNk79vwAOytJp6wTAsWjMc8WRA8CXAOeBOuEAwBDfSraXqQHAzGFMnXVcAMCDoknL+TcEwG5GGjTjbwPAb+AhSpFbAcDkSt56s0oCwBdn4Zzeuv2/3smX99ltBMDTfcexYG7/v2SqXGSyGAHAeqJuGdaOAMAuomX77hMDwGwf38SuJwPASMBcEujVAcCCFptsc6EBwDj4SE7loPE/W1iNvh1n5z9FU4UhDdvzP7Tc0tIzFNo/g6ms9SQ18T/cj7LZQODYP7QAEFeS4+c/w7QBuksw3789ddTGXrHtP0nLixedZoc/Ylm+ytI1vL+zZrxLUjTcPw94H4/K/OE/ZeVpp6YG5z8wJ6Qe3hOhv89Z7fBVA+w/IyLa+IVq1j/NUz8841PEP+wDK8j7mfM/kNQxnAccxT8hk2mkGJvnP3YXJkV9e94/AghuiDG/8z+/StjWX0DkP1+iN04zfOY/DZblvQz66z+dxapNqRr0PxznNAIHvPU/dkJzawtG5T95oGbSxpykv3JznnTlvcA/0/GGUPsDmD+iNYnjuerOPxwOL1c++vA/Tu+dIVarzD+14aToA3fbPxl0pRCXx/A/xQp6ima28D/76mBLitCxPy7B5rZ9JNI/N7ZMCGnc0T/6yZHJefzjP6rRdK22idU/whEGOAMu178VjXRqMnjSP0leLXRpY7c/vA0chdMlzT8eDTLaxXHiP7lxjpGTpty/iOvJIkZu0D9PcSGlWoP9P6C81d6uhvI/Kv1U6mKkAUBLOyds2wr3P5E4FhGP4v0/Zl7bKtYDBkAzlZrBN33XPyp8HV9lawJAbPl/orENAECMAJIlBhQCQAUZT66p0/U/EDG7Y5Kk+T9PoesPdST+P0/8Q3NuKfQ/GwPIiHl79z9nQdTp9HD5Pzj4Pbf7ivc/o9wOLB9pA0C4D2D3TXwKQKbsUGdjOPQ/h7JKND5NAEDSBLdAnkvvP3FFn+djLgdAR3ocQ+tU9T88xk6/NDb7P+ZpdRTsRP8/QgcvdznN8j9WJaE+0FXwPzWdT84Unfw/eAvNGIDR/T93+t9O1XwDQCpKB/J9cAJAl8Uy5KHN/T87ktKUjNPxP3BZEKVUPfM/w9+qwuFjBkBonAYeWDj5P3cPv5ZpivU/gWtibCqY7T/s+AD++aH9P/1dQu5UHgBA36p7J7Vt/j+gvNXerobyPyOKODEQUwBAw2fbFmn4/z/07WTclO39P88zaYuFCPk/LKq44LZW+D8s+kRU8Pb1P4De9raxve4/\"},\"shape\":[150],\"dtype\":\"float64\",\"order\":\"little\"}],[\"y\",{\"type\":\"ndarray\",\"array\":{\"type\":\"bytes\",\"data\":\"NSRRecG43j9zMliJgJLlv2/HNDHS4dW/abooFtsd478Pt+4d4LLkP6Gkic+r0/c/NYRU/dFkqD9RAS+1HZDMP67nJtVh2PG/6KLmdFEE3r+LHWD49LLwP8lN1Py1CME/gBltrVBR57/dbpXCqcTuvzqiZD/Lwv0/52pauIJ9BUBkruwr3bz3P1fKlYEgSd8/pPzH/PR69j+FxSHLqwvyPyMNZiGxKto/MCUtGWeS7T8j9dStgFXdP2NWTOAp57U/OROC0o2RwT82qMhFEQXkvzqGex03/84/P6Fprmje4D9s2sS2wgvUP7fkXUZmndW/SRd1hDIl4L/hbLXq0R3bP9PRzZh8svw/Ivw/0bA0AUDN/KFs8nPdv1+LRCq6Ycq/AWek6nsr5T//z9n5D/TiP5CR4/oK7+y/pKh8GlA10T8frBOeEEXcPzzu1rcGswLAcD/k8JWp3r8sgbihmTreP0nlzzCSRvI/ZHMopfHA5r+O2fexR+3xPzb5fM1EuNi/FqfNUEnv7z9FEiORBuCCP/4mOVV4nes/0QsPdhUH4z9gI83btbjjPxXb4eoJEvy/BSNLdIqtyr/6ibr2LfzivwB6FP+SvOg/Hmajroyj/b/V4D2973+gP0NbMr9Wi/C/aommh4o7BcAN21UMHTSwvxtC06FPPPy/GN/gNzXWx79Hcm3roBjcv7lAvX5ASuA/HxjcL74gyb+ElKEr2Vjpv62qBuu19Pm/xWi5xnzX9L+wJEmwbWHZPyxD8R9gtdq/Iqo2683d7b+aLeuuGKbav2Da5cvBO7C/k+cju/8M0D+YTAPuDMezv17HhOk1NNU/zLuVNTTrzL8T4tHbgvDwv81MNsAQ//i/47MuK9wo+b+l5PnGSN/ov/yq3aBxSOS/Cly4l+Fq0r+xgNh8Ag/rPyIFS/iltOA/15R6x7gg9r96YtZtrxjMvygiqenpRPW//PiAB6Pr8b/5wEAubIWZP3QiZHYBoe+/STyjL2YnAMA7SFGNJGLrvy9yW7dNMce/0oTa1Yei2L8zjYfl5dLDv88EuUZfs/i/dHb0Pcsp478NpsXLfdrrP9LZW1QkXea/+FNYZf374T+K93bUwQ6ov9Nn+a8D4tI/zZW6wfOc6T8+BLh06vv4v7psr71a4to/4QzD/hrE5r/3v2Jgdbz+P84hhJUPK+Y/J9ce4iP92r/8Vo18/NTaP90DNmKemPK/UQPvfC1O3L83fZUlzKPlP6rsD6QbXNA/0u9Y0Ap0BED5s0tPKzWSP98KdT7UTvu/sU2MjIwi7T8f7IKy5EvivxDAz1kYedo/P368uP7V3r88nM0iBjnwP+TtkWbbH/A/sirNmc4/1L/gHDY7+3iwP+Nsmshz+8e/lM3QHkn+4T+I3C28HZjQP/Uz5uC1AgVAqyARuLXaxr9PEt+HPr/Sv2wOYHFL9um/U2jp0O5q6z+4D9GA6BjxP4U2nGYaCds/2Y+2tO6ikT9NfaON16LlP7REwn3zpOM/DbJ8oAAR5j/S2VtUJF3mv+2vNpC6wus/WUISK2XJ8D9/mFpiDcTYP8vi3oiosey/KlbCyW040T8TIfgcGS7wP2/ELZxm6pi/\"},\"shape\":[150],\"dtype\":\"float64\",\"order\":\"little\"}],[\"color\",[\"0\",\"0\",\"0\",\"0\",\"0\",\"0\",\"0\",\"0\",\"0\",\"0\",\"0\",\"0\",\"0\",\"0\",\"-1\",\"-1\",\"0\",\"0\",\"0\",\"0\",\"0\",\"0\",\"0\",\"0\",\"0\",\"0\",\"0\",\"0\",\"0\",\"0\",\"0\",\"0\",\"-1\",\"-1\",\"0\",\"0\",\"0\",\"0\",\"0\",\"0\",\"0\",\"-1\",\"0\",\"0\",\"0\",\"0\",\"0\",\"0\",\"0\",\"0\",\"1\",\"1\",\"1\",\"1\",\"1\",\"1\",\"-1\",\"-1\",\"1\",\"-1\",\"-1\",\"1\",\"-1\",\"1\",\"1\",\"1\",\"1\",\"1\",\"-1\",\"1\",\"1\",\"1\",\"-1\",\"1\",\"1\",\"1\",\"1\",\"1\",\"1\",\"1\",\"1\",\"1\",\"1\",\"1\",\"1\",\"-1\",\"1\",\"-1\",\"1\",\"1\",\"1\",\"1\",\"1\",\"-1\",\"1\",\"1\",\"1\",\"1\",\"-1\",\"1\",\"-1\",\"1\",\"1\",\"1\",\"1\",\"-1\",\"-1\",\"-1\",\"-1\",\"-1\",\"1\",\"1\",\"1\",\"1\",\"-1\",\"1\",\"1\",\"-1\",\"-1\",\"-1\",\"1\",\"1\",\"-1\",\"1\",\"1\",\"-1\",\"1\",\"1\",\"1\",\"-1\",\"-1\",\"-1\",\"1\",\"1\",\"1\",\"-1\",\"-1\",\"1\",\"1\",\"1\",\"1\",\"1\",\"1\",\"1\",\"1\",\"1\",\"1\",\"1\",\"-1\",\"1\"]]]}}},\"view\":{\"type\":\"object\",\"name\":\"CDSView\",\"id\":\"p1141\",\"attributes\":{\"filter\":{\"type\":\"object\",\"name\":\"AllIndices\",\"id\":\"p1142\"}}},\"glyph\":{\"type\":\"object\",\"name\":\"Scatter\",\"id\":\"p1137\",\"attributes\":{\"x\":{\"type\":\"field\",\"field\":\"x\"},\"y\":{\"type\":\"field\",\"field\":\"y\"},\"size\":{\"type\":\"value\",\"value\":8},\"line_color\":{\"type\":\"field\",\"field\":\"color\",\"transform\":{\"type\":\"object\",\"name\":\"CategoricalColorMapper\",\"id\":\"p1133\",\"attributes\":{\"palette\":[\"#1f77b4\",\"#ff7f0e\",\"#2ca02c\"],\"factors\":[\"0\",\"1\",\"2\"]}}},\"fill_color\":{\"type\":\"field\",\"field\":\"color\",\"transform\":{\"id\":\"p1133\"}},\"hatch_color\":{\"type\":\"field\",\"field\":\"color\",\"transform\":{\"id\":\"p1133\"}}}},\"nonselection_glyph\":{\"type\":\"object\",\"name\":\"Scatter\",\"id\":\"p1138\",\"attributes\":{\"x\":{\"type\":\"field\",\"field\":\"x\"},\"y\":{\"type\":\"field\",\"field\":\"y\"},\"size\":{\"type\":\"value\",\"value\":8},\"line_color\":{\"type\":\"field\",\"field\":\"color\",\"transform\":{\"id\":\"p1133\"}},\"line_alpha\":{\"type\":\"value\",\"value\":0.1},\"fill_color\":{\"type\":\"field\",\"field\":\"color\",\"transform\":{\"id\":\"p1133\"}},\"fill_alpha\":{\"type\":\"value\",\"value\":0.1},\"hatch_color\":{\"type\":\"field\",\"field\":\"color\",\"transform\":{\"id\":\"p1133\"}},\"hatch_alpha\":{\"type\":\"value\",\"value\":0.1}}},\"muted_glyph\":{\"type\":\"object\",\"name\":\"Scatter\",\"id\":\"p1139\",\"attributes\":{\"x\":{\"type\":\"field\",\"field\":\"x\"},\"y\":{\"type\":\"field\",\"field\":\"y\"},\"size\":{\"type\":\"value\",\"value\":8},\"line_color\":{\"type\":\"field\",\"field\":\"color\",\"transform\":{\"id\":\"p1133\"}},\"line_alpha\":{\"type\":\"value\",\"value\":0.2},\"fill_color\":{\"type\":\"field\",\"field\":\"color\",\"transform\":{\"id\":\"p1133\"}},\"fill_alpha\":{\"type\":\"value\",\"value\":0.2},\"hatch_color\":{\"type\":\"field\",\"field\":\"color\",\"transform\":{\"id\":\"p1133\"}},\"hatch_alpha\":{\"type\":\"value\",\"value\":0.2}}}}}],\"toolbar\":{\"type\":\"object\",\"name\":\"Toolbar\",\"id\":\"p1109\",\"attributes\":{\"tools\":[{\"type\":\"object\",\"name\":\"PanTool\",\"id\":\"p1122\"},{\"type\":\"object\",\"name\":\"WheelZoomTool\",\"id\":\"p1123\",\"attributes\":{\"renderers\":\"auto\"}},{\"type\":\"object\",\"name\":\"BoxZoomTool\",\"id\":\"p1124\",\"attributes\":{\"overlay\":{\"type\":\"object\",\"name\":\"BoxAnnotation\",\"id\":\"p1125\",\"attributes\":{\"syncable\":false,\"level\":\"overlay\",\"visible\":false,\"left\":{\"type\":\"number\",\"value\":\"nan\"},\"right\":{\"type\":\"number\",\"value\":\"nan\"},\"top\":{\"type\":\"number\",\"value\":\"nan\"},\"bottom\":{\"type\":\"number\",\"value\":\"nan\"},\"left_units\":\"canvas\",\"right_units\":\"canvas\",\"top_units\":\"canvas\",\"bottom_units\":\"canvas\",\"line_color\":\"black\",\"line_alpha\":1.0,\"line_width\":2,\"line_dash\":[4,4],\"fill_color\":\"lightgrey\",\"fill_alpha\":0.5}}}},{\"type\":\"object\",\"name\":\"SaveTool\",\"id\":\"p1130\"},{\"type\":\"object\",\"name\":\"ResetTool\",\"id\":\"p1131\"},{\"type\":\"object\",\"name\":\"HelpTool\",\"id\":\"p1132\"}]}},\"left\":[{\"type\":\"object\",\"name\":\"LinearAxis\",\"id\":\"p1117\",\"attributes\":{\"ticker\":{\"type\":\"object\",\"name\":\"BasicTicker\",\"id\":\"p1118\",\"attributes\":{\"mantissas\":[1,2,5]}},\"formatter\":{\"type\":\"object\",\"name\":\"BasicTickFormatter\",\"id\":\"p1119\"},\"axis_label\":\"Principal Component 2\",\"major_label_policy\":{\"type\":\"object\",\"name\":\"AllLabels\",\"id\":\"p1120\"}}}],\"below\":[{\"type\":\"object\",\"name\":\"LinearAxis\",\"id\":\"p1112\",\"attributes\":{\"ticker\":{\"type\":\"object\",\"name\":\"BasicTicker\",\"id\":\"p1113\",\"attributes\":{\"mantissas\":[1,2,5]}},\"formatter\":{\"type\":\"object\",\"name\":\"BasicTickFormatter\",\"id\":\"p1114\"},\"axis_label\":\"Principal Component 1\",\"major_label_policy\":{\"type\":\"object\",\"name\":\"AllLabels\",\"id\":\"p1115\"}}}],\"center\":[{\"type\":\"object\",\"name\":\"Grid\",\"id\":\"p1116\",\"attributes\":{\"axis\":{\"id\":\"p1112\"}}},{\"type\":\"object\",\"name\":\"Grid\",\"id\":\"p1121\",\"attributes\":{\"dimension\":1,\"axis\":{\"id\":\"p1117\"}}}]}}]}};\n",
       "  const render_items = [{\"docid\":\"4e688a47-fe60-47df-ad52-1941e1bd7e16\",\"roots\":{\"p1100\":\"a9309c0f-daa6-445f-b2d6-56efdab06b6e\"},\"root_ids\":[\"p1100\"]}];\n",
       "  root.Bokeh.embed.embed_items_notebook(docs_json, render_items);\n",
       "  }\n",
       "  if (root.Bokeh !== undefined) {\n",
       "    embed_document(root);\n",
       "  } else {\n",
       "    let attempts = 0;\n",
       "    const timer = setInterval(function(root) {\n",
       "      if (root.Bokeh !== undefined) {\n",
       "        clearInterval(timer);\n",
       "        embed_document(root);\n",
       "      } else {\n",
       "        attempts++;\n",
       "        if (attempts > 100) {\n",
       "          clearInterval(timer);\n",
       "          console.log(\"Bokeh: ERROR: Unable to run BokehJS code because BokehJS library is missing\");\n",
       "        }\n",
       "      }\n",
       "    }, 10, root)\n",
       "  }\n",
       "})(window);"
      ],
      "application/vnd.bokehjs_exec.v0+json": ""
     },
     "metadata": {
      "application/vnd.bokehjs_exec.v0+json": {
       "id": "p1100"
      }
     },
     "output_type": "display_data"
    }
   ],
   "source": [
    "# Create a Bokeh ColumnDataSource\n",
    "source = ColumnDataSource(data=dict(x=data_2d[:, 0], y=data_2d[:, 1], color=cluster_labels_str))\n",
    "\n",
    "# Create a scatter plot with factor_cmap for color mapping\n",
    "plot = figure(title=\"Mean Shift Clustering with PCA\", x_axis_label='Principal Component 1', \n",
    "              y_axis_label='Principal Component 2', width=800, height=600)\n",
    "plot.scatter(x='x', y='y', size=8, color=factor_cmap('color', palette=Category10[3], factors=[\"0\",\"1\",\"2\"]), source=source)\n",
    "# Show the plot\n",
    "show(plot)"
   ]
  },
  {
   "cell_type": "markdown",
   "id": "9e0a3f86-7cb2-4840-baff-c169b9cc0a5d",
   "metadata": {},
   "source": [
    "# End Of Density based clustering"
   ]
  }
 ],
 "metadata": {
  "kernelspec": {
   "display_name": "Python 3 (ipykernel)",
   "language": "python",
   "name": "python3"
  },
  "language_info": {
   "codemirror_mode": {
    "name": "ipython",
    "version": 3
   },
   "file_extension": ".py",
   "mimetype": "text/x-python",
   "name": "python",
   "nbconvert_exporter": "python",
   "pygments_lexer": "ipython3",
   "version": "3.11.5"
  }
 },
 "nbformat": 4,
 "nbformat_minor": 5
}
