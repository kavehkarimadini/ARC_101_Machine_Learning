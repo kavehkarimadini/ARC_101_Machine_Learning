{
 "cells": [
  {
   "cell_type": "markdown",
   "id": "7de73596-2260-4c73-86ab-5f96150b3a5d",
   "metadata": {},
   "source": [
    "# Introduction:\n",
    "> Models are only as useful as the quality of their predictions\n",
    "> > fundamentally, our goal is not to create models (which is easy) but to create high-quality models (which is\n",
    "hard)."
   ]
  },
  {
   "cell_type": "markdown",
   "id": "6bcc8977-4555-41ce-8a13-e24459ab8552",
   "metadata": {},
   "source": [
    "# Cross-Validating Models\n",
    "> One strategy might be to hold off a slice of data for testing.\n",
    ">> This is called validation (or hold-out):\n",
    ">> > In validation, our observations (features and targets) are split into two\n",
    "sets, traditionally called the training set and the test set. We take the test set and put it\n",
    "off to the side, pretending that we have never seen it before.<br><br>\n",
    ">> > Next we train our model using our training set, using the features and target vector to teach the model how\n",
    "to make the best prediction.\n",
    ">______________________________________\n",
    "> However, the validation approach has two major weaknesses:\n",
    "> > 1. The performance of the model can be highly dependent on which few observations were selected for the test set.\n",
    "> > 2. The model is not being trained using all the available data, and it’s not being evaluated on all the available data.\n",
    "> _________________________________________\n",
    "> A better strategy, which overcomes these weaknesses, is called `k-fold cross-validation\n",
    "(KFCV)`:\n",
    "> > 1. In KFCV, we split the data into k parts called folds. The model is then trained using k – 1 folds (combined into one training set) and then the last fold is used as a test set.\n",
    "> > 2. We repeat this k times, each time using a different fold as the test set.\n",
    "> > 3. The performance on the model for each of the k iterations is then averaged to produce an overall measurement.\n",
    "> ___________________________________\n",
    "> 2 key points:\n",
    "> > 1. KFCV assumes that each observation was created independently from the other (i.e., the data is independent and `identically distributed [IID]`).\n",
    "> > > If the data is IID, it is a good idea to `shuffle observation`s when assigning to folds. In scikit-learn we can set `shuffle=True` to perform shuffling.\n",
    "> > 2. when we are using KFCV to evaluate a classifier, it is often beneficial to have folds containing roughly the same percentage of observations from each of the different target classes (called `stratified k-fold`).\n",
    "> > > **Example:** if our `target vector` contained gender and 80% of the observations were male, then each fold would contain 80% male and 20% female observations.\n",
    "> > > - In scikit-learn, we can conduct stratified k-fold cross-validation by replacing the `KFold` class with `StratifiedKFold`.\n",
    "> ______________________________________________\n",
    "> cross_val_score 3 parameters:\n",
    ">> 1. cv:\n",
    ">>> `cv` determines our cross-validation technique. K-fold is the most common by far, but there are others, such as `leave-one-out cross-validation` where the number of folds k equals the number of data points in the set.\n",
    ">> 2. scoring:\n",
    ">>> `scoring` defines the metric for success.\n",
    ">> 3. n_jobs=-1:\n",
    ">>> `n_jobs=-1` tells scikit-learn to use every core available. For example, if your computer has four cores (a common number for laptops), then scikit-learn will use all four cores at once to speed up the operation."
   ]
  },
  {
   "cell_type": "code",
   "execution_count": 3,
   "id": "9fafd785-7fd3-4472-8dff-60c791ef965e",
   "metadata": {},
   "outputs": [],
   "source": [
    "# If you want to evaluate how well your classification model generalizes to unforeseen data.\n",
    "# Just reate a pipeline that preprocesses the data, trains the model, and then evaluates it using cross-validation:\n",
    "# Load libraries\n",
    "from sklearn import datasets\n",
    "from sklearn import metrics\n",
    "from sklearn.model_selection import KFold, cross_val_score\n",
    "from sklearn.pipeline import make_pipeline\n",
    "from sklearn.linear_model import LogisticRegression\n",
    "from sklearn.preprocessing import StandardScaler"
   ]
  },
  {
   "cell_type": "code",
   "execution_count": 4,
   "id": "a12c52ff-1aae-4c47-a975-25f90f8df36d",
   "metadata": {},
   "outputs": [
    {
     "data": {
      "text/plain": [
       "0.9677329000309502"
      ]
     },
     "execution_count": 4,
     "metadata": {},
     "output_type": "execute_result"
    }
   ],
   "source": [
    "# Load digits dataset\n",
    "digits = datasets.load_digits()\n",
    "# Create features matrix\n",
    "features = digits.data\n",
    "# Create target vector\n",
    "target = digits.target\n",
    "# Create standardizer\n",
    "standardizer = StandardScaler()\n",
    "# Create logistic regression object\n",
    "logit = LogisticRegression()\n",
    "# Create a pipeline that standardizes, then runs logistic regression\n",
    "pipeline = make_pipeline(standardizer, logit)\n",
    "# Create k-fold cross-validation\n",
    "kf = KFold(n_splits=5, shuffle=True, random_state=0)\n",
    "# Conduct k-fold cross-validation\n",
    "cv_results = cross_val_score(pipeline, # Pipeline\n",
    "                             features, # Feature matrix\n",
    "                             target, # Target vector\n",
    "                             cv=kf, # Performance metric\n",
    "                             scoring=\"accuracy\", # Loss function\n",
    "                             n_jobs=-1) # Use all CPU cores\n",
    "# Calculate mean\n",
    "cv_results.mean()"
   ]
  },
  {
   "cell_type": "markdown",
   "id": "5aa7295a-0a64-4ea2-a048-6c1c7666a40a",
   "metadata": {},
   "source": [
    "- Our goal is not to evaluate how well the model does on our training data, but how well it does on data it has never seen before\n",
    "(e.g., a new customer, a new crime, a new image)."
   ]
  },
  {
   "cell_type": "code",
   "execution_count": 5,
   "id": "c163a618-bf7e-46e9-a1a3-37ab2bb9c171",
   "metadata": {},
   "outputs": [
    {
     "data": {
      "text/plain": [
       "array([0.96111111, 0.95833333, 0.97771588, 0.96935933, 0.97214485])"
      ]
     },
     "execution_count": 5,
     "metadata": {},
     "output_type": "execute_result"
    }
   ],
   "source": [
    "# we conducted k-fold cross-validation using five folds and outputted the evaluation scores to cv_results:\n",
    "# View score for all 5 folds\n",
    "cv_results"
   ]
  },
  {
   "cell_type": "markdown",
   "id": "d48e82fa-e677-481b-b6ac-78d0ac8d9a39",
   "metadata": {},
   "source": [
    "> - Finally, when we are using validation sets or cross-validation, it is important to preprocess data based on the training set and then apply those transformations to both the training and test set.\n",
    "> > **Example:** when we fit our standardization object, standardizer, we calculate the mean and variance of only the training set. Then we\n",
    "apply that transformation (using transform) to both the training and test sets:"
   ]
  },
  {
   "cell_type": "code",
   "execution_count": 6,
   "id": "e27cfebf-3984-4d72-991f-4e138a07d006",
   "metadata": {},
   "outputs": [],
   "source": [
    "# Import library\n",
    "from sklearn.model_selection import train_test_split\n",
    "# Create training and test sets\n",
    "features_train, features_test, target_train, target_test = train_test_split(features, target, test_size=0.1, random_state=1)\n",
    "# Fit standardizer to training set\n",
    "standardizer.fit(features_train)\n",
    "# Apply to both training and test sets which can then be used to train models\n",
    "features_train_std = standardizer.transform(features_train)\n",
    "features_test_std = standardizer.transform(features_test)"
   ]
  },
  {
   "cell_type": "markdown",
   "id": "15f77b37-37ed-4f6f-b1da-dd8a0d375d51",
   "metadata": {},
   "source": [
    "- The reason for this is because we are pretending that the test set is unknown data.\n",
    "If we fit both our preprocessors using observations from both training and test sets,\n",
    "some of the information from the test set leaks into our training set. "
   ]
  },
  {
   "cell_type": "markdown",
   "id": "1c0e4026-8427-47f8-a9e4-7aa60ecf901e",
   "metadata": {},
   "source": [
    "### `scikit-learn’s pipeline` package makes this easy to do while using cross-validation techniques. "
   ]
  },
  {
   "cell_type": "code",
   "execution_count": 7,
   "id": "204c137b-92da-455b-a7ab-aaafe478f9fd",
   "metadata": {},
   "outputs": [],
   "source": [
    "# We first create a pipeline that preprocesses the data (e.g., standardizer) and then trains a model (logistic regression, logit):\n",
    "# Create a pipeline\n",
    "pipeline = make_pipeline(standardizer, logit)"
   ]
  },
  {
   "cell_type": "code",
   "execution_count": 8,
   "id": "b5d02e05-1ed1-4ac3-9815-b5e0defe2a7c",
   "metadata": {},
   "outputs": [],
   "source": [
    "# Then we run KFCV using that pipeline and scikit does all the work for us:\n",
    "# Do k-fold cross-validation\n",
    "cv_results = cross_val_score(pipeline, # Pipeline\n",
    "                             features, # Feature matrix\n",
    "                             target, # Target vector\n",
    "                             cv=kf, # Performance metric\n",
    "                             scoring=\"accuracy\", # Loss function\n",
    "                             n_jobs=-1) # Use all CPU cores"
   ]
  },
  {
   "cell_type": "markdown",
   "id": "be51db02-4305-40fe-b7ec-d5ffac4cd032",
   "metadata": {},
   "source": [
    "# Creating a Baseline Regression Model\n",
    "> `DummyRegressor` allows us to create a very simple model that we can use as a baseline to compare against any other models that we train.\n",
    "> > This can often be useful to simulate a “naive” existing prediction process in a product or system. "
   ]
  },
  {
   "cell_type": "code",
   "execution_count": 10,
   "id": "f158ad8a-b122-4839-8be5-c8ca86f118f2",
   "metadata": {},
   "outputs": [
    {
     "data": {
      "text/plain": [
       "-0.0480213580840978"
      ]
     },
     "execution_count": 10,
     "metadata": {},
     "output_type": "execute_result"
    }
   ],
   "source": [
    "# If you want a simple baseline regression model to use as a comparison against other models that you train,\n",
    "# use scikit-learn’s DummyRegressor to create a simple model to use as a baseline:\n",
    "\n",
    "# Load libraries\n",
    "from sklearn.datasets import load_wine\n",
    "from sklearn.dummy import DummyRegressor\n",
    "from sklearn.model_selection import train_test_split\n",
    "# Load data\n",
    "wine = load_wine()\n",
    "# Create features\n",
    "features, target = wine.data, wine.target\n",
    "# Make test and training split\n",
    "features_train, features_test, target_train, target_test = train_test_split(features, target, random_state=0)\n",
    "# Create a dummy regressor\n",
    "dummy = DummyRegressor(strategy='mean')\n",
    "# \"Train\" dummy regressor\n",
    "dummy.fit(features_train, target_train)\n",
    "# Get R-squared score\n",
    "dummy.score(features_test, target_test)\n",
    "# -0.0480213580840978"
   ]
  },
  {
   "cell_type": "code",
   "execution_count": 11,
   "id": "fccdb554-f633-4f47-affd-fc76065bb807",
   "metadata": {},
   "outputs": [
    {
     "data": {
      "text/plain": [
       "0.8043532631769538"
      ]
     },
     "execution_count": 11,
     "metadata": {},
     "output_type": "execute_result"
    }
   ],
   "source": [
    "# To compare, we train our model and evaluate the performance score:\n",
    "# Load library\n",
    "from sklearn.linear_model import LinearRegression\n",
    "# Train simple linear regression model\n",
    "ols = LinearRegression()\n",
    "ols.fit(features_train, target_train)\n",
    "# Get R-squared score\n",
    "ols.score(features_test, target_test)\n",
    "# 0.804353263176954"
   ]
  },
  {
   "attachments": {
    "1c172a81-4013-4944-9e74-9d592ff5a4c0.png": {
     "image/png": "[encoded data removed]"
    }
   },
   "cell_type": "markdown",
   "id": "d7640ce1-3ab5-47b6-a0a1-21a52d40c6b8",
   "metadata": {},
   "source": [
    "- By default, score returns the coefficient of determination (R-squared, R^2) score:\n",
    "> ![image.png](attachment:1c172a81-4013-4944-9e74-9d592ff5a4c0.png)\n",
    "> - where $y_{i}$ is the true value of the target observation, $\\hat{y_{i}}$ is the predicted value, and $\\bar{y}$ is the mean value for the target vector.\n",
    ">> - The closer $R^{2}$ is to 1, the more of the variance in the target vector that is explained by the features."
   ]
  },
  {
   "cell_type": "markdown",
   "id": "766bd75d-ad29-47ee-b3c1-6b359d5f256f",
   "metadata": {},
   "source": [
    "> - DummyRegressor uses the `strategy` parameter to set the method of making predictions, including the mean or median value in the training set.\n",
    "> - Furthermore, if we set strategy to constant and use the `constant` parameter, we can set the dummy regressor to predict some constant value for every observation:"
   ]
  },
  {
   "cell_type": "code",
   "execution_count": 12,
   "id": "f9b28a6c-00a9-4a04-8e2a-d71272e2188f",
   "metadata": {},
   "outputs": [
    {
     "data": {
      "text/plain": [
       "-0.06299212598425186"
      ]
     },
     "execution_count": 12,
     "metadata": {},
     "output_type": "execute_result"
    }
   ],
   "source": [
    "# Create dummy regressor that predicts 1s for everything\n",
    "clf = DummyRegressor(strategy='constant', constant=1)\n",
    "clf.fit(features_train, target_train)\n",
    "# Evaluate score\n",
    "clf.score(features_test, target_test)\n",
    "# -0.06299212598425186"
   ]
  },
  {
   "cell_type": "markdown",
   "id": "919c4282-8444-4cf5-aa19-2c0bdd8c7621",
   "metadata": {},
   "source": [
    "# Creating a Baseline Classification Model\n",
    "> A common measure of a classifier’s performance is how much better it is than `random guessing`.\n",
    "> > scikit-learn’s `DummyClassifier` makes this comparison easy.\n",
    "> > - The strategy parameter gives us a number of options for generating values:\n",
    "> > > 1. `stratified` makes predictions proportional to the class proportions of the training set’s target vector\n",
    "> > > > **Example:** if 20% of the observations in the training data are women, then DummyClassifier will predict women 20% of the time).\n",
    "> > > 2. `uniform` will generate predictions uniformly at random between the different classes.\n",
    "> > > > **Example:** if 20% of observations are women and 80% are men, uniform will produce predictions that are 50% women and 50% men."
   ]
  },
  {
   "cell_type": "code",
   "execution_count": 13,
   "id": "81a73bf5-e141-400b-a3aa-20c5acd38cb2",
   "metadata": {},
   "outputs": [
    {
     "data": {
      "text/plain": [
       "0.42105263157894735"
      ]
     },
     "execution_count": 13,
     "metadata": {},
     "output_type": "execute_result"
    }
   ],
   "source": [
    "# If you want a simple baseline classifier to compare against your model,\n",
    "# use scikit-learn’s DummyClassifier:\n",
    "\n",
    "# Load libraries\n",
    "from sklearn.datasets import load_iris\n",
    "from sklearn.dummy import DummyClassifier\n",
    "from sklearn.model_selection import train_test_split\n",
    "# Load data\n",
    "iris = load_iris()\n",
    "# Create target vector and feature matrix\n",
    "features, target = iris.data, iris.target\n",
    "# Split into training and test set\n",
    "features_train, features_test, target_train, target_test = train_test_split(\n",
    " features, target, random_state=0)\n",
    "# Create dummy classifier\n",
    "dummy = DummyClassifier(strategy='uniform', random_state=1)\n",
    "# \"Train\" model\n",
    "dummy.fit(features_train, target_train)\n",
    "# Get accuracy score\n",
    "dummy.score(features_test, target_test)\n",
    "# 0.42105263157894735"
   ]
  },
  {
   "cell_type": "code",
   "execution_count": 14,
   "id": "62fa92d8-b2e1-4821-9fb5-a93ae75393d6",
   "metadata": {},
   "outputs": [
    {
     "data": {
      "text/plain": [
       "0.9736842105263158"
      ]
     },
     "execution_count": 14,
     "metadata": {},
     "output_type": "execute_result"
    }
   ],
   "source": [
    "# By comparing the baseline classifier to our trained classifier, we can see the improvement:\n",
    "# Load library\n",
    "from sklearn.ensemble import RandomForestClassifier\n",
    "# Create classifier\n",
    "classifier = RandomForestClassifier()\n",
    "# Train model\n",
    "classifier.fit(features_train, target_train)\n",
    "# Get accuracy score\n",
    "classifier.score(features_test, target_test)\n",
    "# 0.9736842105263158"
   ]
  },
  {
   "cell_type": "markdown",
   "id": "3539f56f-3bf5-4544-a182-a44bdfe6fcf5",
   "metadata": {},
   "source": [
    "# Evaluating Binary Classifier Predictions\n",
    "> For evaluating the quality of a trained classification model, scikit-learn’s `cross_val_score` will conduct cross-validation while using the\n",
    "`scoring` parameter to define one of a number of performance metrics, including:\n",
    "> # scoring (evaluation metric):\n",
    "> > As an evaluation metric, accuracy has some valuable properties, especially its intuitiveness. However, better metrics often involve using some balance of `precision` and `recall` (a trade-off between the `optimism` and `pessimism`). `F1` presents a balance between the recall and precision, where the relative contributions of both are equal.\n",
    ">>____________________________________\n",
    ">> ## accuracy\n",
    ">>> Accuracy is a common performance metric. It is simply the proportion of observations predicted correctly:<br>\n",
    ">>> $Accuracy = \\frac{TP+TN}{TP+TN+FP+FN}$ <br>\n",
    ">>>> - `TP:` The number of true positives. These are observations that are part of the positive class that we predicted correctly.\n",
    ">>>> - `TN:` The number of true negatives. These are observations that are part of the negative class that we predicted correctly.\n",
    ">>>> - `FP:` The number of false positives, also called a Type I error. These are observations that are predicted to be part of the positive class but are actually part of the negative class.\n",
    ">>>> - `FN:` The number of false negatives, also called a Type II error. These are observations that are predicted to be part of the negative class but are actually part of the positive class.\n",
    ">>______________________________\n",
    ">> ## precision\n",
    ">> > `Precision` is the proportion of every observation `predicted to be positive` that is `actually positive`. We can think about it as a measurement noise in our predictions (how likely we are to be right when we predict something is positive).\n",
    ">> > - Models with high precision are `pessimistic` in that they predict an observation is of the positive class only when they are very certain about it.\n",
    ">> >> **Formula:** $\\frac{TP}{TP+FP}$\n",
    ">>_________________________\n",
    ">> ## recall\n",
    ">> > Recall is the proportion of `every positive` observation that is `truly positive`.\n",
    ">> > - Recall measures the `model’s ability to identify` an observation of the `positive class`.\n",
    ">> > - Models with high recall are `optimistic` in that they have a low bar for predicting that an observation is in the positive class\n",
    ">> > > **Formula:** $\\frac{TP}{TP+FN}$\n",
    ">>______________________\n",
    ">> ## F1\n",
    ">> > Almost always we want some kind of `balance between precision and recall`, and this role is filled by the F1 score.\n",
    ">> > - The F1 score is the `harmonic mean` (a kind of average used for ratios),\n",
    ">> > > **Formula:** $2\\times\\frac{Precision \\times Recall}{Precision+Recall}$\n",
    ">> > > - **Note:** This score is a measure of `correctness` achieved in `positive prediction` (how many are actually positive of observations labeled as positive)"
   ]
  },
  {
   "cell_type": "code",
   "execution_count": 2,
   "id": "1d6160ed-d28b-423b-858f-78a5ec2f0771",
   "metadata": {},
   "outputs": [
    {
     "data": {
      "text/plain": [
       "array([0.9555, 0.95  , 0.9585, 0.9555, 0.956 ])"
      ]
     },
     "execution_count": 2,
     "metadata": {},
     "output_type": "execute_result"
    }
   ],
   "source": [
    "# We can measure accuracy in three-fold (the default number of folds) cross-validation by setting scoring=\"accuracy\":\n",
    "# Load libraries\n",
    "from sklearn.model_selection import cross_val_score\n",
    "from sklearn.linear_model import LogisticRegression\n",
    "from sklearn.datasets import make_classification\n",
    "# Generate features matrix and target vector\n",
    "X, y = make_classification(n_samples = 10000,\n",
    "                           n_features = 3,\n",
    "                           n_informative = 3,\n",
    "                           n_redundant = 0,\n",
    "                           n_classes = 2,\n",
    "                           random_state = 1)\n",
    "# Create logistic regression\n",
    "logit = LogisticRegression()\n",
    "# Cross-validate model using accuracy\n",
    "cross_val_score(logit, X, y, scoring=\"accuracy\")\n",
    "# array([0.9555, 0.95 , 0.9585, 0.9555, 0.956 ])"
   ]
  },
  {
   "cell_type": "markdown",
   "id": "9cc68061-8db4-41da-9e96-d23e5bd4bced",
   "metadata": {},
   "source": [
    "> - **Note:** When in the presence of imbalanced classes, accuracy suffers from a paradox where a model is highly accurate but lacks predictive power.\n",
    "> > **Example:** imagine we are trying to predict the presence of a very rare cancer that occurs in 0.1% of the population. After training our model, we find the accuracy is at 95%. However, 99.9% of people do not have the cancer: if we simply created a model that “predicted” that nobody had that form of cancer, our naive model would be 4.9% more accurate, but it clearly is not able to predict anything.\n",
    "\n",
    "> $\\Longrightarrow$ For this reason, we are often motivated to use other metrics such as precision, recall, and the F1 score."
   ]
  },
  {
   "cell_type": "code",
   "execution_count": 3,
   "id": "e80054ac-4df6-47e2-a7f6-fd356d324a90",
   "metadata": {},
   "outputs": [
    {
     "data": {
      "text/plain": [
       "array([0.95963673, 0.94820717, 0.9635996 , 0.96149949, 0.96060606])"
      ]
     },
     "execution_count": 3,
     "metadata": {},
     "output_type": "execute_result"
    }
   ],
   "source": [
    "# Cross-validate model using precision\n",
    "cross_val_score(logit, X, y, scoring=\"precision\")\n",
    "# array([0.95963673, 0.94820717, 0.9635996 , 0.96149949, 0.96060606])"
   ]
  },
  {
   "cell_type": "code",
   "execution_count": 4,
   "id": "dd7f8210-a116-4b8f-aa5c-052b201f7a65",
   "metadata": {},
   "outputs": [
    {
     "data": {
      "text/plain": [
       "array([0.951, 0.952, 0.953, 0.949, 0.951])"
      ]
     },
     "execution_count": 4,
     "metadata": {},
     "output_type": "execute_result"
    }
   ],
   "source": [
    "# Cross-validate model using recall\n",
    "cross_val_score(logit, X, y, scoring=\"recall\")\n",
    "# array([0.951, 0.952, 0.953, 0.949, 0.951])"
   ]
  },
  {
   "cell_type": "code",
   "execution_count": 5,
   "id": "3d11e8a5-5e44-4fc2-9568-d0174c92b573",
   "metadata": {},
   "outputs": [
    {
     "data": {
      "text/plain": [
       "array([0.95529884, 0.9500998 , 0.95827049, 0.95520886, 0.95577889])"
      ]
     },
     "execution_count": 5,
     "metadata": {},
     "output_type": "execute_result"
    }
   ],
   "source": [
    "# Cross-validate model using F1\n",
    "cross_val_score(logit, X, y, scoring=\"f1\")\n",
    "# array([0.95529884, 0.9500998 , 0.95827049, 0.95520886, 0.95577889])"
   ]
  },
  {
   "cell_type": "code",
   "execution_count": 6,
   "id": "1da97b19-045e-41d2-8ac5-9a286dedf492",
   "metadata": {},
   "outputs": [
    {
     "data": {
      "text/plain": [
       "0.947"
      ]
     },
     "execution_count": 6,
     "metadata": {},
     "output_type": "execute_result"
    }
   ],
   "source": [
    "# As an alternative to using cross_val_score, if we already have the true y values and\n",
    "# the predicted y values, we can calculate the metrics accuracy and recall directly:\n",
    "# Load libraries\n",
    "from sklearn.model_selection import train_test_split\n",
    "from sklearn.metrics import accuracy_score, recall_score \n",
    "# Create training and test split\n",
    "X_train, X_test, y_train, y_test = train_test_split(X,\n",
    "                                                    y,\n",
    "                                                    test_size=0.1,\n",
    "                                                    random_state=1)\n",
    "# Predict values for training target vector\n",
    "y_hat = logit.fit(X_train, y_train).predict(X_test)\n",
    "# Calculate accuracy\n",
    "accuracy_score(y_test, y_hat)"
   ]
  },
  {
   "cell_type": "code",
   "execution_count": 7,
   "id": "67f30208-6fac-4e72-842d-a43c6b2d5306",
   "metadata": {},
   "outputs": [
    {
     "data": {
      "text/plain": [
       "0.9397590361445783"
      ]
     },
     "execution_count": 7,
     "metadata": {},
     "output_type": "execute_result"
    }
   ],
   "source": [
    "recall_score(y_test, y_hat)"
   ]
  },
  {
   "cell_type": "markdown",
   "id": "910a2e23-4366-45d7-bc5e-9afb6d952ef1",
   "metadata": {},
   "source": [
    "# Evaluating Binary Classifier Thresholds\n",
    "> The `receiver operating characteristic curve` is a common method for evaluating the quality of a `binary classifier`.\n",
    "> > - `ROC` compares the presence of `true positives` and `false positives` at `every probability threshold` (i.e., the probability at which an observation is predicted to be a class).\n",
    "> > - By plotting the ROC curve, we can see how the model performs.\n",
    "> > > - A `good` classifier that predicts every observation correctly would look like the solid light gray line in the ROC output in the figure bellow, going straight up to the top immediately.\n",
    "> > > - A `bad` classifier that predicts at random will appear as the diagonal line.\n",
    ">>>> The better the model, the closer it is to the solid line."
   ]
  },
  {
   "cell_type": "code",
   "execution_count": 1,
   "id": "91eaf6d0-f357-4dc8-b4a7-52105e6c3c33",
   "metadata": {},
   "outputs": [
    {
     "data": {
      "image/png": "[encoded data removed]",
      "text/plain": [
       "<Figure size 640x480 with 1 Axes>"
      ]
     },
     "metadata": {},
     "output_type": "display_data"
    }
   ],
   "source": [
    "# If you want to evaluate a binary classifier and various probability thresholds,\n",
    "# use the receiver operating characteristic (ROC) curve to evaluate the quality of the binary classifier. \n",
    "# In scikit-learn, we can use roc_curve to calculate the true and false positives at each threshold, and then plot them:\n",
    "# Load libraries\n",
    "import matplotlib.pyplot as plt\n",
    "from sklearn.datasets import make_classification\n",
    "from sklearn.linear_model import LogisticRegression\n",
    "from sklearn.metrics import roc_curve, roc_auc_score\n",
    "from sklearn.model_selection import train_test_split\n",
    "# Create feature matrix and target vector\n",
    "features, target = make_classification(n_samples=10000,n_features=10,n_classes=2, n_informative=3, random_state=3)\n",
    "# Split into training and test sets\n",
    "features_train, features_test, target_train, target_test = train_test_split(features, target, test_size=0.1, random_state=1)\n",
    "# Create classifier\n",
    "logit = LogisticRegression()\n",
    "# Train model\n",
    "logit.fit(features_train, target_train)\n",
    "# Get predicted probabilities\n",
    "target_probabilities = logit.predict_proba(features_test)[:,1]\n",
    "# Create true and false positive rates\n",
    "false_positive_rate, true_positive_rate, threshold = roc_curve(target_test,target_probabilities)\n",
    "# Plot ROC curve\n",
    "plt.title(\"Receiver Operating Characteristic\")\n",
    "plt.plot(false_positive_rate, true_positive_rate)\n",
    "plt.plot([0, 1], ls=\"--\")\n",
    "plt.plot([0, 0], [1, 0] , c=\".7\"), plt.plot([1, 1] , c=\".7\")\n",
    "plt.ylabel(\"True Positive Rate\")\n",
    "plt.xlabel(\"False Positive Rate\")\n",
    "plt.show()"
   ]
  },
  {
   "cell_type": "markdown",
   "id": "0cfcfc0f-5edf-44ba-b575-46483961febf",
   "metadata": {},
   "source": [
    "- In many learning algorithms, the predicted values are based on `probability estimates`. That is, each observation is given an explicit probability of belonging in each class:"
   ]
  },
  {
   "cell_type": "code",
   "execution_count": 2,
   "id": "647f9c97-10de-402b-9152-48df7929d377",
   "metadata": {},
   "outputs": [
    {
     "data": {
      "text/plain": [
       "array([[0.8689235, 0.1310765]])"
      ]
     },
     "execution_count": 2,
     "metadata": {},
     "output_type": "execute_result"
    }
   ],
   "source": [
    "# Get predicted probabilities\n",
    "# the first observation has an ~87% chance of being in the negative class (0) and a 13% chance of being in the positive class (1).\n",
    "logit.predict_proba(features_test)[0:1]\n",
    "# array([[0.86891533, 0.13108467]])"
   ]
  },
  {
   "cell_type": "code",
   "execution_count": 3,
   "id": "2b001fc5-2d11-4b0b-8584-13085386bac9",
   "metadata": {},
   "outputs": [
    {
     "data": {
      "text/plain": [
       "array([0, 1])"
      ]
     },
     "execution_count": 3,
     "metadata": {},
     "output_type": "execute_result"
    }
   ],
   "source": [
    "# We can see the classes using classes_:\n",
    "logit.classes_\n",
    "# array([0, 1])"
   ]
  },
  {
   "cell_type": "markdown",
   "id": "c057c8cd-b30c-4271-914e-245e640153c0",
   "metadata": {},
   "source": [
    "> - By default, scikit-learn assumes a 50/50 chance (threshold of 0.5) of something belonging to the positive class. But sometimes, we might care more about one type of mistake over another.\n",
    "> - For instance, imagine a high false positive cost (e.g., predicting someone has a disease when they don't). In that case, we'd prefer a stricter model with a higher threshold. We might miss some true positives, but when something is flagged, we're more confident it's real.\n",
    "> > - This decision involves balancing two things:\n",
    "> > > 1. catching true positives (TPR):\n",
    "> > > > The TPR is the number of observations correctly predicted true divided by all true positive observations:<br>\n",
    "> > > > $TPR=\\frac{TP}{TP+FN}$ \n",
    "> > > 2. avoiding false positives (FPR):\n",
    "> > > > The FPR is the number of incorrectly predicted positives divided by all true negative observations:<br>\n",
    "> > > > $FPR=\\frac{FP}{FP+TN}$ "
   ]
  },
  {
   "cell_type": "code",
   "execution_count": 4,
   "id": "2bd3687f-fc32-464a-828e-ac1d8a6948a8",
   "metadata": {},
   "outputs": [
    {
     "name": "stdout",
     "output_type": "stream",
     "text": [
      "Threshold: 0.4981509475208574\n",
      "True Positive Rate: 0.8367346938775511\n",
      "False Positive Rate: 0.1627450980392157\n"
     ]
    }
   ],
   "source": [
    "# The ROC curve represents the respective TPR and FPR for every probability threshold. \n",
    "# For example, in our solution a threshold of roughly 0.50 has a TPR of ~0.83 and an FPR of ~0.16:\n",
    "print(\"Threshold:\", threshold[124])\n",
    "print(\"True Positive Rate:\", true_positive_rate[124])\n",
    "print(\"False Positive Rate:\", false_positive_rate[124])"
   ]
  },
  {
   "cell_type": "code",
   "execution_count": 5,
   "id": "69b727df-5248-4e3f-a665-9e8a3f0db63f",
   "metadata": {},
   "outputs": [
    {
     "name": "stdout",
     "output_type": "stream",
     "text": [
      "Threshold: 0.8058635463651345\n",
      "True Positive Rate: 0.5653061224489796\n",
      "False Positive Rate: 0.052941176470588235\n"
     ]
    }
   ],
   "source": [
    "# if we increase the threshold to ~80% (i.e., increase how certain the model has to be before it predicts an observation as positive) \n",
    "# the TPR drops significantly but so does the FPR:\n",
    "print(\"Threshold:\", threshold[49])\n",
    "print(\"True Positive Rate:\", true_positive_rate[49])\n",
    "print(\"False Positive Rate:\", false_positive_rate[49])\n",
    "# This is because our higher requirement for being predicted to be in the positive class \n",
    "# has caused the model to not identify a number of positive observations (the lower TPR) \n",
    "# but has also reduced the noise from negative observations being predicted as positive (the lower FPR)."
   ]
  },
  {
   "cell_type": "markdown",
   "id": "3683c0e0-612b-4a7e-8c7c-4e39b39cb12a",
   "metadata": {},
   "source": [
    "> - In addition to being able to visualize the trade-off between TPR and FPR, the ROC curve can also be used as a general metric for a model. >> - The better a model is, the higher the curve and thus the greater the area under the curve.\n",
    "> >> For this reason, it is common to calculate the `area under the ROC curve (AUC ROC)` to judge the overall quality of a model at all possible thresholds.\n",
    "> >> - The closer the AUC ROC is to 1, the better the model."
   ]
  },
  {
   "cell_type": "code",
   "execution_count": 6,
   "id": "628caa28-45b2-4e40-a7e1-30f96bf9edf6",
   "metadata": {},
   "outputs": [
    {
     "data": {
      "text/plain": [
       "0.9073429371748699"
      ]
     },
     "execution_count": 6,
     "metadata": {},
     "output_type": "execute_result"
    }
   ],
   "source": [
    "# In scikit-learn we can calculate the AUC ROC using roc_auc_score:\n",
    "# Calculate area under curve\n",
    "roc_auc_score(target_test, target_probabilities)\n",
    "# 0.9073389355742297"
   ]
  },
  {
   "cell_type": "markdown",
   "id": "942c4987-0f05-4833-84b7-552b39d2d0ff",
   "metadata": {},
   "source": [
    "# Evaluating Multiclass Classifier Predictions\n",
    "> When we have balanced classes (a roughly equal number of observations in each class of the target vector), accuracy is a simple and interpretable choice for an evaluation metric.\n",
    "> > Accuracy is the number of correct predictions divided by the number of observations and works just as well in the\n",
    "multiclass as in the binary setting.\n",
    "> ___________________________________\n",
    "> When we have imbalanced classes (a common scenario), we should be inclined to use other evaluation metrics.\n",
    ">> Many of scikit-learn’s built-in metrics are for evaluating binary classifiers. However, many of these metrics can be extended for use when we have more than two classes.\n",
    ">> - `Precision`, `recall`, and `F1` scores are useful metrics that we have already covered in detail in previous recipes.\n",
    ">> > While all of them were originally designed for binary classifiers, we can apply them to multiclass settings by treating our data as a set of binary classes. Doing so enables us to apply the metrics to each class as if it were the only class in the data, and then aggregate the evaluation scores for all the classes by `averaging` them."
   ]
  },
  {
   "cell_type": "code",
   "execution_count": 8,
   "id": "979940a7-9df0-4cd2-a4df-29fcc8af8c4b",
   "metadata": {},
   "outputs": [
    {
     "data": {
      "text/plain": [
       "array([0.8405, 0.829 , 0.827 , 0.8155, 0.8205])"
      ]
     },
     "execution_count": 8,
     "metadata": {},
     "output_type": "execute_result"
    }
   ],
   "source": [
    "# If you have a model that predicts three or more classes and want to evaluate the model’s performance,\n",
    "# use cross-validation with an evaluation metric capable of handling more than two classes:\n",
    "# Load libraries\n",
    "from sklearn.model_selection import cross_val_score\n",
    "from sklearn.linear_model import LogisticRegression\n",
    "from sklearn.datasets import make_classification\n",
    "# Generate features matrix and target vector\n",
    "features, target = make_classification(n_samples = 10000,\n",
    "                                       n_features = 3,\n",
    "                                       n_informative = 3,\n",
    "                                       n_redundant = 0,\n",
    "                                       n_classes = 3,\n",
    "                                       random_state = 1)\n",
    "# Create logistic regression\n",
    "logit = LogisticRegression()\n",
    "# Cross-validate model using accuracy\n",
    "cross_val_score(logit, features, target, scoring='accuracy')\n"
   ]
  },
  {
   "cell_type": "code",
   "execution_count": 9,
   "id": "82b6c44c-f38b-4d17-a72d-5fed4abf2d08",
   "metadata": {},
   "outputs": [
    {
     "data": {
      "text/plain": [
       "array([0.84012014, 0.82895312, 0.82675308, 0.81515121, 0.82042629])"
      ]
     },
     "execution_count": 9,
     "metadata": {},
     "output_type": "execute_result"
    }
   ],
   "source": [
    "# Cross-validate model using macro averaged F1 score\n",
    "cross_val_score(logit, features, target, scoring='f1_macro')\n",
    "# array([0.84061272, 0.82895312, 0.82625661, 0.81515121, 0.81992692])"
   ]
  },
  {
   "cell_type": "markdown",
   "id": "b595cb66-70c9-4baf-8374-d9bf7c015d1e",
   "metadata": {},
   "source": [
    "> - In above code, `macro` refers to the method used to average the evaluation scores from the classes. The options are `macro`, `weighted`, and `micro`:\n",
    ">> 1. macro:\n",
    ">>> Calculate the mean of metric scores for each class, weighting each class equally.\n",
    ">> 2. weighted:\n",
    ">>> Calculate the mean of metric scores for each class, weighting each class proportional to its size in the data.\n",
    ">> 3. micro:\n",
    ">>> Calculate the mean of metric scores for each observation-class combination.\n"
   ]
  },
  {
   "cell_type": "code",
   "execution_count": null,
   "id": "72c84311-df2e-43ad-8ad2-78f1db3c50d4",
   "metadata": {},
   "outputs": [],
   "source": []
  }
 ],
 "metadata": {
  "kernelspec": {
   "display_name": "GPU_Kaveh",
   "language": "python",
   "name": "gpu_kaveh"
  },
  "language_info": {
   "codemirror_mode": {
    "name": "ipython",
    "version": 3
   },
   "file_extension": ".py",
   "mimetype": "text/x-python",
   "name": "python",
   "nbconvert_exporter": "python",
   "pygments_lexer": "ipython3",
   "version": "3.12.2"
  }
 },
 "nbformat": 4,
 "nbformat_minor": 5
}
