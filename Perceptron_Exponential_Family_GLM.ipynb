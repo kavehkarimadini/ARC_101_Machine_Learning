{
  "nbformat": 4,
  "nbformat_minor": 0,
  "metadata": {
    "colab": {
      "provenance": [],
      "authorship_tag": "ABX9TyN5iQy6DLg4fFeBcGJ30L/y",
      "include_colab_link": true
    },
    "kernelspec": {
      "name": "python3",
      "display_name": "Python 3"
    },
    "language_info": {
      "name": "python"
    }
  },
  "cells": [
    {
      "cell_type": "markdown",
      "metadata": {
        "id": "view-in-github",
        "colab_type": "text"
      },
      "source": [
        "<a href=\"https://colab.research.google.com/github/kavehkarimadini/ARC_101_Machine_Learning/blob/main/Perceptron_Exponential_Family_GLM.ipynb\" target=\"_parent\"><img src=\"https://colab.research.google.com/assets/colab-badge.svg\" alt=\"Open In Colab\"/></a>"
      ]
    },
    {
      "cell_type": "markdown",
      "source": [
        "### **Perceptron vs. Logistic Function**\n",
        "The perceptron and the logistic function are both fundamental components of neural networks, but they differ in how they process information and their ability to handle complex patterns.\n",
        "\n",
        "| Feature | Perceptron | Logistic Function |\n",
        "|---------|-----------|-------------------|\n",
        "| **Activation Function** | Step Function (Threshold-based) | Sigmoid Function |\n",
        "| **Output** | Binary (0 or 1) | Continuous (0 to 1) |\n",
        "| **Differentiability** | Not differentiable | Differentiable |\n",
        "| **Use Case** | Linearly separable problems | Non-linearly separable problems |\n",
        "\n",
        "#### **Visualization of Perceptron vs. Logistic Function**\n",
        "A perceptron makes hard decisions by setting a threshold, while the logistic function provides smooth probabilistic outputs.\n",
        "\n",
        "##### **Perceptron (Step Function)**\n",
        "$\n",
        "f(z) =\n",
        "\\begin{cases}\n",
        "1, & \\text{if } z \\geq 0 \\\\\n",
        "0, & \\text{if } z < 0\n",
        "\\end{cases}\n",
        "$\n",
        "This function immediately jumps from 0 to 1 at $ z = 0 $.\n",
        "\n",
        "##### **Logistic Function (Sigmoid)**\n",
        "$\n",
        "\\sigma(z) = \\frac{1}{1 + e^{-z}}\n",
        "$\n",
        "This function smoothly transitions between 0 and 1, making it useful for gradient-based learning.\n",
        "\n",
        "---\n",
        "\n",
        "### **Mathematics Behind the Perceptron**\n",
        "A perceptron computes a weighted sum of inputs and applies a threshold function:\n",
        "\n",
        "$\n",
        "z = w_1 x_1 + w_2 x_2 + \\dots + w_n x_n + b\n",
        "$\n",
        "\n",
        "Where:\n",
        "- $ x_i $ are the input features,\n",
        "- $ w_i $ are the corresponding weights,\n",
        "- $ b $ is the bias (threshold adjuster).\n",
        "\n",
        "If $ z $ is greater than or equal to zero, the perceptron outputs 1; otherwise, it outputs 0.\n",
        "\n",
        "---\n",
        "\n",
        "### **Example Calculation**\n",
        "#### **Given Inputs and Weights**\n",
        "Suppose we have a perceptron with:\n",
        "- Inputs: $ x_1 = 2 $, $ x_2 = 3 $\n",
        "- Weights: $ w_1 = 0.5 $, $ w_2 = -0.6 $\n",
        "- Bias: $ b = 0.1 $\n",
        "\n",
        "#### **Step 1: Compute the Weighted Sum**\n",
        "$\n",
        "z = (0.5 \\times 2) + (-0.6 \\times 3) + 0.1\n",
        "$\n",
        "\n",
        "$\n",
        "z = 1 - 1.8 + 0.1 = -0.7\n",
        "$\n",
        "\n",
        "#### **Step 2: Apply the Step Function**\n",
        "Since $ z = -0.7 $ is less than 0, the perceptron outputs **0**.\n",
        "\n",
        "---"
      ],
      "metadata": {
        "id": "-cqNPZvg0H7s"
      }
    },
    {
      "cell_type": "markdown",
      "source": [
        "### **Visualization**\n",
        "Here’s a simple visualization of how the perceptron decision boundary looks compared to a logistic function:\n",
        "\n",
        "1. **Perceptron:** Sharp boundary where inputs are strictly classified into 0 or 1.\n",
        "2. **Logistic Function:** A smooth probability transition between classes."
      ],
      "metadata": {
        "id": "GW9zCWZ_09f6"
      }
    },
    {
      "cell_type": "code",
      "source": [
        "import numpy as np\n",
        "import matplotlib.pyplot as plt\n",
        "\n",
        "# Define perceptron step function\n",
        "def perceptron_activation(z):\n",
        "    return np.where(z >= 0, 1, 0)\n",
        "\n",
        "# Define logistic sigmoid function\n",
        "def sigmoid(z):\n",
        "    return 1 / (1 + np.exp(-z))\n",
        "\n",
        "# Generate input range\n",
        "z = np.linspace(-6, 6, 100)\n",
        "\n",
        "# Compute perceptron and sigmoid outputs\n",
        "perceptron_output = perceptron_activation(z)\n",
        "sigmoid_output = sigmoid(z)\n",
        "\n",
        "# Plot the functions\n",
        "plt.figure(figsize=(8, 5))\n",
        "plt.plot(z, perceptron_output, label=\"Perceptron (Step Function)\", linestyle='--', color='red')\n",
        "plt.plot(z, sigmoid_output, label=\"Logistic (Sigmoid Function)\", color='blue')\n",
        "\n",
        "# Labels and legend\n",
        "plt.axhline(0.5, color='gray', linestyle='dotted', alpha=0.7)\n",
        "plt.axvline(0, color='black', linestyle='dotted', alpha=0.7)\n",
        "plt.xlabel(\"Input (z)\")\n",
        "plt.ylabel(\"Output\")\n",
        "plt.title(\"Perceptron vs. Logistic Function\")\n",
        "plt.legend()\n",
        "plt.grid()\n",
        "\n",
        "# Show the plot\n",
        "plt.show()"
      ],
      "metadata": {
        "colab": {
          "base_uri": "https://localhost:8080/",
          "height": 487
        },
        "id": "5OARNGPI07Ly",
        "outputId": "66ad3a94-c443-4bc1-be33-bec8ddb03dd8"
      },
      "execution_count": 1,
      "outputs": [
        {
          "output_type": "display_data",
          "data": {
            "text/plain": [
              "<Figure size 800x500 with 1 Axes>"
            ],
            "image/png": "[encoded data removed]"
          },
          "metadata": {}
        }
      ]
    },
    {
      "cell_type": "markdown",
      "source": [
        "### **Exponential Family of Distributions**  \n",
        "The **exponential family** is a broad class of probability distributions that can be written in the form:\n",
        "\n",
        "$\n",
        "p(x \\mid \\theta) = h(x) \\exp \\left( \\eta(\\theta) T(x) - A(\\theta) \\right)\n",
        "$\n",
        "\n",
        "Where:\n",
        "- $ x $ is the observed data.\n",
        "- $\\theta $ is the parameter of the distribution.\n",
        "- $ h(x) $ is the base measure (does not depend on $ \\theta $).\n",
        "- $ \\eta(\\theta)$ is the **natural parameter** or **canonical parameter**.\n",
        "- $ T(x) $ is the **sufficient statistic**.\n",
        "- $A(\\theta) $ is the **log partition function** (ensures normalization).\n",
        "\n",
        "This general form unifies many distributions, making it useful for statistical modeling.\n",
        "\n",
        "---\n",
        "\n",
        "## **Examples of the Exponential Family**\n",
        "Let's show how the **Bernoulli** and **Gaussian (with fixed variance)** distributions fit into this framework.\n",
        "\n",
        "### **1. Bernoulli Distribution**\n",
        "The **Bernoulli** distribution models a binary outcome $ x \\in \\{0,1\\} $ with probability $ p $:\n",
        "\n",
        "$\n",
        "p(x \\mid p) = p^x (1 - p)^{1-x}\n",
        "$\n",
        "\n",
        "We need to transform this into the exponential family format.\n",
        "\n",
        "#### **Step 1: Rewrite the Distribution**\n",
        "Taking the logarithm:\n",
        "\n",
        "$\n",
        "\\log p(x \\mid p) = x \\log p + (1-x) \\log(1 - p)\n",
        "$\n",
        "\n",
        "Rearrange:\n",
        "\n",
        "$\n",
        "\\log p(x \\mid p) = x \\log \\frac{p}{1 - p} + \\log(1 - p)\n",
        "$\n",
        "\n",
        "Comparing with the exponential family form:\n",
        "\n",
        "$\n",
        "p(x \\mid \\theta) = \\exp \\left( x \\eta - A(\\eta) \\right)\n",
        "$\n",
        "\n",
        "We identify:\n",
        "- **Natural parameter:** $\\eta = \\log \\frac{p}{1 - p} $ (log-odds or logit function).\n",
        "- **Sufficient statistic:** $ T(x) = x $.\n",
        "- **Log partition function:** $ A(\\eta) = -\\log(1 + e^\\eta) $.\n",
        "- **Base measure:** $h(x) = 1 $ (constant).\n",
        "\n",
        "Thus, the Bernoulli distribution belongs to the exponential family.\n",
        "\n",
        "---\n",
        "\n",
        "### **2. Gaussian Distribution (Fixed Variance = 1)**\n",
        "The Gaussian (Normal) distribution with mean $ \\mu $ and **fixed variance $\\sigma^2 = 1 $** has the probability density function:\n",
        "\n",
        "$\n",
        "p(x \\mid \\mu) = \\frac{1}{\\sqrt{2\\pi}} \\exp \\left( -\\frac{(x - \\mu)^2}{2} \\right)\n",
        "$\n",
        "\n",
        "#### **Step 1: Expand the Exponent**\n",
        "$\n",
        "-\\frac{(x - \\mu)^2}{2} = -\\frac{x^2}{2} + x\\mu - \\frac{\\mu^2}{2}\n",
        "$\n",
        "\n",
        "Rewriting:\n",
        "\n",
        "$\n",
        "p(x \\mid \\mu) = \\frac{1}{\\sqrt{2\\pi}} \\exp \\left( x \\mu - \\frac{\\mu^2}{2} - \\frac{x^2}{2} \\right)\n",
        "$\n",
        "\n",
        "Comparing with the exponential family:\n",
        "\n",
        "$\n",
        "p(x \\mid \\theta) = h(x) \\exp \\left( T(x) \\eta - A(\\eta) \\right)\n",
        "$\n",
        "\n",
        "We identify:\n",
        "- **Natural parameter:** $ \\eta = \\mu $.\n",
        "- **Sufficient statistic:** $ T(x) = x $.\n",
        "- **Log partition function:** $ A(\\eta) = \\frac{\\eta^2}{2} $.\n",
        "- **Base measure:** $h(x) = \\frac{1}{\\sqrt{2\\pi}} \\exp(-x^2/2) $.\n",
        "\n",
        "Thus, the Gaussian distribution with fixed variance belongs to the exponential family.\n",
        "\n",
        "---\n",
        "\n",
        "## **Properties of the Exponential Family**\n",
        "1. **Sufficiency of $ T(x) $**  \n",
        "   - The function $ T(x) $ is a sufficient statistic, meaning it captures all the necessary information about $ x $ to estimate $ \\theta $.\n",
        "   - This makes it useful for efficient parameter estimation.\n",
        "\n",
        "2. **Convexity of Log Partition Function $ A(\\theta) $**  \n",
        "   - The function $ A(\\theta) $ is convex, ensuring that optimization algorithms (e.g., maximum likelihood estimation) are stable.\n",
        "\n",
        "3. **Moment Generating Function and Mean-Variance Relationship**  \n",
        "   - The first derivative of $A(\\eta) $ gives the expectation:\n",
        "     $\n",
        "     \\mathbb{E}[T(X)] = A'(\\eta)\n",
        "     $\n",
        "   - The second derivative gives the variance:\n",
        "     $\n",
        "     \\text{Var}(T(X)) = A''(\\eta)\n",
        "     $\n",
        "   - This helps in parameter estimation and statistical inference.\n",
        "\n",
        "4. **Closure Under Sums**  \n",
        "   - If $X_1, X_2, ..., X_n $ are i.i.d. from an exponential family distribution, the sum $S = \\sum X_i $ also belongs to the same exponential family.\n",
        "\n",
        "5. **Conjugate Priors in Bayesian Statistics**  \n",
        "   - The exponential family often has **conjugate priors**, which simplify Bayesian inference. For example:\n",
        "     - The **Beta** distribution is the conjugate prior for the **Bernoulli**.\n",
        "     - The **Normal** distribution is the conjugate prior for itself.\n",
        "\n",
        "---\n",
        "\n",
        "## **Conclusion**\n",
        "The exponential family provides a **unified** way to represent many distributions, making it essential in **machine learning, statistics, and Bayesian inference**. It simplifies parameter estimation and is the foundation of **generalized linear models (GLMs)**."
      ],
      "metadata": {
        "id": "U-NW9UNVCd3A"
      }
    },
    {
      "cell_type": "markdown",
      "source": [
        "_______________________\n",
        "Here’s a structured table that matches different types of data with appropriate distributions from the **exponential family** for modeling:\n",
        "\n",
        "| **Type of Data**          | **Distribution**          | **Support** | **Sufficient Statistic $ T(x) $** | **Canonical Parameter $ \\eta $** | **Log Partition Function $ A(\\eta) $** |\n",
        "|---------------------------|--------------------------|-------------|--------------------------------------|-----------------------------------|--------------------------------------|\n",
        "| **Binary (0/1 outcomes)** | Bernoulli                | $ x \\in \\{0,1\\} $ | $ x $ | $ \\log \\frac{p}{1 - p} $ | $ -\\log(1 + e^\\eta) $ |\n",
        "| **Counts (0,1,2,...)**    | Poisson                  | $ x \\in \\mathbb{N} $ | $ x $ | $ \\log \\lambda $ | $ e^\\eta $ |\n",
        "| **Positive continuous**   | Exponential              | $ x > 0 $ | $ x $ | $ -\\lambda $ | $ -\\log(-\\eta) $ |\n",
        "| **Positive continuous**   | Gamma                    | $ x > 0 $ | $ \\log x, x $ | $ (\\alpha - 1, -\\beta) $ | $ -\\alpha \\log(-\\eta_2) $ |\n",
        "| **Continuous (real-valued)** | Gaussian (fixed variance) | $ x \\in \\mathbb{R} $ | $ x $ | $ \\mu $ | $ \\frac{\\eta^2}{2} $ |\n",
        "| **Continuous (variance unknown)** | Gaussian (unknown variance) | $ x \\in \\mathbb{R} $ | $ x, x^2 $ | $ (\\frac{\\mu}{\\sigma^2}, -\\frac{1}{2\\sigma^2}) $ | $ -\\frac{\\eta_1^2}{4\\eta_2} - \\frac{1}{2} \\log(-2\\eta_2) $ |\n",
        "| **Proportions (0 to 1)**  | Beta                     | $ x \\in (0,1) $ | $ \\log x, \\log (1 - x) $ | $ (\\alpha - 1, \\beta - 1) $ | $ \\log \\Gamma(\\eta_1 + \\eta_2) - \\log \\Gamma(\\eta_1) - \\log \\Gamma(\\eta_2) $ |\n",
        "| **Categorical (K classes)** | Categorical (Multinoulli) | $ x \\in \\{1,2,\\dots,K\\} $ | $ x $ | $ \\log p_k $ | $ \\log \\sum e^{\\eta_k} $ |\n",
        "| **Counts in multiple categories** | Multinomial             | $ x \\in \\mathbb{N}^K $ | $ x $ | $ \\log p_k $ | $ \\sum \\log(1 + e^{\\eta_k}) $ |\n",
        "\n",
        "### **How to Use This Table**\n",
        "- **Identify your data type:** If you have binary data, use **Bernoulli**. If you have counts, use **Poisson**, etc.\n",
        "- **Find the exponential family formulation:** Each distribution has a corresponding **sufficient statistic**, **natural parameter**, and **log partition function** that fits the exponential family framework.\n",
        "- **Generalized Linear Models (GLMs)** often use these distributions:\n",
        "  - **Logistic regression** → Bernoulli (for classification).\n",
        "  - **Poisson regression** → Poisson (for count data).\n",
        "  - **Gamma regression** → Gamma (for positive continuous data)."
      ],
      "metadata": {
        "id": "M37KoKvSGTyJ"
      }
    },
    {
      "cell_type": "markdown",
      "source": [
        "\n",
        "We provide **input data** $ X $ to a GLM, which estimates **model parameters** $ \\beta $. Then, the **linear predictor** (systematic component) is computed as:\n",
        "\n",
        "$\n",
        "\\eta = X \\beta\n",
        "$\n",
        "\n",
        "where:\n",
        "- $ X $ is the **design matrix** (input features),\n",
        "- $ \\beta $ is the **coefficient vector** (learned parameters),\n",
        "- $ \\eta $ is the **natural parameter** (also called the canonical parameter in the exponential family).\n",
        "\n",
        "Since GLMs assume the **response variable follows a distribution from the exponential family**, this natural parameter $ \\eta $ plays a crucial role in determining the probability distribution of the response variable.\n",
        "\n",
        "### **Additional Clarification**\n",
        "1. **Why do we compute $ \\eta = X \\beta $?**\n",
        "   - In exponential family distributions, the probability density (or mass) function can be written as:\n",
        "\n",
        "     $\n",
        "     p(y \\mid \\theta) = h(y) \\exp \\left( \\eta(\\theta) T(y) - A(\\theta) \\right)\n",
        "     $\n",
        "\n",
        "   - Here, $ \\eta(\\theta) $ (the natural parameter) controls how the data behaves. GLMs **learn $ \\beta $ such that the model best fits the data**.\n",
        "\n",
        "2. **What does $ \\eta $ do in practice?**\n",
        "   - Different distributions in the **exponential family** correspond to different natural parameters $ \\eta $:\n",
        "     - **Bernoulli (Logistic Regression)**: $ \\eta = \\log \\frac{p}{1 - p} $ (log-odds).\n",
        "     - **Poisson Regression**: $ \\eta = \\log \\lambda $ (log-rate).\n",
        "     - **Gaussian Regression (with variance fixed)**: $ \\eta = \\mu $ (mean).\n",
        "\n",
        "3. **What if we don't want $ \\eta $ directly?**\n",
        "   - Instead of predicting $ \\eta $ directly, we use a **link function** $ g(\\mu) $ to ensure the response variable's expected value $ \\mathbb{E}[Y] $ follows the right distribution.\n",
        "   - The relationship between the expected response and the natural parameter is:\n",
        "\n",
        "     $\n",
        "     g(\\mathbb{E}[Y]) = X \\beta\n",
        "     $\n",
        "\n",
        "   - For example:\n",
        "     - **Logistic regression** uses the **logit** function: $ g(p) = \\log \\frac{p}{1 - p} $.\n",
        "     - **Poisson regression** uses the **log** function: $ g(\\lambda) = \\log \\lambda $.\n",
        "     - **Linear regression** uses the **identity** function: $ g(\\mu) = \\mu $.\n",
        "\n"
      ],
      "metadata": {
        "id": "NiisqizNMO_q"
      }
    },
    {
      "cell_type": "markdown",
      "source": [
        "## **Abstract Intuition of Generalized Linear Models (GLMs)**  \n",
        "\n",
        "**Generalized Linear Models (GLMs)** extend linear regression by allowing:  \n",
        "1. **Different types of response variables** (binary, counts, proportions, etc.).  \n",
        "2. **A link function** that connects the linear predictors to the mean of the response variable.  \n",
        "3. **Distributions from the exponential family** to model data variability.  \n",
        "\n",
        "### **Three Key Components of GLMs**\n",
        "1. **Random Component**  \n",
        "   - Defines how the response variable $ Y $ is distributed, chosen from the **exponential family** (e.g., Bernoulli, Poisson, Gaussian).  \n",
        "\n",
        "2. **Systematic Component**  \n",
        "   - The linear predictor:  \n",
        "     $\n",
        "     \\eta = X\\beta\n",
        "     $  \n",
        "     where $ X $ is the input features and $ \\beta $ is the coefficient vector.  \n",
        "\n",
        "3. **Link Function**  \n",
        "   - A transformation function $ g(\\mu) $ that relates the expected value $ \\mathbb{E}[Y] $ to the linear predictor:  \n",
        "     $\n",
        "     g(\\mathbb{E}[Y]) = X\\beta\n",
        "     $  \n",
        "   - Common **link functions**:\n",
        "     - **Logit**: $ \\log \\frac{\\mu}{1 - \\mu} $ (for Bernoulli → logistic regression).\n",
        "     - **Log**: $ \\log \\mu $ (for Poisson → count data).\n",
        "     - **Identity**: $ \\mu $ (for Gaussian → standard regression).\n",
        "\n",
        "---\n",
        "\n",
        "## **Code Example: Implementing 3 GLMs in Python**  \n",
        "We will demonstrate:\n",
        "1. **Logistic Regression** (for binary classification using the Bernoulli distribution).  \n",
        "2. **Poisson Regression** (for count data).  \n",
        "3. **Gamma Regression** (for positive continuous data).  "
      ],
      "metadata": {
        "id": "vH6K6AZ8N8Es"
      }
    },
    {
      "cell_type": "code",
      "source": [
        "# We use **statsmodels** and **scikit-learn** for implementation.\n",
        "\n",
        "### **1. Logistic Regression (Binary Data, Bernoulli GLM)**\n",
        "import numpy as np\n",
        "import pandas as pd\n",
        "import statsmodels.api as sm\n",
        "from sklearn.model_selection import train_test_split\n",
        "from sklearn.datasets import make_classification\n",
        "\n",
        "# Generate synthetic binary classification data\n",
        "X, y = make_classification(n_samples=200, n_features=3, n_informative=2, n_redundant=1, random_state=42)\n",
        "X = sm.add_constant(X)  # Add intercept\n",
        "\n",
        "# Fit a logistic regression (Bernoulli GLM with logit link)\n",
        "model_logistic = sm.GLM(y, X, family=sm.families.Binomial(link=sm.families.links.logit())).fit()\n",
        "\n",
        "# Print summary\n",
        "print(model_logistic.summary())\n",
        "# 🔹 **Explanation:**\n",
        "# - **Bernoulli distribution** models binary responses (0/1).\n",
        "# - **Logit link function** ensures $ p(x) $ stays between 0 and 1."
      ],
      "metadata": {
        "colab": {
          "base_uri": "https://localhost:8080/"
        },
        "id": "x_eBzcElOF0z",
        "outputId": "b6dba650-a888-40bc-af74-547a5b9bd043"
      },
      "execution_count": 5,
      "outputs": [
        {
          "output_type": "stream",
          "name": "stdout",
          "text": [
            "                 Generalized Linear Model Regression Results                  \n",
            "==============================================================================\n",
            "Dep. Variable:                      y   No. Observations:                  200\n",
            "Model:                            GLM   Df Residuals:                      197\n",
            "Model Family:                Binomial   Df Model:                            2\n",
            "Link Function:                  logit   Scale:                          1.0000\n",
            "Method:                          IRLS   Log-Likelihood:                -68.555\n",
            "Date:                Sun, 26 Jan 2025   Deviance:                       137.11\n",
            "Time:                        06:11:47   Pearson chi2:                     240.\n",
            "No. Iterations:                    21   Pseudo R-squ. (CS):             0.5038\n",
            "Covariance Type:            nonrobust                                         \n",
            "==============================================================================\n",
            "                 coef    std err          z      P>|z|      [0.025      0.975]\n",
            "------------------------------------------------------------------------------\n",
            "const         -0.1258      0.220     -0.572      0.567      -0.557       0.305\n",
            "x1             2.0687      0.287      7.200      0.000       1.506       2.632\n",
            "x2             0.0751      0.115      0.656      0.512      -0.149       0.300\n",
            "x3             0.6696      0.113      5.951      0.000       0.449       0.890\n",
            "==============================================================================\n"
          ]
        },
        {
          "output_type": "stream",
          "name": "stderr",
          "text": [
            "/usr/local/lib/python3.11/dist-packages/statsmodels/genmod/families/links.py:13: FutureWarning: The logit link alias is deprecated. Use Logit instead. The logit link alias will be removed after the 0.15.0 release.\n",
            "  warnings.warn(\n"
          ]
        }
      ]
    },
    {
      "cell_type": "code",
      "source": [
        "### **2. Poisson Regression (Count Data, Poisson GLM)**\n",
        "from sklearn.datasets import make_regression\n",
        "\n",
        "# Generate synthetic count data\n",
        "np.random.seed(42)\n",
        "X = np.random.rand(200, 3)  # Features\n",
        "y = np.random.poisson(lam=np.exp(1 + X @ np.array([0.5, -0.3, 0.8])), size=200)  # Poisson-distributed response\n",
        "X = sm.add_constant(X)  # Add intercept\n",
        "\n",
        "# Fit Poisson regression (Poisson GLM with log link)\n",
        "model_poisson = sm.GLM(y, X, family=sm.families.Poisson(link=sm.families.links.log())).fit()\n",
        "\n",
        "# Print summary\n",
        "print(model_poisson.summary())"
      ],
      "metadata": {
        "colab": {
          "base_uri": "https://localhost:8080/"
        },
        "id": "zLYMeDyjPZcj",
        "outputId": "ec1ce3e6-6b5d-4df8-83eb-b71538a27146"
      },
      "execution_count": 7,
      "outputs": [
        {
          "output_type": "stream",
          "name": "stdout",
          "text": [
            "                 Generalized Linear Model Regression Results                  \n",
            "==============================================================================\n",
            "Dep. Variable:                      y   No. Observations:                  200\n",
            "Model:                            GLM   Df Residuals:                      196\n",
            "Model Family:                 Poisson   Df Model:                            3\n",
            "Link Function:                    log   Scale:                          1.0000\n",
            "Method:                          IRLS   Log-Likelihood:                -421.38\n",
            "Date:                Sun, 26 Jan 2025   Deviance:                       200.37\n",
            "Time:                        06:12:53   Pearson chi2:                     194.\n",
            "No. Iterations:                     4   Pseudo R-squ. (CS):             0.3050\n",
            "Covariance Type:            nonrobust                                         \n",
            "==============================================================================\n",
            "                 coef    std err          z      P>|z|      [0.025      0.975]\n",
            "------------------------------------------------------------------------------\n",
            "const          1.0468      0.104     10.030      0.000       0.842       1.251\n",
            "x1             0.4152      0.117      3.553      0.000       0.186       0.644\n",
            "x2            -0.3559      0.111     -3.208      0.001      -0.573      -0.138\n",
            "x3             0.8050      0.112      7.188      0.000       0.585       1.025\n",
            "==============================================================================\n"
          ]
        },
        {
          "output_type": "stream",
          "name": "stderr",
          "text": [
            "/usr/local/lib/python3.11/dist-packages/statsmodels/genmod/families/links.py:13: FutureWarning: The log link alias is deprecated. Use Log instead. The log link alias will be removed after the 0.15.0 release.\n",
            "  warnings.warn(\n"
          ]
        }
      ]
    },
    {
      "cell_type": "code",
      "source": [
        "### **3. Gamma Regression (Positive Continuous Data, Gamma GLM)**\n",
        "# Generate synthetic positive continuous data\n",
        "np.random.seed(42)\n",
        "X = np.random.rand(200, 2)\n",
        "y = np.random.gamma(shape=2, scale=np.exp(1 + X @ np.array([0.3, 0.6])), size=200)  # Gamma-distributed response\n",
        "X = sm.add_constant(X)  # Add intercept\n",
        "\n",
        "# Fit Gamma regression (Gamma GLM with log link)\n",
        "model_gamma = sm.GLM(y, X, family=sm.families.Gamma(link=sm.families.links.log())).fit()\n",
        "\n",
        "# Print summary\n",
        "print(model_gamma.summary())"
      ],
      "metadata": {
        "colab": {
          "base_uri": "https://localhost:8080/"
        },
        "id": "A5qWfEsePu6G",
        "outputId": "f40748b9-fb6a-49ab-dc73-afd8e7d9d4d2"
      },
      "execution_count": 9,
      "outputs": [
        {
          "output_type": "stream",
          "name": "stdout",
          "text": [
            "                 Generalized Linear Model Regression Results                  \n",
            "==============================================================================\n",
            "Dep. Variable:                      y   No. Observations:                  200\n",
            "Model:                            GLM   Df Residuals:                      197\n",
            "Model Family:                   Gamma   Df Model:                            2\n",
            "Link Function:                    log   Scale:                         0.53206\n",
            "Method:                          IRLS   Log-Likelihood:                -604.83\n",
            "Date:                Sun, 26 Jan 2025   Deviance:                       110.56\n",
            "Time:                        06:14:14   Pearson chi2:                     105.\n",
            "No. Iterations:                    11   Pseudo R-squ. (CS):             0.1122\n",
            "Covariance Type:            nonrobust                                         \n",
            "==============================================================================\n",
            "                 coef    std err          z      P>|z|      [0.025      0.975]\n",
            "------------------------------------------------------------------------------\n",
            "const          1.6794      0.131     12.855      0.000       1.423       1.935\n",
            "x1             0.0542      0.172      0.315      0.752      -0.283       0.391\n",
            "x2             0.8718      0.181      4.829      0.000       0.518       1.226\n",
            "==============================================================================\n"
          ]
        },
        {
          "output_type": "stream",
          "name": "stderr",
          "text": [
            "/usr/local/lib/python3.11/dist-packages/statsmodels/genmod/families/links.py:13: FutureWarning: The log link alias is deprecated. Use Log instead. The log link alias will be removed after the 0.15.0 release.\n",
            "  warnings.warn(\n"
          ]
        }
      ]
    },
    {
      "cell_type": "markdown",
      "source": [
        "## **Summary of GLMs and Their Uses**\n",
        "| **GLM Type**           | **Response Variable Type** | **Distribution** | **Link Function** |\n",
        "|------------------------|---------------------------|-----------------|-----------------|\n",
        "| **Logistic Regression** | Binary (0/1)              | Bernoulli       | Logit ($ \\log \\frac{p}{1 - p} $) |\n",
        "| **Poisson Regression**  | Count (0,1,2,...)         | Poisson         | Log ($ \\log \\lambda $) |\n",
        "| **Gamma Regression**    | Positive continuous       | Gamma           | Log ($ \\log \\mu $) |\n",
        "\n",
        "---\n",
        "\n",
        "## **Takeaways**\n",
        "- **GLMs extend linear regression** to handle different types of response variables.  \n",
        "- **The choice of distribution and link function depends on the data type.**  \n",
        "- **GLMs unify many classical models** (e.g., logistic regression, Poisson regression)."
      ],
      "metadata": {
        "id": "3KRznn1lP41O"
      }
    }
  ]
}